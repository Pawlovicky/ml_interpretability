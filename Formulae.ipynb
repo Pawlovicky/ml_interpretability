{
 "cells": [
  {
   "cell_type": "markdown",
   "metadata": {},
   "source": [
    "$$ f(x) = f(x_0,..., x_i,..., x_k) $$"
   ]
  },
  {
   "cell_type": "markdown",
   "metadata": {},
   "source": [
    "$$ \\text{PDP}_f(x_i) = E_{x \\in K\\\\{i\\}}(f(x)) $$"
   ]
  },
  {
   "cell_type": "markdown",
   "metadata": {},
   "source": [
    "$$ \\text{PDP}_f (x_i) \\equiv E_{x \\in K\\setminus\\{i\\}} = \\int f(x_0,\\ldots, x_i,\\ldots, x_k) dP(x_0,\\ldots, x_{i-1}, x_{i+1},\\ldots, x_k)$$"
   ]
  },
  {
   "cell_type": "markdown",
   "metadata": {},
   "source": [
    "$$ \\text{PDP}_f (x_i) \\approx \\dfrac{1}{n} \\sum_{j=1}^n   f(x^{(j)}_0,\\ldots, x_i,\\ldots, x^{(j)}_k) $$"
   ]
  },
  {
   "cell_type": "markdown",
   "metadata": {},
   "source": [
    "$$ \\text{M}_f (x_i) \\equiv E\\left[f(X) | X_i = x_i\\right] = \n",
    "\\int f(x_0,\\ldots, x_i,\\ldots, x_k) p(x_0,\\ldots,x_n|x_i = x_i) d(x_0,\\ldots, x_{i-1}, x_{i+1},\\ldots, x_k)$$"
   ]
  },
  {
   "cell_type": "markdown",
   "metadata": {},
   "source": [
    "$$ \\text{ICE}_{f_{j}} (x_i) =  f(x^{(j)}_0,\\ldots, x_i,\\ldots, x^{(j)}_k) $$"
   ]
  },
  {
   "cell_type": "markdown",
   "metadata": {},
   "source": [
    "$$ \\hat{\\text{ICE}}_{f_{j}} (x_i) =  f(x^{(j)}_0,\\ldots, x_i,\\ldots, x^{(j)}_k) - f(x^{(j)}_0,\\ldots, x^{(a)}_i,\\ldots, x^{(j)}_k) $$"
   ]
  },
  {
   "cell_type": "markdown",
   "metadata": {},
   "source": [
    "$$ y = b_0 x_0 + c_{01} x_0 x_1 + \\epsilon$$"
   ]
  }
 ],
 "metadata": {
  "kernelspec": {
   "display_name": "Python 3",
   "language": "python",
   "name": "python3"
  },
  "language_info": {
   "codemirror_mode": {
    "name": "ipython",
    "version": 3
   },
   "file_extension": ".py",
   "mimetype": "text/x-python",
   "name": "python",
   "nbconvert_exporter": "python",
   "pygments_lexer": "ipython3",
   "version": "3.5.2"
  }
 },
 "nbformat": 4,
 "nbformat_minor": 2
}
