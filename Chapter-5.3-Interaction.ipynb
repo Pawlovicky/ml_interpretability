{
 "cells": [
  {
   "cell_type": "markdown",
   "metadata": {},
   "source": [
    "# 1. Interactions\n",
    "Let's assume that we have a true model, as defined below\n",
    "\\begin{align}\n",
    "y = a_0 + a_1 x_1 + a_2 x_2 + c_{12} x_1 x_2\n",
    "\\end{align}\n",
    "\n",
    "1. Does adding $x_1 x_2$ as a feature improve the cross validation score ?\n",
    "-> The answer appears to be yes for ET\n",
    "\n",
    "\n",
    "2. Is there any way to discover systematically that features $x_1$ and $x_2$ interact with each other ?"
   ]
  },
  {
   "cell_type": "code",
   "execution_count": 91,
   "metadata": {},
   "outputs": [],
   "source": [
    "Xnoise = np.random.normal(0, 1, 5000).reshape(500, 10)"
   ]
  },
  {
   "cell_type": "code",
   "execution_count": 95,
   "metadata": {
    "scrolled": true
   },
   "outputs": [],
   "source": [
    "import pandas as pd\n",
    "import numpy as np\n",
    "import matplotlib.pyplot as plt\n",
    "from sklearn.ensemble import RandomForestRegressor \n",
    "from sklearn.ensemble import ExtraTreesRegressor \n",
    "X = np.random.normal(0, 3, 1000).reshape((500, 2))\n",
    "X = np.concatenate([np.expand_dims(np.ones(500), axis=1), X], axis=1)\n",
    "Xnoise = np.random.normal(0, 1, 5000).reshape(500, 10)\n",
    "Xprime = np.concatenate([X, np.expand_dims(X[:, 1]*X[:, 2], axis=1)], \n",
    "                         axis=1)\n",
    "Xwnoise = np.concatenate([X, Xnoise], \n",
    "                         axis=1)\n",
    "epsilon = np.random.normal(0, 0.2, 500)\n",
    "a_0 = 0.3\n",
    "a_1 = 0.1\n",
    "a_2 = 0.1\n",
    "c_12 = 1\n",
    "y = a_0 + a_1*X[:, 1] + a_2*X[:, 2] + c_12*X[:, 1]*X[:, 2] + epsilon"
   ]
  },
  {
   "cell_type": "code",
   "execution_count": 115,
   "metadata": {},
   "outputs": [
    {
     "data": {
      "text/html": [
       "<div>\n",
       "<style scoped>\n",
       "    .dataframe tbody tr th:only-of-type {\n",
       "        vertical-align: middle;\n",
       "    }\n",
       "\n",
       "    .dataframe tbody tr th {\n",
       "        vertical-align: top;\n",
       "    }\n",
       "\n",
       "    .dataframe thead th {\n",
       "        text-align: right;\n",
       "    }\n",
       "</style>\n",
       "<table border=\"1\" class=\"dataframe\">\n",
       "  <thead>\n",
       "    <tr style=\"text-align: right;\">\n",
       "      <th></th>\n",
       "      <th>0</th>\n",
       "      <th>1</th>\n",
       "      <th>2</th>\n",
       "      <th>3</th>\n",
       "    </tr>\n",
       "  </thead>\n",
       "  <tbody>\n",
       "    <tr>\n",
       "      <th>0</th>\n",
       "      <td>NaN</td>\n",
       "      <td>NaN</td>\n",
       "      <td>NaN</td>\n",
       "      <td>NaN</td>\n",
       "    </tr>\n",
       "    <tr>\n",
       "      <th>1</th>\n",
       "      <td>NaN</td>\n",
       "      <td>1.000000</td>\n",
       "      <td>0.076442</td>\n",
       "      <td>-0.132130</td>\n",
       "    </tr>\n",
       "    <tr>\n",
       "      <th>2</th>\n",
       "      <td>NaN</td>\n",
       "      <td>0.076442</td>\n",
       "      <td>1.000000</td>\n",
       "      <td>0.045238</td>\n",
       "    </tr>\n",
       "    <tr>\n",
       "      <th>3</th>\n",
       "      <td>NaN</td>\n",
       "      <td>-0.132130</td>\n",
       "      <td>0.045238</td>\n",
       "      <td>1.000000</td>\n",
       "    </tr>\n",
       "  </tbody>\n",
       "</table>\n",
       "</div>"
      ],
      "text/plain": [
       "    0         1         2         3\n",
       "0 NaN       NaN       NaN       NaN\n",
       "1 NaN  1.000000  0.076442 -0.132130\n",
       "2 NaN  0.076442  1.000000  0.045238\n",
       "3 NaN -0.132130  0.045238  1.000000"
      ]
     },
     "execution_count": 115,
     "metadata": {},
     "output_type": "execute_result"
    }
   ],
   "source": [
    "pd.DataFrame(Xprime).corr()"
   ]
  },
  {
   "cell_type": "markdown",
   "metadata": {},
   "source": [
    "# Question 1:\n",
    "For a random forest, is it easier to fit if we add x_1 x_2 as a feature ?"
   ]
  },
  {
   "cell_type": "code",
   "execution_count": 70,
   "metadata": {},
   "outputs": [],
   "source": [
    "from sklearn import metrics\n",
    "from sklearn.model_selection import KFold\n",
    "from sklearn.base import clone\n",
    "import copy\n",
    "\n",
    "def hbar_plot(x, err, xticks, title):\n",
    "    plt.figure(figsize=(10, 10))\n",
    "    plt.title(title)\n",
    "    bar_no = x.shape[0]\n",
    "    plt.barh(range(bar_no), x, color='lightblue', xerr=err, align='center')\n",
    "    plt.yticks(range(bar_no), xticks)\n",
    "    plt.gca().invert_yaxis()\n",
    "    #plt.xlim([-1, bar_no])\n",
    "    plt.show()\n",
    "    \n",
    "def permutate_and_score(clf, X_test, y_test, i, metric_fn, **kwargs):\n",
    "    X_test_ = copy.deepcopy(X_test)\n",
    "    np.random.shuffle(X_test_[i])\n",
    "    y_pred = clf.predict(X_test_)\n",
    "    return metric_fn(y_test, y_pred)\n",
    "\n",
    "def drop_refit_and_score(clf, X_test, y_test, X_train, y_train, i, metric_fn):\n",
    "    X_train_ = np.delete(copy.deepcopy(X_train), i, axis=1)\n",
    "    X_test_ = np.delete(copy.deepcopy(X_test), i, axis=1)\n",
    "    clf_ = clone(clf)\n",
    "    clf_.random_state = 0\n",
    "    clf_.fit(X_train_, y_train)\n",
    "    y_pred = clf_.predict(X_test_)\n",
    "    return metric_fn(y_test, y_pred)\n",
    "\n",
    "def calc_stats(dscores, colnms):\n",
    "    bias_corr = (dscores.shape[0]-1.5)**-.5\n",
    "    summary = pd.DataFrame([np.mean(dscores, axis=0),\n",
    "                            np.std(dscores, axis=0)*bias_corr],\n",
    "                            columns=colnms,\n",
    "                            index=['mean', 'std'])\n",
    "    summary = summary.T.sort_values('mean', ascending=False)\n",
    "    return summary\n",
    "\n",
    "def calc_mda(clf, X, y, folds, metric_fn, score_fn):\n",
    "    kf = KFold(n_splits=folds, shuffle=True)\n",
    "    kf.get_n_splits(X)\n",
    "    decrease_scores = []\n",
    "    for train, test in kf.split(X):\n",
    "        clf_ = clone(clf)\n",
    "        clf_.random_state = 0\n",
    "        clf_.fit(X[train], y[train])\n",
    "        y_pred = clf_.predict(X[test])\n",
    "        base = metric_fn(y[test], y_pred)\n",
    "        print(base)\n",
    "        param_dict = {'clf':clf_, 'X_train': X[train], 'y_train': y[train],\n",
    "                      'X_test': X[test], 'y_test':y[test],\n",
    "                      'metric_fn': metric_fn}\n",
    "        decrease_scores.append([base - score_fn(**dict(param_dict, i=i)) \n",
    "                                for i in range(X[train].shape[1])])\n",
    "    return np.array(decrease_scores)\n"
   ]
  },
  {
   "cell_type": "code",
   "execution_count": null,
   "metadata": {},
   "outputs": [],
   "source": [
    "rf.fit(X, y)"
   ]
  },
  {
   "cell_type": "code",
   "execution_count": 112,
   "metadata": {},
   "outputs": [
    {
     "name": "stdout",
     "output_type": "stream",
     "text": [
      "0.9488147418892752\n",
      "0.8126817159744105\n",
      "0.9300944099641187\n",
      "0.9272392334350484\n",
      "0.8182519395366848\n",
      "0.8866629565880463\n",
      "0.9469320194733092\n",
      "0.8205122069052256\n",
      "0.8112219734929658\n",
      "0.8953845090219276\n"
     ]
    },
    {
     "data": {
      "image/png": "[encoded data removed]",
      "text/plain": [
       "<Figure size 720x720 with 1 Axes>"
      ]
     },
     "metadata": {
      "needs_background": "light"
     },
     "output_type": "display_data"
    }
   ],
   "source": [
    "x_cols = list(range(Xwnoise.shape[1]))\n",
    "rf = ExtraTreesRegressor(n_estimators=1000, max_depth=None, \n",
    "                           random_state=0, min_samples_split=10)\n",
    "dscores = calc_mda(rf, Xwnoise, y, folds=10, metric_fn=metrics.r2_score, \n",
    "                   score_fn=drop_refit_and_score)\n",
    "stats = calc_stats(dscores, x_cols)  \n",
    "hbar_plot(stats['mean'], stats['std'], stats.index, 'Mean Decrease Accuracy')"
   ]
  },
  {
   "cell_type": "code",
   "execution_count": 105,
   "metadata": {},
   "outputs": [
    {
     "name": "stdout",
     "output_type": "stream",
     "text": [
      "0.8424950323842291\n",
      "0.7511304338829446\n",
      "0.9461625409389555\n",
      "0.9200300997781442\n",
      "0.7963119325984662\n",
      "0.9219020905341034\n",
      "0.8467546470454342\n",
      "0.7987301443205188\n",
      "0.9542831376727375\n",
      "0.9124532805178702\n"
     ]
    },
    {
     "data": {
      "image/png": "[encoded data removed]",
      "text/plain": [
       "<Figure size 720x720 with 1 Axes>"
      ]
     },
     "metadata": {
      "needs_background": "light"
     },
     "output_type": "display_data"
    }
   ],
   "source": [
    "x_cols = list(range(Xwnoise.shape[1]))\n",
    "rf = ExtraTreesRegressor(n_estimators=1000, max_depth=None, \n",
    "                           random_state=0, min_samples_split=10)\n",
    "dscores = calc_mda(rf, Xwnoise, y, folds=10, metric_fn=metrics.r2_score, \n",
    "                   score_fn=permutate_and_score)\n",
    "stats = calc_stats(dscores, x_cols)  \n",
    "hbar_plot(stats['mean'], stats['std'], stats.index, 'Mean Decrease Accuracy')"
   ]
  },
  {
   "cell_type": "code",
   "execution_count": 106,
   "metadata": {},
   "outputs": [
    {
     "data": {
      "text/html": [
       "<div>\n",
       "<style scoped>\n",
       "    .dataframe tbody tr th:only-of-type {\n",
       "        vertical-align: middle;\n",
       "    }\n",
       "\n",
       "    .dataframe tbody tr th {\n",
       "        vertical-align: top;\n",
       "    }\n",
       "\n",
       "    .dataframe thead th {\n",
       "        text-align: right;\n",
       "    }\n",
       "</style>\n",
       "<table border=\"1\" class=\"dataframe\">\n",
       "  <thead>\n",
       "    <tr style=\"text-align: right;\">\n",
       "      <th></th>\n",
       "      <th>mean</th>\n",
       "      <th>std</th>\n",
       "      <th>ratio</th>\n",
       "    </tr>\n",
       "  </thead>\n",
       "  <tbody>\n",
       "    <tr>\n",
       "      <th>0</th>\n",
       "      <td>0.012070</td>\n",
       "      <td>0.003163</td>\n",
       "      <td>3.815704</td>\n",
       "    </tr>\n",
       "    <tr>\n",
       "      <th>3</th>\n",
       "      <td>0.006216</td>\n",
       "      <td>0.002234</td>\n",
       "      <td>2.782974</td>\n",
       "    </tr>\n",
       "    <tr>\n",
       "      <th>5</th>\n",
       "      <td>0.014763</td>\n",
       "      <td>0.005868</td>\n",
       "      <td>2.515979</td>\n",
       "    </tr>\n",
       "    <tr>\n",
       "      <th>12</th>\n",
       "      <td>0.010889</td>\n",
       "      <td>0.004667</td>\n",
       "      <td>2.333250</td>\n",
       "    </tr>\n",
       "    <tr>\n",
       "      <th>4</th>\n",
       "      <td>0.010737</td>\n",
       "      <td>0.005309</td>\n",
       "      <td>2.022488</td>\n",
       "    </tr>\n",
       "    <tr>\n",
       "      <th>2</th>\n",
       "      <td>0.017823</td>\n",
       "      <td>0.008986</td>\n",
       "      <td>1.983499</td>\n",
       "    </tr>\n",
       "    <tr>\n",
       "      <th>10</th>\n",
       "      <td>0.018472</td>\n",
       "      <td>0.009522</td>\n",
       "      <td>1.939864</td>\n",
       "    </tr>\n",
       "    <tr>\n",
       "      <th>6</th>\n",
       "      <td>0.041654</td>\n",
       "      <td>0.022164</td>\n",
       "      <td>1.879369</td>\n",
       "    </tr>\n",
       "    <tr>\n",
       "      <th>1</th>\n",
       "      <td>0.040284</td>\n",
       "      <td>0.021817</td>\n",
       "      <td>1.846427</td>\n",
       "    </tr>\n",
       "    <tr>\n",
       "      <th>9</th>\n",
       "      <td>0.032612</td>\n",
       "      <td>0.018926</td>\n",
       "      <td>1.723177</td>\n",
       "    </tr>\n",
       "    <tr>\n",
       "      <th>8</th>\n",
       "      <td>0.017259</td>\n",
       "      <td>0.010579</td>\n",
       "      <td>1.631416</td>\n",
       "    </tr>\n",
       "    <tr>\n",
       "      <th>7</th>\n",
       "      <td>0.013727</td>\n",
       "      <td>0.009219</td>\n",
       "      <td>1.489057</td>\n",
       "    </tr>\n",
       "    <tr>\n",
       "      <th>11</th>\n",
       "      <td>0.033835</td>\n",
       "      <td>0.026321</td>\n",
       "      <td>1.285468</td>\n",
       "    </tr>\n",
       "  </tbody>\n",
       "</table>\n",
       "</div>"
      ],
      "text/plain": [
       "        mean       std     ratio\n",
       "0   0.012070  0.003163  3.815704\n",
       "3   0.006216  0.002234  2.782974\n",
       "5   0.014763  0.005868  2.515979\n",
       "12  0.010889  0.004667  2.333250\n",
       "4   0.010737  0.005309  2.022488\n",
       "2   0.017823  0.008986  1.983499\n",
       "10  0.018472  0.009522  1.939864\n",
       "6   0.041654  0.022164  1.879369\n",
       "1   0.040284  0.021817  1.846427\n",
       "9   0.032612  0.018926  1.723177\n",
       "8   0.017259  0.010579  1.631416\n",
       "7   0.013727  0.009219  1.489057\n",
       "11  0.033835  0.026321  1.285468"
      ]
     },
     "execution_count": 106,
     "metadata": {},
     "output_type": "execute_result"
    }
   ],
   "source": [
    "stats.assign(ratio = lambda x: x['mean']/x['std']).sort_values('ratio', ascending=False)"
   ]
  },
  {
   "cell_type": "code",
   "execution_count": 111,
   "metadata": {},
   "outputs": [
    {
     "name": "stdout",
     "output_type": "stream",
     "text": [
      "CPU times: user 52.3 s, sys: 0 ns, total: 52.3 s\n",
      "Wall time: 52.3 s\n"
     ]
    },
    {
     "data": {
      "image/png": "[encoded data removed]",
      "text/plain": [
       "<Figure size 432x288 with 1 Axes>"
      ]
     },
     "metadata": {
      "needs_background": "light"
     },
     "output_type": "display_data"
    }
   ],
   "source": [
    "%%time\n",
    "def lin_space_or_unique(x, lin_num):\n",
    "    unique_elements = np.unique(np.sort(x))\n",
    "    if unique_elements.shape[0] <= lin_num:\n",
    "        X_vals = unique_elements\n",
    "    else:\n",
    "        X_vals = np.linspace(min(unique_elements), max(unique_elements), \n",
    "                             num=lin_num)\n",
    "    return X_vals\n",
    "\n",
    "def create_grid(X, remaining_features, lin_num):\n",
    "    feature_lists = [lin_space_or_unique(X[:, idx], lin_num) for idx in \n",
    "                     remaining_features]\n",
    "    x = np.meshgrid(*feature_lists)\n",
    "    out = np.array([m.flatten() for m in x]).T\n",
    "    return out\n",
    "\n",
    "def pdp_fun(X_s, X, remaining_features, rf, subtract_mean=True):\n",
    "    x_vals = np.vstack([X]*X_s.shape[0])\n",
    "    X_s_repeat = np.repeat(X_s, X.shape[0], axis=0)\n",
    "    X_s_repeat.shape\n",
    "    x_vals[:, remaining_features] = X_s_repeat\n",
    "    y_vals = rf.predict(x_vals)\n",
    "    y_out = np.mean(y_vals.reshape(-1, X.shape[0]), axis=1)\n",
    "    #x_vals = x_vals[:, remaining_features].reshape(X.shape[0], X_s.shape[0])\n",
    "    if subtract_mean is True:\n",
    "        y_out = y_out - np.mean(y_out)\n",
    "    return X_s, y_out\n",
    "\n",
    "def friedman_Hjk2(rfeat, X, rf):\n",
    "    _, PDjki = pdp_fun(X[:, rfeat], X, rfeat, rf)\n",
    "    _, PDjk = pdp_fun(X[:, [rfeat[0]]], X, [rfeat[0]], rf)\n",
    "    _, PDji = pdp_fun(X[:, [rfeat[1]]], X, [rfeat[1]], rf)              \n",
    "    Hjk2 = np.power(PDjki - PDjk - PDji, 2).sum()/np.power(PDjik, 2).sum()\n",
    "    return Hjk2\n",
    "\n",
    "def friedman_Hj2(feat_no, X, rf):\n",
    "    minus_j = np.r_[0:feat_no, (feat_no + 1):X.shape[1]]\n",
    "    fbar = rf.predict(X)\n",
    "    fbar = fbar - np.mean(fbar)\n",
    "    _, PDj = pdp_fun(X[:, [feat_no]], X, [feat_no], rf)\n",
    "    _, PDminusj = pdp_fun(X[:, minus_j], X, minus_j, rf)\n",
    "    Hj2 = np.power(fbar - PDj - PDminusj, 2).sum()/np.power(fbar, 2).sum()\n",
    "    return Hj2\n",
    "\n",
    "def calc_and_plot_Hj2(X, rf, full_feature_list):\n",
    "    Hj2_list = [friedman_Hj2(i, X, rf) for i, v in \n",
    "                enumerate(full_feature_list)]\n",
    "    out_vals = pd.DataFrame(Hj2_list, index=full_feature_list, \n",
    "                            columns=['Hj2'])\\\n",
    "                 .sort_values('Hj2', ascending=False)\n",
    "    out_vals.plot.bar()\n",
    "    return out_vals\n",
    "\n",
    "rf = ExtraTreesRegressor(n_estimators=500, max_depth=None, \n",
    "                           random_state=0)#, min_samples_split=10)\n",
    "rf = rf.fit(Xwnoise, y)\n",
    "full_feature_list = list(range(Xwnoise.shape[1]))\n",
    "calc_and_plot_Hj2(Xwnoise, rf, full_feature_list)"
   ]
  },
  {
   "cell_type": "code",
   "execution_count": 110,
   "metadata": {},
   "outputs": [
    {
     "data": {
      "text/plain": [
       "[0, 1, 2, 3, 4, 5, 6, 7, 8, 9, 10, 11, 12]"
      ]
     },
     "execution_count": 110,
     "metadata": {},
     "output_type": "execute_result"
    }
   ],
   "source": [
    "list(range(Xwnoise.shape[1]))"
   ]
  },
  {
   "cell_type": "code",
   "execution_count": 85,
   "metadata": {
    "scrolled": false
   },
   "outputs": [
    {
     "name": "stdout",
     "output_type": "stream",
     "text": [
      "0.9953748092513232\n",
      "0.9973338027576264\n",
      "0.9979467846357934\n",
      "0.9980731114797333\n",
      "0.9982552975603093\n",
      "0.9987808917288733\n",
      "0.9977884700778767\n",
      "0.996034361424642\n",
      "0.999033938179\n",
      "0.9980734336554529\n"
     ]
    },
    {
     "data": {
      "image/png": "[encoded data removed]",
      "text/plain": [
       "<Figure size 720x720 with 1 Axes>"
      ]
     },
     "metadata": {
      "needs_background": "light"
     },
     "output_type": "display_data"
    }
   ],
   "source": [
    "x_cols = [0, 1, 2, 3]\n",
    "\n",
    "rf = ExtraTreesRegressor(n_estimators=1000, max_depth=None, \n",
    "                           random_state=0)#, min_samples_split=10)\n",
    "dscores = calc_mda(rf, Xprime, y, folds=10, metric_fn=metrics.r2_score, \n",
    "                   score_fn=permutate_and_score)\n",
    "stats = calc_stats(dscores, x_cols)  \n",
    "hbar_plot(stats['mean'], stats['std'], stats.index, 'Mean Decrease Accuracy')"
   ]
  },
  {
   "cell_type": "code",
   "execution_count": 62,
   "metadata": {},
   "outputs": [],
   "source": [
    "from sklearn.linear_model import LassoCV\n",
    "#from sklearn.datasets import make_regression\n",
    "#X, y = make_regression(noise=4, random_state=0)\n",
    "reg = LassoCV(cv=5, random_state=0).fit(Xprime, y)"
   ]
  },
  {
   "cell_type": "code",
   "execution_count": 64,
   "metadata": {},
   "outputs": [
    {
     "data": {
      "text/plain": [
       "0.0"
      ]
     },
     "execution_count": 64,
     "metadata": {},
     "output_type": "execute_result"
    }
   ],
   "source": [
    "reg.score(Xprime, y) "
   ]
  },
  {
   "cell_type": "code",
   "execution_count": 58,
   "metadata": {},
   "outputs": [
    {
     "name": "stdout",
     "output_type": "stream",
     "text": [
      "-0.09299700467489491\n",
      "-0.08822381181439654\n",
      "-0.00023140805065602343\n",
      "-0.21325766805232194\n",
      "-0.023537272932137032\n",
      "-0.02598891613029286\n",
      "-0.05750711845010614\n",
      "-0.016081213794380655\n",
      "-0.03813827919784418\n",
      "-0.1392842862653756\n"
     ]
    },
    {
     "data": {
      "image/png": "[encoded data removed]",
      "text/plain": [
       "<Figure size 720x720 with 1 Axes>"
      ]
     },
     "metadata": {
      "needs_background": "light"
     },
     "output_type": "display_data"
    }
   ],
   "source": [
    "from sklearn.linear_model import LinearRegression\n",
    "x_cols = [0, 1, 2, 3]\n",
    "rf = LinearRegression()#, min_samples_split=10)\n",
    "dscores = calc_mda(rf, Xprime, y, folds=10, metric_fn=metrics.r2_score, \n",
    "                   score_fn=permutate_and_score)\n",
    "stats = calc_stats(dscores, x_cols)  \n",
    "hbar_plot(stats['mean'], stats['std'], stats.index, 'Mean Decrease Accuracy')"
   ]
  },
  {
   "cell_type": "code",
   "execution_count": 10,
   "metadata": {},
   "outputs": [
    {
     "ename": "AttributeError",
     "evalue": "'float' object has no attribute 'shape'",
     "output_type": "error",
     "traceback": [
      "\u001b[0;31m---------------------------------------------------------------------------\u001b[0m",
      "\u001b[0;31mAttributeError\u001b[0m                            Traceback (most recent call last)",
      "\u001b[0;32m<ipython-input-10-3d8ebc812bcf>\u001b[0m in \u001b[0;36m<module>\u001b[0;34m\u001b[0m\n\u001b[0;32m----> 1\u001b[0;31m \u001b[0mnp\u001b[0m\u001b[0;34m.\u001b[0m\u001b[0mrandom\u001b[0m\u001b[0;34m.\u001b[0m\u001b[0mnormal\u001b[0m\u001b[0;34m(\u001b[0m\u001b[0;36m100\u001b[0m\u001b[0;34m,\u001b[0m \u001b[0;36m2\u001b[0m\u001b[0;34m)\u001b[0m\u001b[0;34m.\u001b[0m\u001b[0mshape\u001b[0m\u001b[0;34m\u001b[0m\u001b[0m\n\u001b[0m",
      "\u001b[0;31mAttributeError\u001b[0m: 'float' object has no attribute 'shape'"
     ]
    }
   ],
   "source": [
    "np.random.normal(100, 2).shape"
   ]
  },
  {
   "cell_type": "code",
   "execution_count": 2,
   "metadata": {},
   "outputs": [],
   "source": [
    "from sklearn.datasets import load_iris\n",
    "from sklearn import preprocessing\n",
    "from sklearn.model_selection import train_test_split\n",
    "from sklearn.ensemble import RandomForestRegressor\n",
    "from sklearn.metrics import r2_score"
   ]
  },
  {
   "cell_type": "markdown",
   "metadata": {},
   "source": [
    "For control purposes, we add a perfectly correlated feature and one random feature to the test set"
   ]
  }
 ],
 "metadata": {
  "kernelspec": {
   "display_name": "Python 3",
   "language": "python",
   "name": "python3"
  },
  "language_info": {
   "codemirror_mode": {
    "name": "ipython",
    "version": 3
   },
   "file_extension": ".py",
   "mimetype": "text/x-python",
   "name": "python",
   "nbconvert_exporter": "python",
   "pygments_lexer": "ipython3",
   "version": "3.5.2"
  }
 },
 "nbformat": 4,
 "nbformat_minor": 2
}
