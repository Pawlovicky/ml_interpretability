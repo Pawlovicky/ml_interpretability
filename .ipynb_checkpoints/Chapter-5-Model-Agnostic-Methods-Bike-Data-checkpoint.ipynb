{
 "cells": [
  {
   "cell_type": "markdown",
   "metadata": {},
   "source": [
    "# 1. Fit a function on your bike data\n",
    "Before we can start with interpreting our model, we need a model that fits\n",
    "the data reasonably well. In more mathematical terms, that means we would like to have a model that has reasonable $R^2$ or accuraccy on the test set."
   ]
  },
  {
   "cell_type": "code",
   "execution_count": 166,
   "metadata": {},
   "outputs": [
    {
     "data": {
      "text/html": [
       "<div>\n",
       "<style scoped>\n",
       "    .dataframe tbody tr th:only-of-type {\n",
       "        vertical-align: middle;\n",
       "    }\n",
       "\n",
       "    .dataframe tbody tr th {\n",
       "        vertical-align: top;\n",
       "    }\n",
       "\n",
       "    .dataframe thead th {\n",
       "        text-align: right;\n",
       "    }\n",
       "</style>\n",
       "<table border=\"1\" class=\"dataframe\">\n",
       "  <thead>\n",
       "    <tr style=\"text-align: right;\">\n",
       "      <th></th>\n",
       "      <th>season</th>\n",
       "      <th>yr</th>\n",
       "      <th>mnth</th>\n",
       "      <th>holiday</th>\n",
       "      <th>weekday</th>\n",
       "      <th>workingday</th>\n",
       "      <th>weathersit</th>\n",
       "      <th>temp</th>\n",
       "      <th>hum</th>\n",
       "      <th>windspeed</th>\n",
       "      <th>cnt</th>\n",
       "      <th>days_since_2011</th>\n",
       "    </tr>\n",
       "  </thead>\n",
       "  <tbody>\n",
       "    <tr>\n",
       "      <th>0</th>\n",
       "      <td>SPRING</td>\n",
       "      <td>2011</td>\n",
       "      <td>JAN</td>\n",
       "      <td>NO HOLIDAY</td>\n",
       "      <td>SAT</td>\n",
       "      <td>NO WORKING DAY</td>\n",
       "      <td>MISTY</td>\n",
       "      <td>8.175849</td>\n",
       "      <td>80.5833</td>\n",
       "      <td>10.749882</td>\n",
       "      <td>985</td>\n",
       "      <td>0</td>\n",
       "    </tr>\n",
       "    <tr>\n",
       "      <th>1</th>\n",
       "      <td>SPRING</td>\n",
       "      <td>2011</td>\n",
       "      <td>JAN</td>\n",
       "      <td>NO HOLIDAY</td>\n",
       "      <td>SUN</td>\n",
       "      <td>NO WORKING DAY</td>\n",
       "      <td>MISTY</td>\n",
       "      <td>9.083466</td>\n",
       "      <td>69.6087</td>\n",
       "      <td>16.652113</td>\n",
       "      <td>801</td>\n",
       "      <td>1</td>\n",
       "    </tr>\n",
       "    <tr>\n",
       "      <th>2</th>\n",
       "      <td>SPRING</td>\n",
       "      <td>2011</td>\n",
       "      <td>JAN</td>\n",
       "      <td>NO HOLIDAY</td>\n",
       "      <td>MON</td>\n",
       "      <td>WORKING DAY</td>\n",
       "      <td>GOOD</td>\n",
       "      <td>1.229108</td>\n",
       "      <td>43.7273</td>\n",
       "      <td>16.636703</td>\n",
       "      <td>1349</td>\n",
       "      <td>2</td>\n",
       "    </tr>\n",
       "    <tr>\n",
       "      <th>3</th>\n",
       "      <td>SPRING</td>\n",
       "      <td>2011</td>\n",
       "      <td>JAN</td>\n",
       "      <td>NO HOLIDAY</td>\n",
       "      <td>TUE</td>\n",
       "      <td>WORKING DAY</td>\n",
       "      <td>GOOD</td>\n",
       "      <td>1.400000</td>\n",
       "      <td>59.0435</td>\n",
       "      <td>10.739832</td>\n",
       "      <td>1562</td>\n",
       "      <td>3</td>\n",
       "    </tr>\n",
       "    <tr>\n",
       "      <th>4</th>\n",
       "      <td>SPRING</td>\n",
       "      <td>2011</td>\n",
       "      <td>JAN</td>\n",
       "      <td>NO HOLIDAY</td>\n",
       "      <td>WED</td>\n",
       "      <td>WORKING DAY</td>\n",
       "      <td>GOOD</td>\n",
       "      <td>2.666979</td>\n",
       "      <td>43.6957</td>\n",
       "      <td>12.522300</td>\n",
       "      <td>1600</td>\n",
       "      <td>4</td>\n",
       "    </tr>\n",
       "  </tbody>\n",
       "</table>\n",
       "</div>"
      ],
      "text/plain": [
       "   season    yr mnth     holiday weekday      workingday weathersit      temp  \\\n",
       "0  SPRING  2011  JAN  NO HOLIDAY     SAT  NO WORKING DAY      MISTY  8.175849   \n",
       "1  SPRING  2011  JAN  NO HOLIDAY     SUN  NO WORKING DAY      MISTY  9.083466   \n",
       "2  SPRING  2011  JAN  NO HOLIDAY     MON     WORKING DAY       GOOD  1.229108   \n",
       "3  SPRING  2011  JAN  NO HOLIDAY     TUE     WORKING DAY       GOOD  1.400000   \n",
       "4  SPRING  2011  JAN  NO HOLIDAY     WED     WORKING DAY       GOOD  2.666979   \n",
       "\n",
       "       hum  windspeed   cnt  days_since_2011  \n",
       "0  80.5833  10.749882   985                0  \n",
       "1  69.6087  16.652113   801                1  \n",
       "2  43.7273  16.636703  1349                2  \n",
       "3  59.0435  10.739832  1562                3  \n",
       "4  43.6957  12.522300  1600                4  "
      ]
     },
     "execution_count": 166,
     "metadata": {},
     "output_type": "execute_result"
    }
   ],
   "source": [
    "import pandas as pd\n",
    "import numpy as np\n",
    "import matplotlib.pyplot as plt\n",
    "from sklearn.ensemble import RandomForestRegressor \n",
    "from sklearn.ensemble import ExtraTreesRegressor \n",
    "\n",
    "bike = pd.read_csv('bike.csv').iloc[:, 1:]\n",
    "bike.head()"
   ]
  },
  {
   "cell_type": "code",
   "execution_count": 2,
   "metadata": {},
   "outputs": [],
   "source": [
    "from sklearn.datasets import load_iris\n",
    "from sklearn import preprocessing\n",
    "from sklearn.model_selection import train_test_split\n",
    "from sklearn.ensemble import RandomForestRegressor\n",
    "from sklearn.metrics import r2_score"
   ]
  },
  {
   "cell_type": "markdown",
   "metadata": {},
   "source": [
    "For control purposes, we add a perfectly correlated feature and one random feature to the test set"
   ]
  },
  {
   "cell_type": "code",
   "execution_count": 3,
   "metadata": {},
   "outputs": [],
   "source": [
    "def prepare_bike_data(collinear_feature = None):\n",
    "    bike = pd.read_csv('bike.csv').iloc[:, 1:]\n",
    "    bike['randvec'] = np.random.rand(bike.shape[0])\n",
    "    if not collinear_feature is None:\n",
    "        bike['col_' + collinear_feature] = bike[collinear_feature]\n",
    "    cat_cols = bike.select_dtypes('object').columns\n",
    "    non_cat_cols = bike.columns[~bike.columns.isin(cat_cols)]\n",
    "    enc = preprocessing.OrdinalEncoder()\n",
    "    enc.fit(bike.loc[:, cat_cols])\n",
    "    bike.loc[:, cat_cols] = enc.transform(bike.loc[:, cat_cols].values)\n",
    "    return enc, bike\n",
    "\n",
    "def prepare_x_y(df, y_col):\n",
    "    X = df.loc[:, ~df.columns.isin([y_col])].values\n",
    "    x_cols = df.loc[:, ~df.columns.isin([y_col])].columns\n",
    "    y = df.loc[:, y_col].values\n",
    "    return X, y, x_cols\n",
    "\n",
    "#bike = prepare_bike_data(collinear_feature='days_since_2011')\n",
    "enc, bike = prepare_bike_data()\n",
    "X, y, x_cols = prepare_x_y(bike, y_col='cnt')\n",
    "X_train, X_test, y_train, y_test = train_test_split(X, y, \n",
    "                                        test_size = 0.2, random_state=42)\n"
   ]
  },
  {
   "cell_type": "code",
   "execution_count": null,
   "metadata": {},
   "outputs": [],
   "source": [
    "X_train, X_test, y_train, y_test = train_test_split(X, y, \n",
    "                                        test_size = 0.2, random_state=42)\n"
   ]
  },
  {
   "cell_type": "code",
   "execution_count": 182,
   "metadata": {},
   "outputs": [
    {
     "data": {
      "text/plain": [
       "0.30848093398690823"
      ]
     },
     "execution_count": 182,
     "metadata": {},
     "output_type": "execute_result"
    }
   ],
   "source": [
    "from sklearn.model_selection import cross_val_score\n",
    "rf = RandomForestRegressor(n_estimators=500, max_depth=None,\n",
    "                           random_state=0, min_samples_split=10)\n",
    "fold = 5\n",
    "scores = cross_val_score(rf, X, y, cv=fold, scoring='r2')\n",
    "\n",
    "np.median(scores)\n"
   ]
  },
  {
   "cell_type": "code",
   "execution_count": 161,
   "metadata": {},
   "outputs": [
    {
     "data": {
      "text/plain": [
       "0.8642800153524195"
      ]
     },
     "execution_count": 161,
     "metadata": {},
     "output_type": "execute_result"
    }
   ],
   "source": [
    "rf = RandomForestRegressor(n_estimators=100, max_depth=None, \n",
    "                           random_state=0, min_samples_split=10)\n",
    "rf = rf.fit(X_train, y_train)\n",
    "y_train_pred = rf.predict(X_train)\n",
    "y_test_pred = rf.predict(X_test)\n",
    "r2_score(y_test, y_test_pred)"
   ]
  },
  {
   "cell_type": "code",
   "execution_count": 162,
   "metadata": {},
   "outputs": [
    {
     "data": {
      "text/plain": [
       "0.5567879026658971"
      ]
     },
     "execution_count": 162,
     "metadata": {},
     "output_type": "execute_result"
    }
   ],
   "source": [
    "sp = 584\n",
    "rf = RandomForestRegressor(n_estimators=100, max_depth=None, \n",
    "                           random_state=0, min_samples_split=10)\n",
    "rf = rf.fit(X[:sp], y[:sp])\n",
    "y_test_pred = rf.predict(X[sp:])\n",
    "r2_score(y[sp:], y_test_pred)"
   ]
  },
  {
   "cell_type": "code",
   "execution_count": 159,
   "metadata": {},
   "outputs": [
    {
     "data": {
      "text/plain": [
       "0.8685883764656323"
      ]
     },
     "execution_count": 159,
     "metadata": {},
     "output_type": "execute_result"
    }
   ],
   "source": [
    "r2_score(y_test, y_test_pred)"
   ]
  },
  {
   "cell_type": "markdown",
   "metadata": {},
   "source": [
    "We note that we get a very impressive $R^2$ of 88%. Lets now use this model for interpretation"
   ]
  },
  {
   "cell_type": "code",
   "execution_count": 6,
   "metadata": {},
   "outputs": [
    {
     "name": "stdout",
     "output_type": "stream",
     "text": [
      "Feature ranking:\n",
      "1. feature 10 (0.628755)\n",
      "2. feature 7 (0.222427)\n",
      "3. feature 8 (0.055150)\n",
      "4. feature 9 (0.029567)\n",
      "5. feature 6 (0.018879)\n",
      "6. feature 11 (0.014740)\n",
      "7. feature 2 (0.009468)\n",
      "8. feature 4 (0.006486)\n",
      "9. feature 5 (0.005707)\n",
      "10. feature 0 (0.005545)\n",
      "11. feature 3 (0.002762)\n",
      "12. feature 1 (0.000514)\n"
     ]
    },
    {
     "data": {
      "image/png": "[encoded data removed]",
      "text/plain": [
       "<Figure size 432x288 with 1 Axes>"
      ]
     },
     "metadata": {
      "needs_background": "light"
     },
     "output_type": "display_data"
    }
   ],
   "source": [
    "def plot_mdi_feature_importance(forest, x_cols):\n",
    "    importances = forest.feature_importances_\n",
    "    std = np.std([tree.feature_importances_ for tree in forest.estimators_],\n",
    "                 axis=0)\n",
    "    indices = np.argsort(importances)[::-1]\n",
    "    \n",
    "    # Print the feature ranking\n",
    "    print(\"Feature ranking:\")\n",
    "    \n",
    "    for f in range(X.shape[1]):\n",
    "        print(\"%d. feature %d (%f)\" % (f + 1, indices[f], importances[indices[f]]))\n",
    "    \n",
    "    # Plot the feature importances of the forest\n",
    "    plt.figure()\n",
    "    plt.title(\"Feature importances\")\n",
    "    plt.bar(range(X.shape[1]), importances[indices],\n",
    "           color=\"r\", yerr=std[indices], align=\"center\")\n",
    "    #plt.xticks(range(X.shape[1]), indices)\n",
    "    plt.xticks(range(X.shape[1]), x_cols[indices], rotation='vertical')\n",
    "    plt.xlim([-1, X.shape[1]])\n",
    "    plt.show()\n",
    "plot_mdi_feature_importance(rf, x_cols)"
   ]
  },
  {
   "cell_type": "markdown",
   "metadata": {},
   "source": [
    "Our standard method (mean decrease impurity) tells us that days since 2011 are the most important features. This hints at a trend, which is confirmed below."
   ]
  },
  {
   "cell_type": "code",
   "execution_count": 7,
   "metadata": {},
   "outputs": [
    {
     "data": {
      "text/plain": [
       "[<matplotlib.lines.Line2D at 0x7f15cf168128>]"
      ]
     },
     "execution_count": 7,
     "metadata": {},
     "output_type": "execute_result"
    },
    {
     "data": {
      "image/png": "[encoded data removed]",
      "text/plain": [
       "<Figure size 432x288 with 1 Axes>"
      ]
     },
     "metadata": {
      "needs_background": "light"
     },
     "output_type": "display_data"
    }
   ],
   "source": [
    "plt.plot(bike['days_since_2011'], bike['cnt'])"
   ]
  },
  {
   "cell_type": "markdown",
   "metadata": {},
   "source": [
    "We are also interested in the degree of collinearity of our features.\n",
    "We find that humidity and weather situation have the highest correlation 60%. The rest of our features are reasonably decorrelated"
   ]
  },
  {
   "cell_type": "code",
   "execution_count": 11,
   "metadata": {},
   "outputs": [
    {
     "data": {
      "image/png": "[encoded data removed]",
      "text/plain": [
       "<Figure size 720x720 with 2 Axes>"
      ]
     },
     "metadata": {
      "needs_background": "light"
     },
     "output_type": "display_data"
    }
   ],
   "source": [
    "import seaborn as sns\n",
    "def correlation_heatmap(df, method='spearman'):\n",
    "    corr = df.corr(method=method).round(2)\n",
    "    mask = np.zeros_like(corr, dtype=np.bool)\n",
    "    mask[np.tril_indices_from(mask)] = True\n",
    "    f, ax = plt.subplots(figsize=(10, 10))\n",
    "    cmap = sns.diverging_palette(220, 10, as_cmap=True)\n",
    "    sns.heatmap(corr, mask=mask, cmap=cmap, center=0,\n",
    "                square=True, linewidths=.5, cbar_kws={'shrink': .5},\n",
    "                annot=True, fmt='.2f')\n",
    "    \n",
    "correlation_heatmap(bike.drop('cnt', axis=1))"
   ]
  },
  {
   "cell_type": "markdown",
   "metadata": {},
   "source": [
    "# 5.1.1 Partial Dependence Plot"
   ]
  },
  {
   "cell_type": "code",
   "execution_count": 12,
   "metadata": {},
   "outputs": [],
   "source": [
    "y_col = 'cnt'\n",
    "feature_names = ['temp', 'hum', 'windspeed', 'randvec', \n",
    "                 'days_since_2011', 'season', 'weathersit']\n",
    "features = [bike.drop(y_col, axis=1).columns.get_loc(x) \n",
    "             for x in feature_names]"
   ]
  },
  {
   "cell_type": "code",
   "execution_count": 163,
   "metadata": {},
   "outputs": [
    {
     "data": {
      "image/png": "[encoded data removed]",
      "text/plain": [
       "<Figure size 360x720 with 1 Axes>"
      ]
     },
     "metadata": {
      "needs_background": "light"
     },
     "output_type": "display_data"
    },
    {
     "data": {
      "image/png": "[encoded data removed]",
      "text/plain": [
       "<Figure size 360x720 with 1 Axes>"
      ]
     },
     "metadata": {
      "needs_background": "light"
     },
     "output_type": "display_data"
    },
    {
     "data": {
      "image/png": "[encoded data removed]",
      "text/plain": [
       "<Figure size 360x720 with 1 Axes>"
      ]
     },
     "metadata": {
      "needs_background": "light"
     },
     "output_type": "display_data"
    },
    {
     "data": {
      "image/png": "[encoded data removed]",
      "text/plain": [
       "<Figure size 360x720 with 1 Axes>"
      ]
     },
     "metadata": {
      "needs_background": "light"
     },
     "output_type": "display_data"
    },
    {
     "data": {
      "image/png": "[encoded data removed]",
      "text/plain": [
       "<Figure size 360x720 with 1 Axes>"
      ]
     },
     "metadata": {
      "needs_background": "light"
     },
     "output_type": "display_data"
    },
    {
     "data": {
      "image/png": "[encoded data removed]",
      "text/plain": [
       "<Figure size 360x720 with 1 Axes>"
      ]
     },
     "metadata": {
      "needs_background": "light"
     },
     "output_type": "display_data"
    },
    {
     "data": {
      "image/png": "[encoded data removed]",
      "text/plain": [
       "<Figure size 360x720 with 1 Axes>"
      ]
     },
     "metadata": {
      "needs_background": "light"
     },
     "output_type": "display_data"
    }
   ],
   "source": [
    "def pdp_plot(X, rf, feature_no, feature_name, y_name, multiplier=100):\n",
    "    feat_sort_idx = X[:, feature_no].argsort()\n",
    "    X = X[feat_sort_idx, :]\n",
    "    n = X.shape[0]\n",
    "    x_vals = np.vstack([X]*n)\n",
    "    x_vals[:, feature_no] = np.repeat(X[:, feature_no], n)\n",
    "    y_vals = rf.predict(x_vals)\n",
    "    x_vals = np.mean(x_vals[:, feature_no].reshape((n, n)), axis=-1)\n",
    "    y_vals = np.mean(y_vals.reshape(n, n), axis=-1)\n",
    "    plt.xlabel(feature_name)\n",
    "    plt.ylabel(y_name)\n",
    "    return plt.scatter(x_vals, y_vals)\n",
    "\n",
    "for i, _ in enumerate(feature_names):\n",
    "    plt.figure(figsize=(5,10))\n",
    "    plt.subplot(len(feature_names), 1, i+1)\n",
    "    plt.tight_layout()\n",
    "    pdp_plot(X, rf, features[i], feature_names[i], \n",
    "          y_name = 'Bike Count')"
   ]
  },
  {
   "cell_type": "code",
   "execution_count": 164,
   "metadata": {},
   "outputs": [
    {
     "name": "stdout",
     "output_type": "stream",
     "text": [
      "CPU times: user 46.6 s, sys: 1.22 s, total: 47.8 s\n",
      "Wall time: 47.8 s\n"
     ]
    },
    {
     "data": {
      "image/png": "[encoded data removed]",
      "text/plain": [
       "<Figure size 432x288 with 1 Axes>"
      ]
     },
     "metadata": {
      "needs_background": "light"
     },
     "output_type": "display_data"
    }
   ],
   "source": [
    "%%time\n",
    "def lin_space_or_unique(x, lin_num):\n",
    "    unique_elements = np.unique(np.sort(x))\n",
    "    if unique_elements.shape[0] <= lin_num:\n",
    "        X_vals = unique_elements\n",
    "    else:\n",
    "        X_vals = np.linspace(min(unique_elements), max(unique_elements), \n",
    "                             num=lin_num)\n",
    "    return X_vals\n",
    "\n",
    "def create_grid(X, remaining_features, lin_num):\n",
    "    feature_lists = [lin_space_or_unique(X[:, idx], lin_num) for idx in \n",
    "                     remaining_features]\n",
    "    x = np.meshgrid(*feature_lists)\n",
    "    out = np.array([m.flatten() for m in x]).T\n",
    "    return out\n",
    "\n",
    "def pdp_fun(X_s, X, remaining_features, rf, subtract_mean=True):\n",
    "    x_vals = np.vstack([X]*X_s.shape[0])\n",
    "    X_s_repeat = np.repeat(X_s, X.shape[0], axis=0)\n",
    "    X_s_repeat.shape\n",
    "    x_vals[:, remaining_features] = X_s_repeat\n",
    "    y_vals = rf.predict(x_vals)\n",
    "    y_out = np.mean(y_vals.reshape(-1, X.shape[0]), axis=1)\n",
    "    #x_vals = x_vals[:, remaining_features].reshape(X.shape[0], X_s.shape[0])\n",
    "    if subtract_mean is True:\n",
    "        y_out = y_out - np.mean(y_out)\n",
    "    return X_grid, y_out\n",
    "\n",
    "def friedman_Hjk2(rfeat, X, rf):\n",
    "    _, PDjki = pdp_fun(X[:, rfeat], X, rfeat, rf)\n",
    "    _, PDjk = pdp_fun(X[:, [rfeat[0]]], X, [rfeat[0]], rf)\n",
    "    _, PDji = pdp_fun(X[:, [rfeat[1]]], X, [rfeat[1]], rf)              \n",
    "    Hjk2 = np.power(PDjki - PDjk - PDji, 2).sum()/np.power(PDjik, 2).sum()\n",
    "    return Hjk2\n",
    "\n",
    "def friedman_Hj2(feat_no, X, rf):\n",
    "    minus_j = np.r_[0:feat_no, (feat_no + 1):X.shape[1]]\n",
    "    fbar = rf.predict(X)\n",
    "    fbar = fbar - np.mean(fbar)\n",
    "    _, PDj = pdp_fun(X[:, [feat_no]], X, [feat_no], rf)\n",
    "    _, PDminusj = pdp_fun(X[:, minus_j], X, minus_j, rf)\n",
    "    Hj2 = np.power(fbar - PDj - PDminusj, 2).sum()/np.power(fbar, 2).sum()\n",
    "    return Hj2\n",
    "\n",
    "def calc_and_plot_Hj2(X, rf, full_feature_list):\n",
    "    Hj2_list = [friedman_Hj2(i, X, rf) for i, v in \n",
    "                enumerate(full_feature_list)]\n",
    "    out_vals = pd.DataFrame(Hj2_list, index=full_feature_list, \n",
    "                            columns=['Hj2'])\\\n",
    "                 .sort_values('Hj2', ascending=False)\n",
    "    out_vals.plot.bar()\n",
    "    return out_vals\n",
    "\n",
    "remaining_features = [6, 10]\n",
    "lin_num = 10\n",
    "X_grid = create_grid(X, remaining_features, lin_num = 10)\n",
    "x_out, y_out = pdp_fun(X_grid, X, remaining_features, rf)\n",
    "# to get the 'diagonal' for our features\n",
    "\n",
    "full_feature_list = bike.drop('cnt', axis = 1).columns.tolist()\n",
    "calc_and_plot_Hj2(X, rf, full_feature_list)"
   ]
  },
  {
   "cell_type": "code",
   "execution_count": 13,
   "metadata": {
    "scrolled": false
   },
   "outputs": [
    {
     "data": {
      "image/png": "[encoded data removed]",
      "text/plain": [
       "<Figure size 360x2160 with 1 Axes>"
      ]
     },
     "metadata": {
      "needs_background": "light"
     },
     "output_type": "display_data"
    },
    {
     "data": {
      "image/png": "[encoded data removed]",
      "text/plain": [
       "<Figure size 360x2160 with 1 Axes>"
      ]
     },
     "metadata": {
      "needs_background": "light"
     },
     "output_type": "display_data"
    },
    {
     "data": {
      "image/png": "[encoded data removed]",
      "text/plain": [
       "<Figure size 360x2160 with 1 Axes>"
      ]
     },
     "metadata": {
      "needs_background": "light"
     },
     "output_type": "display_data"
    },
    {
     "data": {
      "image/png": "[encoded data removed]",
      "text/plain": [
       "<Figure size 360x2160 with 1 Axes>"
      ]
     },
     "metadata": {
      "needs_background": "light"
     },
     "output_type": "display_data"
    },
    {
     "data": {
      "image/png": "[encoded data removed]",
      "text/plain": [
       "<Figure size 360x2160 with 1 Axes>"
      ]
     },
     "metadata": {
      "needs_background": "light"
     },
     "output_type": "display_data"
    }
   ],
   "source": [
    "y_name = 'Bicycle Counts'\n",
    "y_col = 'cnt'\n",
    "feature_names = ['temp', 'hum', 'windspeed', 'randvec', \n",
    "                 'days_since_2011']\n",
    "features = [bike.drop(y_col, axis=1).columns.get_loc(x) \n",
    "             for x in feature_names]\n",
    "\n",
    "for i, v in enumerate(features):\n",
    "    rfeat = [v]\n",
    "    X_grid = create_grid(X, rfeat, lin_num = 100)\n",
    "    x_out, y_out = pdp_fun(X_grid, X, rfeat, rf, False)\n",
    "    plt.figure(figsize=(5,30))\n",
    "    plt.subplot(len(feature_names), 1, i+1)\n",
    "    plt.tight_layout()\n",
    "    plt.xlabel(feature_names[i])\n",
    "    plt.ylabel(y_name)\n",
    "    plt.ylim((0, 6000))\n",
    "    plt.grid(True)\n",
    "    plt.plot(x_out, y_out)"
   ]
  },
  {
   "cell_type": "code",
   "execution_count": 14,
   "metadata": {
    "scrolled": false
   },
   "outputs": [
    {
     "data": {
      "image/png": "[encoded data removed]",
      "text/plain": [
       "<Figure size 360x360 with 1 Axes>"
      ]
     },
     "metadata": {
      "needs_background": "light"
     },
     "output_type": "display_data"
    },
    {
     "data": {
      "image/png": "[encoded data removed]",
      "text/plain": [
       "<Figure size 360x360 with 1 Axes>"
      ]
     },
     "metadata": {
      "needs_background": "light"
     },
     "output_type": "display_data"
    }
   ],
   "source": [
    "y_col = 'cnt'\n",
    "feature_names = ['season', 'weathersit']\n",
    "features = [bike.drop(y_col, axis=1).columns.get_loc(x) \n",
    "             for x in feature_names]\n",
    "\n",
    "y_name = 'Bicycle Counts'\n",
    "for i, v in enumerate(features[-2:]):\n",
    "    rfeat = [v]\n",
    "    X_grid = create_grid(X, rfeat, lin_num = 100)\n",
    "    x_out, y_out = pdp_fun(X_grid, X, rfeat, rf, False)\n",
    "    plt.figure(figsize=(5,5))\n",
    "    plt.subplot(len(feature_names), 1, i+1)\n",
    "    plt.tight_layout()\n",
    "    plt.xlabel(feature_names[i])\n",
    "    plt.ylabel(y_name)\n",
    "    plt.ylim((0, 6000))\n",
    "    plt.grid(True)\n",
    "    plt.bar(x_out.flatten(), y_out)"
   ]
  },
  {
   "cell_type": "code",
   "execution_count": 243,
   "metadata": {},
   "outputs": [
    {
     "data": {
      "text/plain": [
       "[6]"
      ]
     },
     "execution_count": 243,
     "metadata": {},
     "output_type": "execute_result"
    }
   ],
   "source": [
    "feat_no = 10\n",
    "minus_j = np.r_[0:feat_no, (feat_no + 1):X.shape[1]]\n",
    "fbar = rf(X)\n",
    "fbar = fbar - np.mean(fbar)\n",
    "_, PDj = pdp_fun(X[:, [feat_no]], X, [feat_no], rf)\n",
    "_, PDminusj = pdp_fun(X[:, minus_j], X, minus_j, rf)\n",
    "Hj2 = np.sum(np.power(fbar - PDj - PDminusj ,2))/np.sum(np.power(fbar))\n",
    "return Hj2"
   ]
  },
  {
   "cell_type": "markdown",
   "metadata": {},
   "source": [
    "# Feature Importance - MDA/SFI/drop refit"
   ]
  },
  {
   "cell_type": "code",
   "execution_count": null,
   "metadata": {},
   "outputs": [],
   "source": [
    "def hbar_plot(x, err, xticks, title):\n",
    "    plt.figure(figsize=(10, 10))\n",
    "    plt.title(title)\n",
    "    bar_no = x.shape[0]\n",
    "    plt.barh(range(bar_no), x, color='r', yerr=err, align='center')\n",
    "    plt.xticks(range(bar_no), xticks)\n",
    "    plt.xlim([-1, bar_no])\n",
    "    plt.show()"
   ]
  },
  {
   "cell_type": "code",
   "execution_count": 145,
   "metadata": {},
   "outputs": [],
   "source": [
    "from sklearn import metrics\n",
    "from sklearn.model_selection import KFold\n",
    "from sklearn.base import clone\n",
    "import copy\n",
    "\n",
    "def hbar_plot(x, err, xticks, title):\n",
    "    plt.figure(figsize=(10, 10))\n",
    "    plt.title(title)\n",
    "    bar_no = x.shape[0]\n",
    "    plt.barh(range(bar_no), x, color='lightblue', xerr=err, align='center')\n",
    "    plt.yticks(range(bar_no), xticks)\n",
    "    plt.gca().invert_yaxis()\n",
    "    #plt.xlim([-1, bar_no])\n",
    "    plt.show()\n",
    "    \n",
    "def permutate_and_score(clf, X_test, y_test, i, metric_fn, **kwargs):\n",
    "    X_test_ = copy.deepcopy(X_test)\n",
    "    np.random.shuffle(X_test_[i])\n",
    "    y_pred = clf.predict(X_test_)\n",
    "    return metric_fn(y_test, y_pred)\n",
    "\n",
    "def drop_refit_and_score(clf, X_test, y_test, X_train, y_train, i, metric_fn):\n",
    "    X_train_ = np.delete(copy.deepcopy(X_train), i, axis=1)\n",
    "    X_test_ = np.delete(copy.deepcopy(X_test), i, axis=1)\n",
    "    clf_ = clone(clf)\n",
    "    clf_.random_state = 0\n",
    "    clf_.fit(X_train_, y_train)\n",
    "    y_pred = clf_.predict(X_test_)\n",
    "    return metric_fn(y_test, y_pred)\n",
    "\n",
    "def calc_stats(dscores, colnms):\n",
    "    bias_corr = (dscores.shape[0]-1.5)**-.5\n",
    "    summary = pd.DataFrame([np.mean(dscores, axis=0),\n",
    "                            np.std(dscores, axis=0)*bias_corr],\n",
    "                            columns=colnms,\n",
    "                            index=['mean', 'std'])\n",
    "    summary = summary.T.sort_values('mean', ascending=False)\n",
    "    return summary\n",
    "\n",
    "def calc_mda(clf, X, y, folds, metric_fn, score_fn):\n",
    "    kf = KFold(n_splits=folds)\n",
    "    kf.get_n_splits(X)\n",
    "    decrease_scores = []\n",
    "    for train, test in kf.split(X):\n",
    "        clf_ = clone(clf)\n",
    "        clf_.random_state = 0\n",
    "        clf_.fit(X[train], y[train])\n",
    "        y_pred = clf_.predict(X[test])\n",
    "        base = metric_fn(y[test], y_pred)\n",
    "        print(base)\n",
    "        param_dict = {'clf':clf_, 'X_train': X[train], 'y_train': y[train],\n",
    "                      'X_test': X[test], 'y_test':y[test],\n",
    "                      'metric_fn': metric_fn}\n",
    "\n",
    "        decrease_scores.append([base - score_fn(**dict(param_dict, i=i)) \n",
    "                                for i in range(X[train].shape[1])])\n",
    "    return np.array(decrease_scores)\n"
   ]
  },
  {
   "cell_type": "code",
   "execution_count": 174,
   "metadata": {},
   "outputs": [
    {
     "name": "stdout",
     "output_type": "stream",
     "text": [
      "-0.3129250251695095\n",
      "-1.2802384578999453\n",
      "0.2792484227048686\n",
      "0.18753493863813886\n",
      "0.620836850866806\n"
     ]
    },
    {
     "data": {
      "image/png": "[encoded data removed]",
      "text/plain": [
       "<Figure size 720x720 with 1 Axes>"
      ]
     },
     "metadata": {
      "needs_background": "light"
     },
     "output_type": "display_data"
    }
   ],
   "source": [
    "#rf = RandomForestRegressor(n_estimators=100, max_depth=None, \n",
    "rf = ExtraTreesRegressor(n_estimators=100, max_depth=None, \n",
    "                           random_state=0, min_samples_split=10)\n",
    "dscores = calc_mda(rf, X, y, folds=5, metric_fn=metrics.r2_score, \n",
    "                   score_fn=permutate_and_score)\n",
    "stats = calc_stats(dscores, x_cols)  \n",
    "hbar_plot(stats['mean'], stats['std'], stats.index, 'Mean Decrease Accuracy')"
   ]
  },
  {
   "cell_type": "code",
   "execution_count": 136,
   "metadata": {},
   "outputs": [
    {
     "data": {
      "text/html": [
       "<div>\n",
       "<style scoped>\n",
       "    .dataframe tbody tr th:only-of-type {\n",
       "        vertical-align: middle;\n",
       "    }\n",
       "\n",
       "    .dataframe tbody tr th {\n",
       "        vertical-align: top;\n",
       "    }\n",
       "\n",
       "    .dataframe thead th {\n",
       "        text-align: right;\n",
       "    }\n",
       "</style>\n",
       "<table border=\"1\" class=\"dataframe\">\n",
       "  <thead>\n",
       "    <tr style=\"text-align: right;\">\n",
       "      <th></th>\n",
       "      <th>mean</th>\n",
       "      <th>std</th>\n",
       "    </tr>\n",
       "  </thead>\n",
       "  <tbody>\n",
       "    <tr>\n",
       "      <th>season</th>\n",
       "      <td>1.025309</td>\n",
       "      <td>0.010083</td>\n",
       "    </tr>\n",
       "    <tr>\n",
       "      <th>temp</th>\n",
       "      <td>1.024859</td>\n",
       "      <td>0.008641</td>\n",
       "    </tr>\n",
       "    <tr>\n",
       "      <th>hum</th>\n",
       "      <td>1.024141</td>\n",
       "      <td>0.012130</td>\n",
       "    </tr>\n",
       "    <tr>\n",
       "      <th>days_since_2011</th>\n",
       "      <td>1.023638</td>\n",
       "      <td>0.008482</td>\n",
       "    </tr>\n",
       "    <tr>\n",
       "      <th>weathersit</th>\n",
       "      <td>1.022792</td>\n",
       "      <td>0.012618</td>\n",
       "    </tr>\n",
       "    <tr>\n",
       "      <th>yr</th>\n",
       "      <td>1.021981</td>\n",
       "      <td>0.009157</td>\n",
       "    </tr>\n",
       "    <tr>\n",
       "      <th>windspeed</th>\n",
       "      <td>1.019833</td>\n",
       "      <td>0.010981</td>\n",
       "    </tr>\n",
       "    <tr>\n",
       "      <th>randvec</th>\n",
       "      <td>1.017504</td>\n",
       "      <td>0.007848</td>\n",
       "    </tr>\n",
       "    <tr>\n",
       "      <th>workingday</th>\n",
       "      <td>1.014968</td>\n",
       "      <td>0.006526</td>\n",
       "    </tr>\n",
       "    <tr>\n",
       "      <th>holiday</th>\n",
       "      <td>1.014743</td>\n",
       "      <td>0.005676</td>\n",
       "    </tr>\n",
       "    <tr>\n",
       "      <th>weekday</th>\n",
       "      <td>1.014413</td>\n",
       "      <td>0.006096</td>\n",
       "    </tr>\n",
       "    <tr>\n",
       "      <th>mnth</th>\n",
       "      <td>1.014357</td>\n",
       "      <td>0.005414</td>\n",
       "    </tr>\n",
       "  </tbody>\n",
       "</table>\n",
       "</div>"
      ],
      "text/plain": [
       "                     mean       std\n",
       "season           1.025309  0.010083\n",
       "temp             1.024859  0.008641\n",
       "hum              1.024141  0.012130\n",
       "days_since_2011  1.023638  0.008482\n",
       "weathersit       1.022792  0.012618\n",
       "yr               1.021981  0.009157\n",
       "windspeed        1.019833  0.010981\n",
       "randvec          1.017504  0.007848\n",
       "workingday       1.014968  0.006526\n",
       "holiday          1.014743  0.005676\n",
       "weekday          1.014413  0.006096\n",
       "mnth             1.014357  0.005414"
      ]
     },
     "execution_count": 136,
     "metadata": {},
     "output_type": "execute_result"
    }
   ],
   "source": [
    "stats"
   ]
  },
  {
   "cell_type": "code",
   "execution_count": 77,
   "metadata": {},
   "outputs": [
    {
     "data": {
      "text/html": [
       "<div>\n",
       "<style scoped>\n",
       "    .dataframe tbody tr th:only-of-type {\n",
       "        vertical-align: middle;\n",
       "    }\n",
       "\n",
       "    .dataframe tbody tr th {\n",
       "        vertical-align: top;\n",
       "    }\n",
       "\n",
       "    .dataframe thead th {\n",
       "        text-align: right;\n",
       "    }\n",
       "</style>\n",
       "<table border=\"1\" class=\"dataframe\">\n",
       "  <thead>\n",
       "    <tr style=\"text-align: right;\">\n",
       "      <th></th>\n",
       "      <th>median</th>\n",
       "      <th>std</th>\n",
       "      <th>ratio</th>\n",
       "    </tr>\n",
       "  </thead>\n",
       "  <tbody>\n",
       "    <tr>\n",
       "      <th>season</th>\n",
       "      <td>0.060394</td>\n",
       "      <td>0.021462</td>\n",
       "      <td>2.814012</td>\n",
       "    </tr>\n",
       "    <tr>\n",
       "      <th>weekday</th>\n",
       "      <td>0.035447</td>\n",
       "      <td>0.013155</td>\n",
       "      <td>2.694653</td>\n",
       "    </tr>\n",
       "    <tr>\n",
       "      <th>randvec</th>\n",
       "      <td>0.054059</td>\n",
       "      <td>0.020524</td>\n",
       "      <td>2.633993</td>\n",
       "    </tr>\n",
       "    <tr>\n",
       "      <th>workingday</th>\n",
       "      <td>0.066555</td>\n",
       "      <td>0.028427</td>\n",
       "      <td>2.341251</td>\n",
       "    </tr>\n",
       "    <tr>\n",
       "      <th>holiday</th>\n",
       "      <td>0.036243</td>\n",
       "      <td>0.016394</td>\n",
       "      <td>2.210705</td>\n",
       "    </tr>\n",
       "    <tr>\n",
       "      <th>mnth</th>\n",
       "      <td>0.038546</td>\n",
       "      <td>0.018191</td>\n",
       "      <td>2.118973</td>\n",
       "    </tr>\n",
       "    <tr>\n",
       "      <th>weathersit</th>\n",
       "      <td>0.071322</td>\n",
       "      <td>0.034594</td>\n",
       "      <td>2.061696</td>\n",
       "    </tr>\n",
       "    <tr>\n",
       "      <th>temp</th>\n",
       "      <td>0.052277</td>\n",
       "      <td>0.032489</td>\n",
       "      <td>1.609052</td>\n",
       "    </tr>\n",
       "    <tr>\n",
       "      <th>days_since_2011</th>\n",
       "      <td>0.035559</td>\n",
       "      <td>0.024593</td>\n",
       "      <td>1.445876</td>\n",
       "    </tr>\n",
       "    <tr>\n",
       "      <th>yr</th>\n",
       "      <td>0.045023</td>\n",
       "      <td>0.031806</td>\n",
       "      <td>1.415555</td>\n",
       "    </tr>\n",
       "    <tr>\n",
       "      <th>hum</th>\n",
       "      <td>0.037486</td>\n",
       "      <td>0.047207</td>\n",
       "      <td>0.794074</td>\n",
       "    </tr>\n",
       "    <tr>\n",
       "      <th>windspeed</th>\n",
       "      <td>0.014095</td>\n",
       "      <td>0.024514</td>\n",
       "      <td>0.574990</td>\n",
       "    </tr>\n",
       "  </tbody>\n",
       "</table>\n",
       "</div>"
      ],
      "text/plain": [
       "                   median       std     ratio\n",
       "season           0.060394  0.021462  2.814012\n",
       "weekday          0.035447  0.013155  2.694653\n",
       "randvec          0.054059  0.020524  2.633993\n",
       "workingday       0.066555  0.028427  2.341251\n",
       "holiday          0.036243  0.016394  2.210705\n",
       "mnth             0.038546  0.018191  2.118973\n",
       "weathersit       0.071322  0.034594  2.061696\n",
       "temp             0.052277  0.032489  1.609052\n",
       "days_since_2011  0.035559  0.024593  1.445876\n",
       "yr               0.045023  0.031806  1.415555\n",
       "hum              0.037486  0.047207  0.794074\n",
       "windspeed        0.014095  0.024514  0.574990"
      ]
     },
     "execution_count": 77,
     "metadata": {},
     "output_type": "execute_result"
    }
   ],
   "source": [
    "stats.assign(ratio = lambda x:x['median']/x['std'])\\\n",
    "     .sort_values('ratio', ascending=False)"
   ]
  },
  {
   "cell_type": "code",
   "execution_count": 72,
   "metadata": {},
   "outputs": [
    {
     "data": {
      "text/html": [
       "<div>\n",
       "<style scoped>\n",
       "    .dataframe tbody tr th:only-of-type {\n",
       "        vertical-align: middle;\n",
       "    }\n",
       "\n",
       "    .dataframe tbody tr th {\n",
       "        vertical-align: top;\n",
       "    }\n",
       "\n",
       "    .dataframe thead th {\n",
       "        text-align: right;\n",
       "    }\n",
       "</style>\n",
       "<table border=\"1\" class=\"dataframe\">\n",
       "  <thead>\n",
       "    <tr style=\"text-align: right;\">\n",
       "      <th></th>\n",
       "      <th>season</th>\n",
       "      <th>yr</th>\n",
       "      <th>mnth</th>\n",
       "      <th>holiday</th>\n",
       "      <th>weekday</th>\n",
       "      <th>workingday</th>\n",
       "      <th>weathersit</th>\n",
       "      <th>temp</th>\n",
       "      <th>hum</th>\n",
       "      <th>windspeed</th>\n",
       "      <th>days_since_2011</th>\n",
       "      <th>randvec</th>\n",
       "    </tr>\n",
       "  </thead>\n",
       "  <tbody>\n",
       "    <tr>\n",
       "      <th>0</th>\n",
       "      <td>0.047976</td>\n",
       "      <td>-0.029930</td>\n",
       "      <td>-0.042791</td>\n",
       "      <td>0.000833</td>\n",
       "      <td>-0.022746</td>\n",
       "      <td>-0.063676</td>\n",
       "      <td>0.017613</td>\n",
       "      <td>2.429040</td>\n",
       "      <td>-0.058567</td>\n",
       "      <td>-0.049434</td>\n",
       "      <td>-0.368113</td>\n",
       "      <td>-0.028671</td>\n",
       "    </tr>\n",
       "    <tr>\n",
       "      <th>1</th>\n",
       "      <td>0.006137</td>\n",
       "      <td>0.005656</td>\n",
       "      <td>0.018250</td>\n",
       "      <td>0.009867</td>\n",
       "      <td>0.008570</td>\n",
       "      <td>0.012267</td>\n",
       "      <td>0.044986</td>\n",
       "      <td>-0.054257</td>\n",
       "      <td>0.082286</td>\n",
       "      <td>0.023090</td>\n",
       "      <td>0.469430</td>\n",
       "      <td>-0.031292</td>\n",
       "    </tr>\n",
       "    <tr>\n",
       "      <th>2</th>\n",
       "      <td>0.138560</td>\n",
       "      <td>0.037670</td>\n",
       "      <td>-0.050820</td>\n",
       "      <td>0.086091</td>\n",
       "      <td>0.030328</td>\n",
       "      <td>-0.017770</td>\n",
       "      <td>-0.116688</td>\n",
       "      <td>2.541887</td>\n",
       "      <td>0.072111</td>\n",
       "      <td>-0.035575</td>\n",
       "      <td>-0.320551</td>\n",
       "      <td>0.024876</td>\n",
       "    </tr>\n",
       "    <tr>\n",
       "      <th>3</th>\n",
       "      <td>0.005990</td>\n",
       "      <td>0.002881</td>\n",
       "      <td>-0.005880</td>\n",
       "      <td>0.013912</td>\n",
       "      <td>0.021995</td>\n",
       "      <td>-0.004886</td>\n",
       "      <td>0.032794</td>\n",
       "      <td>0.117351</td>\n",
       "      <td>-0.000520</td>\n",
       "      <td>0.073252</td>\n",
       "      <td>0.203481</td>\n",
       "      <td>-0.002954</td>\n",
       "    </tr>\n",
       "    <tr>\n",
       "      <th>4</th>\n",
       "      <td>0.002648</td>\n",
       "      <td>0.000506</td>\n",
       "      <td>-0.004260</td>\n",
       "      <td>0.005527</td>\n",
       "      <td>-0.004615</td>\n",
       "      <td>-0.004750</td>\n",
       "      <td>-0.000011</td>\n",
       "      <td>0.464108</td>\n",
       "      <td>-0.017094</td>\n",
       "      <td>0.036448</td>\n",
       "      <td>-0.055872</td>\n",
       "      <td>-0.008028</td>\n",
       "    </tr>\n",
       "  </tbody>\n",
       "</table>\n",
       "</div>"
      ],
      "text/plain": [
       "     season        yr      mnth   holiday   weekday  workingday  weathersit  \\\n",
       "0  0.047976 -0.029930 -0.042791  0.000833 -0.022746   -0.063676    0.017613   \n",
       "1  0.006137  0.005656  0.018250  0.009867  0.008570    0.012267    0.044986   \n",
       "2  0.138560  0.037670 -0.050820  0.086091  0.030328   -0.017770   -0.116688   \n",
       "3  0.005990  0.002881 -0.005880  0.013912  0.021995   -0.004886    0.032794   \n",
       "4  0.002648  0.000506 -0.004260  0.005527 -0.004615   -0.004750   -0.000011   \n",
       "\n",
       "       temp       hum  windspeed  days_since_2011   randvec  \n",
       "0  2.429040 -0.058567  -0.049434        -0.368113 -0.028671  \n",
       "1 -0.054257  0.082286   0.023090         0.469430 -0.031292  \n",
       "2  2.541887  0.072111  -0.035575        -0.320551  0.024876  \n",
       "3  0.117351 -0.000520   0.073252         0.203481 -0.002954  \n",
       "4  0.464108 -0.017094   0.036448        -0.055872 -0.008028  "
      ]
     },
     "execution_count": 72,
     "metadata": {},
     "output_type": "execute_result"
    }
   ],
   "source": [
    "pd.DataFrame(dscores, columns=x_cols)"
   ]
  },
  {
   "cell_type": "code",
   "execution_count": 82,
   "metadata": {},
   "outputs": [
    {
     "data": {
      "image/png": "[encoded data removed]",
      "text/plain": [
       "<Figure size 720x720 with 1 Axes>"
      ]
     },
     "metadata": {
      "needs_background": "light"
     },
     "output_type": "display_data"
    }
   ],
   "source": [
    "rf = RandomForestRegressor(n_estimators=100, max_depth=None, \n",
    "                           random_state=0)\n",
    "dscores = calc_mda(rf, X, y, folds=10, metric_fn=metrics.r2_score, \n",
    "                   score_fn=drop_refit_and_score)\n",
    "stats = calc_stats(dscores, x_cols)  \n",
    "hbar_plot(stats['median'], stats['std'], stats.index, 'Mean Decrease Accuracy')"
   ]
  },
  {
   "cell_type": "code",
   "execution_count": 80,
   "metadata": {},
   "outputs": [
    {
     "data": {
      "text/html": [
       "<div>\n",
       "<style scoped>\n",
       "    .dataframe tbody tr th:only-of-type {\n",
       "        vertical-align: middle;\n",
       "    }\n",
       "\n",
       "    .dataframe tbody tr th {\n",
       "        vertical-align: top;\n",
       "    }\n",
       "\n",
       "    .dataframe thead th {\n",
       "        text-align: right;\n",
       "    }\n",
       "</style>\n",
       "<table border=\"1\" class=\"dataframe\">\n",
       "  <thead>\n",
       "    <tr style=\"text-align: right;\">\n",
       "      <th></th>\n",
       "      <th>median</th>\n",
       "      <th>std</th>\n",
       "      <th>ratio</th>\n",
       "    </tr>\n",
       "  </thead>\n",
       "  <tbody>\n",
       "    <tr>\n",
       "      <th>windspeed</th>\n",
       "      <td>0.023090</td>\n",
       "      <td>0.024472</td>\n",
       "      <td>0.943526</td>\n",
       "    </tr>\n",
       "    <tr>\n",
       "      <th>weekday</th>\n",
       "      <td>0.008570</td>\n",
       "      <td>0.010116</td>\n",
       "      <td>0.847213</td>\n",
       "    </tr>\n",
       "    <tr>\n",
       "      <th>temp</th>\n",
       "      <td>0.464108</td>\n",
       "      <td>0.611679</td>\n",
       "      <td>0.758744</td>\n",
       "    </tr>\n",
       "    <tr>\n",
       "      <th>holiday</th>\n",
       "      <td>0.009867</td>\n",
       "      <td>0.016957</td>\n",
       "      <td>0.581860</td>\n",
       "    </tr>\n",
       "    <tr>\n",
       "      <th>weathersit</th>\n",
       "      <td>0.017613</td>\n",
       "      <td>0.031108</td>\n",
       "      <td>0.566200</td>\n",
       "    </tr>\n",
       "    <tr>\n",
       "      <th>yr</th>\n",
       "      <td>0.002881</td>\n",
       "      <td>0.011462</td>\n",
       "      <td>0.251315</td>\n",
       "    </tr>\n",
       "    <tr>\n",
       "      <th>season</th>\n",
       "      <td>0.006137</td>\n",
       "      <td>0.027750</td>\n",
       "      <td>0.221162</td>\n",
       "    </tr>\n",
       "    <tr>\n",
       "      <th>hum</th>\n",
       "      <td>-0.000520</td>\n",
       "      <td>0.028755</td>\n",
       "      <td>-0.018092</td>\n",
       "    </tr>\n",
       "    <tr>\n",
       "      <th>days_since_2011</th>\n",
       "      <td>-0.055872</td>\n",
       "      <td>0.169390</td>\n",
       "      <td>-0.329844</td>\n",
       "    </tr>\n",
       "    <tr>\n",
       "      <th>workingday</th>\n",
       "      <td>-0.004886</td>\n",
       "      <td>0.013784</td>\n",
       "      <td>-0.354463</td>\n",
       "    </tr>\n",
       "    <tr>\n",
       "      <th>mnth</th>\n",
       "      <td>-0.005880</td>\n",
       "      <td>0.013810</td>\n",
       "      <td>-0.425779</td>\n",
       "    </tr>\n",
       "    <tr>\n",
       "      <th>randvec</th>\n",
       "      <td>-0.008028</td>\n",
       "      <td>0.010873</td>\n",
       "      <td>-0.738362</td>\n",
       "    </tr>\n",
       "  </tbody>\n",
       "</table>\n",
       "</div>"
      ],
      "text/plain": [
       "                   median       std     ratio\n",
       "windspeed        0.023090  0.024472  0.943526\n",
       "weekday          0.008570  0.010116  0.847213\n",
       "temp             0.464108  0.611679  0.758744\n",
       "holiday          0.009867  0.016957  0.581860\n",
       "weathersit       0.017613  0.031108  0.566200\n",
       "yr               0.002881  0.011462  0.251315\n",
       "season           0.006137  0.027750  0.221162\n",
       "hum             -0.000520  0.028755 -0.018092\n",
       "days_since_2011 -0.055872  0.169390 -0.329844\n",
       "workingday      -0.004886  0.013784 -0.354463\n",
       "mnth            -0.005880  0.013810 -0.425779\n",
       "randvec         -0.008028  0.010873 -0.738362"
      ]
     },
     "execution_count": 80,
     "metadata": {},
     "output_type": "execute_result"
    }
   ],
   "source": [
    "stats.assign(ratio = lambda x:x['median']/x['std'])\\\n",
    "     .sort_values('ratio', ascending=False)"
   ]
  },
  {
   "cell_type": "code",
   "execution_count": 81,
   "metadata": {},
   "outputs": [
    {
     "data": {
      "text/html": [
       "<div>\n",
       "<style scoped>\n",
       "    .dataframe tbody tr th:only-of-type {\n",
       "        vertical-align: middle;\n",
       "    }\n",
       "\n",
       "    .dataframe tbody tr th {\n",
       "        vertical-align: top;\n",
       "    }\n",
       "\n",
       "    .dataframe thead th {\n",
       "        text-align: right;\n",
       "    }\n",
       "</style>\n",
       "<table border=\"1\" class=\"dataframe\">\n",
       "  <thead>\n",
       "    <tr style=\"text-align: right;\">\n",
       "      <th></th>\n",
       "      <th>season</th>\n",
       "      <th>yr</th>\n",
       "      <th>mnth</th>\n",
       "      <th>holiday</th>\n",
       "      <th>weekday</th>\n",
       "      <th>workingday</th>\n",
       "      <th>weathersit</th>\n",
       "      <th>temp</th>\n",
       "      <th>hum</th>\n",
       "      <th>windspeed</th>\n",
       "      <th>days_since_2011</th>\n",
       "      <th>randvec</th>\n",
       "    </tr>\n",
       "  </thead>\n",
       "  <tbody>\n",
       "    <tr>\n",
       "      <th>0</th>\n",
       "      <td>0.047976</td>\n",
       "      <td>-0.029930</td>\n",
       "      <td>-0.042791</td>\n",
       "      <td>0.000833</td>\n",
       "      <td>-0.022746</td>\n",
       "      <td>-0.063676</td>\n",
       "      <td>0.017613</td>\n",
       "      <td>2.429040</td>\n",
       "      <td>-0.058567</td>\n",
       "      <td>-0.049434</td>\n",
       "      <td>-0.368113</td>\n",
       "      <td>-0.028671</td>\n",
       "    </tr>\n",
       "    <tr>\n",
       "      <th>1</th>\n",
       "      <td>0.006137</td>\n",
       "      <td>0.005656</td>\n",
       "      <td>0.018250</td>\n",
       "      <td>0.009867</td>\n",
       "      <td>0.008570</td>\n",
       "      <td>0.012267</td>\n",
       "      <td>0.044986</td>\n",
       "      <td>-0.054257</td>\n",
       "      <td>0.082286</td>\n",
       "      <td>0.023090</td>\n",
       "      <td>0.469430</td>\n",
       "      <td>-0.031292</td>\n",
       "    </tr>\n",
       "    <tr>\n",
       "      <th>2</th>\n",
       "      <td>0.138560</td>\n",
       "      <td>0.037670</td>\n",
       "      <td>-0.050820</td>\n",
       "      <td>0.086091</td>\n",
       "      <td>0.030328</td>\n",
       "      <td>-0.017770</td>\n",
       "      <td>-0.116688</td>\n",
       "      <td>2.541887</td>\n",
       "      <td>0.072111</td>\n",
       "      <td>-0.035575</td>\n",
       "      <td>-0.320551</td>\n",
       "      <td>0.024876</td>\n",
       "    </tr>\n",
       "    <tr>\n",
       "      <th>3</th>\n",
       "      <td>0.005990</td>\n",
       "      <td>0.002881</td>\n",
       "      <td>-0.005880</td>\n",
       "      <td>0.013912</td>\n",
       "      <td>0.021995</td>\n",
       "      <td>-0.004886</td>\n",
       "      <td>0.032794</td>\n",
       "      <td>0.117351</td>\n",
       "      <td>-0.000520</td>\n",
       "      <td>0.073252</td>\n",
       "      <td>0.203481</td>\n",
       "      <td>-0.002954</td>\n",
       "    </tr>\n",
       "    <tr>\n",
       "      <th>4</th>\n",
       "      <td>0.002648</td>\n",
       "      <td>0.000506</td>\n",
       "      <td>-0.004260</td>\n",
       "      <td>0.005527</td>\n",
       "      <td>-0.004615</td>\n",
       "      <td>-0.004750</td>\n",
       "      <td>-0.000011</td>\n",
       "      <td>0.464108</td>\n",
       "      <td>-0.017094</td>\n",
       "      <td>0.036448</td>\n",
       "      <td>-0.055872</td>\n",
       "      <td>-0.008028</td>\n",
       "    </tr>\n",
       "  </tbody>\n",
       "</table>\n",
       "</div>"
      ],
      "text/plain": [
       "     season        yr      mnth   holiday   weekday  workingday  weathersit  \\\n",
       "0  0.047976 -0.029930 -0.042791  0.000833 -0.022746   -0.063676    0.017613   \n",
       "1  0.006137  0.005656  0.018250  0.009867  0.008570    0.012267    0.044986   \n",
       "2  0.138560  0.037670 -0.050820  0.086091  0.030328   -0.017770   -0.116688   \n",
       "3  0.005990  0.002881 -0.005880  0.013912  0.021995   -0.004886    0.032794   \n",
       "4  0.002648  0.000506 -0.004260  0.005527 -0.004615   -0.004750   -0.000011   \n",
       "\n",
       "       temp       hum  windspeed  days_since_2011   randvec  \n",
       "0  2.429040 -0.058567  -0.049434        -0.368113 -0.028671  \n",
       "1 -0.054257  0.082286   0.023090         0.469430 -0.031292  \n",
       "2  2.541887  0.072111  -0.035575        -0.320551  0.024876  \n",
       "3  0.117351 -0.000520   0.073252         0.203481 -0.002954  \n",
       "4  0.464108 -0.017094   0.036448        -0.055872 -0.008028  "
      ]
     },
     "execution_count": 81,
     "metadata": {},
     "output_type": "execute_result"
    }
   ],
   "source": [
    "pd.DataFrame(dscores, columns = x_cols)"
   ]
  }
 ],
 "metadata": {
  "kernelspec": {
   "display_name": "Python 3",
   "language": "python",
   "name": "python3"
  },
  "language_info": {
   "codemirror_mode": {
    "name": "ipython",
    "version": 3
   },
   "file_extension": ".py",
   "mimetype": "text/x-python",
   "name": "python",
   "nbconvert_exporter": "python",
   "pygments_lexer": "ipython3",
   "version": "3.5.2"
  }
 },
 "nbformat": 4,
 "nbformat_minor": 2
}
