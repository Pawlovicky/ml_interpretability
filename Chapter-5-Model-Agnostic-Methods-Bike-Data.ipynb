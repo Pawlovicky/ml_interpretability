{
 "cells": [
  {
   "cell_type": "markdown",
   "metadata": {},
   "source": [
    "# 1. Fit a function on your bike data\n",
    "Before we can start with interpreting our model, we need a model that fits\n",
    "the data reasonably well. In more mathematical terms, that means we would like to have a model that has reasonable $R^2$ or accuraccy on the test set."
   ]
  },
  {
   "cell_type": "code",
   "execution_count": 1,
   "metadata": {},
   "outputs": [
    {
     "data": {
      "text/html": [
       "<div>\n",
       "<style scoped>\n",
       "    .dataframe tbody tr th:only-of-type {\n",
       "        vertical-align: middle;\n",
       "    }\n",
       "\n",
       "    .dataframe tbody tr th {\n",
       "        vertical-align: top;\n",
       "    }\n",
       "\n",
       "    .dataframe thead th {\n",
       "        text-align: right;\n",
       "    }\n",
       "</style>\n",
       "<table border=\"1\" class=\"dataframe\">\n",
       "  <thead>\n",
       "    <tr style=\"text-align: right;\">\n",
       "      <th></th>\n",
       "      <th>season</th>\n",
       "      <th>yr</th>\n",
       "      <th>mnth</th>\n",
       "      <th>holiday</th>\n",
       "      <th>weekday</th>\n",
       "      <th>workingday</th>\n",
       "      <th>weathersit</th>\n",
       "      <th>temp</th>\n",
       "      <th>hum</th>\n",
       "      <th>windspeed</th>\n",
       "      <th>cnt</th>\n",
       "      <th>days_since_2011</th>\n",
       "    </tr>\n",
       "  </thead>\n",
       "  <tbody>\n",
       "    <tr>\n",
       "      <th>0</th>\n",
       "      <td>SPRING</td>\n",
       "      <td>2011</td>\n",
       "      <td>JAN</td>\n",
       "      <td>NO HOLIDAY</td>\n",
       "      <td>SAT</td>\n",
       "      <td>NO WORKING DAY</td>\n",
       "      <td>MISTY</td>\n",
       "      <td>8.175849</td>\n",
       "      <td>80.5833</td>\n",
       "      <td>10.749882</td>\n",
       "      <td>985</td>\n",
       "      <td>0</td>\n",
       "    </tr>\n",
       "    <tr>\n",
       "      <th>1</th>\n",
       "      <td>SPRING</td>\n",
       "      <td>2011</td>\n",
       "      <td>JAN</td>\n",
       "      <td>NO HOLIDAY</td>\n",
       "      <td>SUN</td>\n",
       "      <td>NO WORKING DAY</td>\n",
       "      <td>MISTY</td>\n",
       "      <td>9.083466</td>\n",
       "      <td>69.6087</td>\n",
       "      <td>16.652113</td>\n",
       "      <td>801</td>\n",
       "      <td>1</td>\n",
       "    </tr>\n",
       "    <tr>\n",
       "      <th>2</th>\n",
       "      <td>SPRING</td>\n",
       "      <td>2011</td>\n",
       "      <td>JAN</td>\n",
       "      <td>NO HOLIDAY</td>\n",
       "      <td>MON</td>\n",
       "      <td>WORKING DAY</td>\n",
       "      <td>GOOD</td>\n",
       "      <td>1.229108</td>\n",
       "      <td>43.7273</td>\n",
       "      <td>16.636703</td>\n",
       "      <td>1349</td>\n",
       "      <td>2</td>\n",
       "    </tr>\n",
       "    <tr>\n",
       "      <th>3</th>\n",
       "      <td>SPRING</td>\n",
       "      <td>2011</td>\n",
       "      <td>JAN</td>\n",
       "      <td>NO HOLIDAY</td>\n",
       "      <td>TUE</td>\n",
       "      <td>WORKING DAY</td>\n",
       "      <td>GOOD</td>\n",
       "      <td>1.400000</td>\n",
       "      <td>59.0435</td>\n",
       "      <td>10.739832</td>\n",
       "      <td>1562</td>\n",
       "      <td>3</td>\n",
       "    </tr>\n",
       "    <tr>\n",
       "      <th>4</th>\n",
       "      <td>SPRING</td>\n",
       "      <td>2011</td>\n",
       "      <td>JAN</td>\n",
       "      <td>NO HOLIDAY</td>\n",
       "      <td>WED</td>\n",
       "      <td>WORKING DAY</td>\n",
       "      <td>GOOD</td>\n",
       "      <td>2.666979</td>\n",
       "      <td>43.6957</td>\n",
       "      <td>12.522300</td>\n",
       "      <td>1600</td>\n",
       "      <td>4</td>\n",
       "    </tr>\n",
       "  </tbody>\n",
       "</table>\n",
       "</div>"
      ],
      "text/plain": [
       "   season    yr mnth     holiday weekday      workingday weathersit      temp  \\\n",
       "0  SPRING  2011  JAN  NO HOLIDAY     SAT  NO WORKING DAY      MISTY  8.175849   \n",
       "1  SPRING  2011  JAN  NO HOLIDAY     SUN  NO WORKING DAY      MISTY  9.083466   \n",
       "2  SPRING  2011  JAN  NO HOLIDAY     MON     WORKING DAY       GOOD  1.229108   \n",
       "3  SPRING  2011  JAN  NO HOLIDAY     TUE     WORKING DAY       GOOD  1.400000   \n",
       "4  SPRING  2011  JAN  NO HOLIDAY     WED     WORKING DAY       GOOD  2.666979   \n",
       "\n",
       "       hum  windspeed   cnt  days_since_2011  \n",
       "0  80.5833  10.749882   985                0  \n",
       "1  69.6087  16.652113   801                1  \n",
       "2  43.7273  16.636703  1349                2  \n",
       "3  59.0435  10.739832  1562                3  \n",
       "4  43.6957  12.522300  1600                4  "
      ]
     },
     "execution_count": 1,
     "metadata": {},
     "output_type": "execute_result"
    }
   ],
   "source": [
    "import pandas as pd\n",
    "import numpy as np\n",
    "import matplotlib.pyplot as plt\n",
    "from sklearn.ensemble import RandomForestRegressor \n",
    "\n",
    "bike = pd.read_csv('bike.csv').iloc[:, 1:]\n",
    "bike.head()"
   ]
  },
  {
   "cell_type": "code",
   "execution_count": 2,
   "metadata": {},
   "outputs": [],
   "source": [
    "from sklearn.datasets import load_iris\n",
    "from sklearn import preprocessing\n",
    "from sklearn.model_selection import train_test_split\n",
    "from sklearn.ensemble import RandomForestRegressor\n",
    "from sklearn.metrics import r2_score"
   ]
  },
  {
   "cell_type": "markdown",
   "metadata": {},
   "source": [
    "For control purposes, we add a perfectly correlated feature and one random feature to the test set"
   ]
  },
  {
   "cell_type": "code",
   "execution_count": null,
   "metadata": {},
   "outputs": [],
   "source": []
  },
  {
   "cell_type": "code",
   "execution_count": 329,
   "metadata": {},
   "outputs": [],
   "source": [
    "def prepare_bike_data(collinear_feature = None):\n",
    "    bike = pd.read_csv('bike.csv').iloc[:, 1:]\n",
    "    bike['randvec'] = np.random.rand(bike.shape[0])\n",
    "    if not collinear_feature is None:\n",
    "        bike['col_' + collinear_feature] = bike[collinear_feature]\n",
    "    cat_cols = bike.select_dtypes('object').columns\n",
    "    non_cat_cols = bike.columns[~bike.columns.isin(cat_cols)]\n",
    "    enc = preprocessing.OrdinalEncoder()\n",
    "    enc.fit(bike.loc[:, cat_cols])\n",
    "    bike.loc[:, cat_cols] = enc.transform(bike.loc[:, cat_cols].values)\n",
    "    return enc, bike\n",
    "\n",
    "def prepare_x_y(df, y_col):\n",
    "    X = df.loc[:, ~df.columns.isin([y_col])].values\n",
    "    x_cols = df.loc[:, ~df.columns.isin([y_col])].columns\n",
    "    y = df.loc[:, y_col].values\n",
    "    return X, y, x_cols\n",
    "\n",
    "#bike = prepare_bike_data(collinear_feature='days_since_2011')\n",
    "enc, bike = prepare_bike_data()\n",
    "X, y, x_cols = prepare_x_y(bike, y_col='cnt')\n",
    "X_train, X_test, y_train, y_test = train_test_split(X, y, \n",
    "                                        test_size = 0.2, random_state=42)\n"
   ]
  },
  {
   "cell_type": "code",
   "execution_count": 4,
   "metadata": {},
   "outputs": [],
   "source": [
    "rf = RandomForestRegressor(n_estimators=100, max_depth=None, \n",
    "                           random_state=0)\n",
    "rf = rf.fit(X_train, y_train)\n",
    "y_train_pred = rf.predict(X_train)\n",
    "y_test_pred = rf.predict(X_test)"
   ]
  },
  {
   "cell_type": "code",
   "execution_count": 5,
   "metadata": {},
   "outputs": [
    {
     "data": {
      "text/plain": [
       "0.8732070815403943"
      ]
     },
     "execution_count": 5,
     "metadata": {},
     "output_type": "execute_result"
    }
   ],
   "source": [
    "r2_score(y_test, y_test_pred)"
   ]
  },
  {
   "cell_type": "markdown",
   "metadata": {},
   "source": [
    "We note that we get a very impressive $R^2$ of 88%. Lets now use this model for interpretation"
   ]
  },
  {
   "cell_type": "code",
   "execution_count": 6,
   "metadata": {},
   "outputs": [
    {
     "name": "stdout",
     "output_type": "stream",
     "text": [
      "Feature ranking:\n",
      "1. feature 10 (0.629278)\n",
      "2. feature 7 (0.221841)\n",
      "3. feature 8 (0.055154)\n",
      "4. feature 9 (0.028701)\n",
      "5. feature 6 (0.019065)\n",
      "6. feature 11 (0.014926)\n",
      "7. feature 2 (0.009417)\n",
      "8. feature 4 (0.006866)\n",
      "9. feature 5 (0.006180)\n",
      "10. feature 0 (0.005556)\n",
      "11. feature 3 (0.002639)\n",
      "12. feature 1 (0.000377)\n"
     ]
    },
    {
     "data": {
      "image/png": "[encoded data removed]",
      "text/plain": [
       "<Figure size 432x288 with 1 Axes>"
      ]
     },
     "metadata": {
      "needs_background": "light"
     },
     "output_type": "display_data"
    }
   ],
   "source": [
    "def plot_mdi_feature_importance(forest, x_cols):\n",
    "    importances = forest.feature_importances_\n",
    "    std = np.std([tree.feature_importances_ for tree in forest.estimators_],\n",
    "                 axis=0)\n",
    "    indices = np.argsort(importances)[::-1]\n",
    "    \n",
    "    # Print the feature ranking\n",
    "    print(\"Feature ranking:\")\n",
    "    \n",
    "    for f in range(X.shape[1]):\n",
    "        print(\"%d. feature %d (%f)\" % (f + 1, indices[f], importances[indices[f]]))\n",
    "    \n",
    "    # Plot the feature importances of the forest\n",
    "    plt.figure()\n",
    "    plt.title(\"Feature importances\")\n",
    "    plt.bar(range(X.shape[1]), importances[indices],\n",
    "           color=\"r\", yerr=std[indices], align=\"center\")\n",
    "    #plt.xticks(range(X.shape[1]), indices)\n",
    "    plt.xticks(range(X.shape[1]), x_cols[indices], rotation='vertical')\n",
    "    plt.xlim([-1, X.shape[1]])\n",
    "    plt.show()\n",
    "plot_mdi_feature_importance(rf, x_cols)"
   ]
  },
  {
   "cell_type": "markdown",
   "metadata": {},
   "source": [
    "Our standard method (mean decrease impurity) tells us that days since 2011 are the most important features. This hints at a trend, which is confirmed below."
   ]
  },
  {
   "cell_type": "code",
   "execution_count": 7,
   "metadata": {},
   "outputs": [
    {
     "data": {
      "text/plain": [
       "[<matplotlib.lines.Line2D at 0x7f3e3d061780>]"
      ]
     },
     "execution_count": 7,
     "metadata": {},
     "output_type": "execute_result"
    },
    {
     "data": {
      "image/png": "[encoded data removed]",
      "text/plain": [
       "<Figure size 432x288 with 1 Axes>"
      ]
     },
     "metadata": {
      "needs_background": "light"
     },
     "output_type": "display_data"
    }
   ],
   "source": [
    "plt.plot(bike['days_since_2011'], bike['cnt'])"
   ]
  },
  {
   "cell_type": "markdown",
   "metadata": {},
   "source": [
    "We are also interested in the degree of collinearity of our features.\n",
    "We find that humidity and weather situation have the highest correlation 60%. The rest of our features are reasonably decorrelated"
   ]
  },
  {
   "cell_type": "code",
   "execution_count": 8,
   "metadata": {},
   "outputs": [
    {
     "data": {
      "text/plain": [
       "<matplotlib.axes._subplots.AxesSubplot at 0x7f3e1c07d160>"
      ]
     },
     "execution_count": 8,
     "metadata": {},
     "output_type": "execute_result"
    },
    {
     "data": {
      "image/png": "[encoded data removed]",
      "text/plain": [
       "<Figure size 432x288 with 2 Axes>"
      ]
     },
     "metadata": {
      "needs_background": "light"
     },
     "output_type": "display_data"
    }
   ],
   "source": [
    "bike.corr()\n",
    "import seaborn as sns\n",
    "sns.heatmap(bike.drop('cnt', axis=1).corr())"
   ]
  },
  {
   "cell_type": "markdown",
   "metadata": {},
   "source": [
    "# 5.1.1 Partial Dependence Plot"
   ]
  },
  {
   "cell_type": "code",
   "execution_count": 28,
   "metadata": {},
   "outputs": [],
   "source": [
    "y_col = 'cnt'\n",
    "feature_names = ['temp', 'hum', 'windspeed', 'randvec', \n",
    "                 'days_since_2011', 'season', 'weathersit']\n",
    "features = [bike.drop(y_col, axis=1).columns.get_loc(x) \n",
    "             for x in feature_names]"
   ]
  },
  {
   "cell_type": "code",
   "execution_count": 29,
   "metadata": {},
   "outputs": [
    {
     "data": {
      "image/png": "[encoded data removed]",
      "text/plain": [
       "<Figure size 360x720 with 1 Axes>"
      ]
     },
     "metadata": {
      "needs_background": "light"
     },
     "output_type": "display_data"
    },
    {
     "data": {
      "image/png": "[encoded data removed]",
      "text/plain": [
       "<Figure size 360x720 with 1 Axes>"
      ]
     },
     "metadata": {
      "needs_background": "light"
     },
     "output_type": "display_data"
    },
    {
     "data": {
      "image/png": "[encoded data removed]",
      "text/plain": [
       "<Figure size 360x720 with 1 Axes>"
      ]
     },
     "metadata": {
      "needs_background": "light"
     },
     "output_type": "display_data"
    },
    {
     "data": {
      "image/png": "[encoded data removed]",
      "text/plain": [
       "<Figure size 360x720 with 1 Axes>"
      ]
     },
     "metadata": {
      "needs_background": "light"
     },
     "output_type": "display_data"
    },
    {
     "data": {
      "image/png": "[encoded data removed]",
      "text/plain": [
       "<Figure size 360x720 with 1 Axes>"
      ]
     },
     "metadata": {
      "needs_background": "light"
     },
     "output_type": "display_data"
    },
    {
     "data": {
      "image/png": "[encoded data removed]",
      "text/plain": [
       "<Figure size 360x720 with 1 Axes>"
      ]
     },
     "metadata": {
      "needs_background": "light"
     },
     "output_type": "display_data"
    },
    {
     "data": {
      "image/png": "[encoded data removed]",
      "text/plain": [
       "<Figure size 360x720 with 1 Axes>"
      ]
     },
     "metadata": {
      "needs_background": "light"
     },
     "output_type": "display_data"
    }
   ],
   "source": [
    "def pdp_plot(X, rf, feature_no, feature_name, y_name, multiplier=100):\n",
    "    feat_sort_idx = X[:, feature_no].argsort()\n",
    "    X = X[feat_sort_idx, :]\n",
    "    n = X.shape[0]\n",
    "    x_vals = np.vstack([X]*n)\n",
    "    x_vals[:, feature_no] = np.repeat(X[:, feature_no], n)\n",
    "    y_vals = rf.predict(x_vals)\n",
    "    x_vals = np.mean(x_vals[:, feature_no].reshape((n, n)), axis=-1)\n",
    "    y_vals = np.mean(y_vals.reshape(n, n), axis=-1)\n",
    "    plt.xlabel(feature_name)\n",
    "    plt.ylabel(y_name)\n",
    "    return plt.scatter(x_vals, y_vals)\n",
    "\n",
    "for i, _ in enumerate(feature_names):\n",
    "    plt.figure(figsize=(5,10))\n",
    "    plt.subplot(len(feature_names), 1, i+1)\n",
    "    plt.tight_layout()\n",
    "    pdp_plot(X, rf, features[i], feature_names[i], \n",
    "          y_name = 'Bike Count')"
   ]
  },
  {
   "cell_type": "code",
   "execution_count": 305,
   "metadata": {},
   "outputs": [
    {
     "name": "stdout",
     "output_type": "stream",
     "text": [
      "CPU times: user 1min 14s, sys: 1.06 s, total: 1min 15s\n",
      "Wall time: 1min 15s\n"
     ]
    },
    {
     "data": {
      "image/png": "[encoded data removed]",
      "text/plain": [
       "<Figure size 432x288 with 1 Axes>"
      ]
     },
     "metadata": {
      "needs_background": "light"
     },
     "output_type": "display_data"
    }
   ],
   "source": [
    "%%time\n",
    "def lin_space_or_unique(x, lin_num):\n",
    "    unique_elements = np.unique(np.sort(x))\n",
    "    if unique_elements.shape[0] <= lin_num:\n",
    "        X_vals = unique_elements\n",
    "    else:\n",
    "        X_vals = np.linspace(min(unique_elements), max(unique_elements), \n",
    "                             num=lin_num)\n",
    "    return X_vals\n",
    "\n",
    "def create_grid(X, remaining_features, lin_num):\n",
    "    feature_lists = [lin_space_or_unique(X[:, idx], lin_num) for idx in \n",
    "                     remaining_features]\n",
    "    x = np.meshgrid(*feature_lists)\n",
    "    out = np.array([m.flatten() for m in x]).T\n",
    "    return out\n",
    "\n",
    "def pdp_fun(X_s, X, remaining_features, rf, subtract_mean=True):\n",
    "    x_vals = np.vstack([X]*X_s.shape[0])\n",
    "    X_s_repeat = np.repeat(X_s, X.shape[0], axis=0)\n",
    "    X_s_repeat.shape\n",
    "    x_vals[:, remaining_features] = X_s_repeat\n",
    "    y_vals = rf.predict(x_vals)\n",
    "    y_out = np.mean(y_vals.reshape(-1, X.shape[0]), axis=1)\n",
    "    #x_vals = x_vals[:, remaining_features].reshape(X.shape[0], X_s.shape[0])\n",
    "    if subtract_mean is True:\n",
    "        y_out = y_out - np.mean(y_out)\n",
    "    return X_grid, y_out\n",
    "\n",
    "def friedman_Hjk2(rfeat, X, rf):\n",
    "    _, PDjki = pdp_fun(X[:, rfeat], X, rfeat, rf)\n",
    "    _, PDjk = pdp_fun(X[:, [rfeat[0]]], X, [rfeat[0]], rf)\n",
    "    _, PDji = pdp_fun(X[:, [rfeat[1]]], X, [rfeat[1]], rf)              \n",
    "    Hjk2 = np.power(PDjki - PDjk - PDji, 2).sum()/np.power(PDjik, 2).sum()\n",
    "    return Hjk2\n",
    "\n",
    "def friedman_Hj2(feat_no, X, rf):\n",
    "    minus_j = np.r_[0:feat_no, (feat_no + 1):X.shape[1]]\n",
    "    fbar = rf.predict(X)\n",
    "    fbar = fbar - np.mean(fbar)\n",
    "    _, PDj = pdp_fun(X[:, [feat_no]], X, [feat_no], rf)\n",
    "    _, PDminusj = pdp_fun(X[:, minus_j], X, minus_j, rf)\n",
    "    Hj2 = np.power(fbar - PDj - PDminusj, 2).sum()/np.power(fbar, 2).sum()\n",
    "    return Hj2\n",
    "\n",
    "def calc_and_plot_Hj2(X, rf, full_feature_list):\n",
    "    Hj2_list = [friedman_Hj2(i, X, rf) for i, v in \n",
    "                enumerate(full_feature_list)]\n",
    "    out_vals = pd.DataFrame(Hj2_list, index=full_feature_list, \n",
    "                            columns=['Hj2'])\\\n",
    "                 .sort_values('Hj2', ascending=False)\n",
    "    out_vals.plot.bar()\n",
    "    return out_vals\n",
    "\n",
    "remaining_features = [6, 10]\n",
    "lin_num = 10\n",
    "X_grid = create_grid(X, remaining_features, lin_num = 10)\n",
    "x_out, y_out = pdp_fun(X_grid, X, remaining_features, rf)\n",
    "# to get the 'diagonal' for our features\n",
    "\n",
    "full_feature_list = bike.drop('cnt', axis = 1).columns.tolist()\n",
    "calc_and_plot_Hj2(X, rf, full_feature_list)"
   ]
  },
  {
   "cell_type": "code",
   "execution_count": 323,
   "metadata": {
    "scrolled": false
   },
   "outputs": [
    {
     "data": {
      "image/png": "[encoded data removed]",
      "text/plain": [
       "<Figure size 360x2160 with 1 Axes>"
      ]
     },
     "metadata": {
      "needs_background": "light"
     },
     "output_type": "display_data"
    },
    {
     "data": {
      "image/png": "[encoded data removed]",
      "text/plain": [
       "<Figure size 360x2160 with 1 Axes>"
      ]
     },
     "metadata": {
      "needs_background": "light"
     },
     "output_type": "display_data"
    },
    {
     "data": {
      "image/png": "[encoded data removed]",
      "text/plain": [
       "<Figure size 360x2160 with 1 Axes>"
      ]
     },
     "metadata": {
      "needs_background": "light"
     },
     "output_type": "display_data"
    },
    {
     "data": {
      "image/png": "[encoded data removed]",
      "text/plain": [
       "<Figure size 360x2160 with 1 Axes>"
      ]
     },
     "metadata": {
      "needs_background": "light"
     },
     "output_type": "display_data"
    },
    {
     "data": {
      "image/png": "[encoded data removed]",
      "text/plain": [
       "<Figure size 360x2160 with 1 Axes>"
      ]
     },
     "metadata": {
      "needs_background": "light"
     },
     "output_type": "display_data"
    }
   ],
   "source": [
    "y_name = 'Bicycle Counts'\n",
    "y_col = 'cnt'\n",
    "feature_names = ['temp', 'hum', 'windspeed', 'randvec', \n",
    "                 'days_since_2011']\n",
    "features = [bike.drop(y_col, axis=1).columns.get_loc(x) \n",
    "             for x in feature_names]\n",
    "\n",
    "for i, v in enumerate(features):\n",
    "    rfeat = [v]\n",
    "    X_grid = create_grid(X, rfeat, lin_num = 100)\n",
    "    x_out, y_out = pdp_fun(X_grid, X, rfeat, rf, False)\n",
    "    plt.figure(figsize=(5,30))\n",
    "    plt.subplot(len(feature_names), 1, i+1)\n",
    "    plt.tight_layout()\n",
    "    plt.xlabel(feature_names[i])\n",
    "    plt.ylabel(y_name)\n",
    "    plt.ylim((0, 6000))\n",
    "    plt.grid(True)\n",
    "    plt.plot(x_out, y_out)"
   ]
  },
  {
   "cell_type": "code",
   "execution_count": 316,
   "metadata": {},
   "outputs": [
    {
     "data": {
      "text/plain": [
       "['temp',\n",
       " 'hum',\n",
       " 'windspeed',\n",
       " 'randvec',\n",
       " 'days_since_2011',\n",
       " 'season',\n",
       " 'weathersit']"
      ]
     },
     "execution_count": 316,
     "metadata": {},
     "output_type": "execute_result"
    }
   ],
   "source": [
    "feature_names"
   ]
  },
  {
   "cell_type": "code",
   "execution_count": 322,
   "metadata": {},
   "outputs": [
    {
     "data": {
      "text/plain": [
       "[0, 6]"
      ]
     },
     "execution_count": 322,
     "metadata": {},
     "output_type": "execute_result"
    }
   ],
   "source": [
    "features[-2:]"
   ]
  },
  {
   "cell_type": "code",
   "execution_count": 328,
   "metadata": {
    "scrolled": false
   },
   "outputs": [
    {
     "data": {
      "image/png": "[encoded data removed]",
      "text/plain": [
       "<Figure size 360x360 with 1 Axes>"
      ]
     },
     "metadata": {
      "needs_background": "light"
     },
     "output_type": "display_data"
    },
    {
     "data": {
      "image/png": "[encoded data removed]",
      "text/plain": [
       "<Figure size 360x360 with 1 Axes>"
      ]
     },
     "metadata": {
      "needs_background": "light"
     },
     "output_type": "display_data"
    }
   ],
   "source": [
    "y_col = 'cnt'\n",
    "feature_names = ['season', 'weathersit']\n",
    "features = [bike.drop(y_col, axis=1).columns.get_loc(x) \n",
    "             for x in feature_names]\n",
    "\n",
    "y_name = 'Bicycle Counts'\n",
    "for i, v in enumerate(features[-2:]):\n",
    "    rfeat = [v]\n",
    "    X_grid = create_grid(X, rfeat, lin_num = 100)\n",
    "    x_out, y_out = pdp_fun(X_grid, X, rfeat, rf, False)\n",
    "    plt.figure(figsize=(5,5))\n",
    "    plt.subplot(len(feature_names), 1, i+1)\n",
    "    plt.tight_layout()\n",
    "    plt.xlabel(feature_names[i])\n",
    "    plt.ylabel(y_name)\n",
    "    plt.ylim((0, 6000))\n",
    "    plt.grid(True)\n",
    "    plt.bar(x_out.flatten(), y_out)"
   ]
  },
  {
   "cell_type": "code",
   "execution_count": null,
   "metadata": {},
   "outputs": [],
   "source": [
    "enc"
   ]
  },
  {
   "cell_type": "code",
   "execution_count": 326,
   "metadata": {},
   "outputs": [
    {
     "data": {
      "text/plain": [
       "array([0., 1., 2., 3.])"
      ]
     },
     "execution_count": 326,
     "metadata": {},
     "output_type": "execute_result"
    }
   ],
   "source": [
    "x_out.flatten()"
   ]
  },
  {
   "cell_type": "code",
   "execution_count": null,
   "metadata": {},
   "outputs": [],
   "source": [
    "X_grid = create_grid(X, remaining_features, lin_num = 10)"
   ]
  },
  {
   "cell_type": "code",
   "execution_count": null,
   "metadata": {},
   "outputs": [],
   "source": [
    "X[:, :]"
   ]
  },
  {
   "cell_type": "code",
   "execution_count": 243,
   "metadata": {},
   "outputs": [
    {
     "data": {
      "text/plain": [
       "[6]"
      ]
     },
     "execution_count": 243,
     "metadata": {},
     "output_type": "execute_result"
    }
   ],
   "source": [
    "feat_no = 10\n",
    "minus_j = np.r_[0:feat_no, (feat_no + 1):X.shape[1]]\n",
    "fbar = rf(X)\n",
    "fbar = fbar - np.mean(fbar)\n",
    "_, PDj = pdp_fun(X[:, [feat_no]], X, [feat_no], rf)\n",
    "_, PDminusj = pdp_fun(X[:, minus_j], X, minus_j, rf)\n",
    "Hj2 = np.sum(np.power(fbar - PDj - PDminusj ,2))/np.sum(np.power(fbar))\n",
    "return Hj2"
   ]
  },
  {
   "cell_type": "code",
   "execution_count": 245,
   "metadata": {},
   "outputs": [
    {
     "data": {
      "text/plain": [
       "[10]"
      ]
     },
     "execution_count": 245,
     "metadata": {},
     "output_type": "execute_result"
    }
   ],
   "source": [
    "remaining_features[1:2]"
   ]
  },
  {
   "cell_type": "code",
   "execution_count": 250,
   "metadata": {},
   "outputs": [],
   "source": [
    "# friedman_H\n",
    "def friedman_Hjk2(rfeat, X, rf):\n",
    "    _, PDjki = pdp_fun(X[:, rfeat], X, rfeat, rf)\n",
    "    _, PDjk = pdp_fun(X[:, [rfeat[0]]], X, [rfeat[0]], rf)\n",
    "    _, PDji = pdp_fun(X[:, [rfeat[1]]], X, [rfeat[1]], rf)              \n",
    "    Hjk2 = np.sum(np.power(PDjki - PDjk - PDji, 2))/np.sum(np.power(PDjik, 2))\n",
    "    return Hjk2"
   ]
  },
  {
   "cell_type": "code",
   "execution_count": null,
   "metadata": {},
   "outputs": [],
   "source": []
  },
  {
   "cell_type": "code",
   "execution_count": null,
   "metadata": {},
   "outputs": [],
   "source": []
  },
  {
   "cell_type": "code",
   "execution_count": 248,
   "metadata": {},
   "outputs": [
    {
     "data": {
      "text/plain": [
       "array([4416.61659371, 4416.61659371, 4580.61341997, 4580.61341997,\n",
       "       4580.61341997, 4580.61341997, 4416.61659371, 4416.61659371,\n",
       "       4580.61341997, 4580.61341997, 4416.61659371, 4580.61341997,\n",
       "       4580.61341997, 4580.61341997, 4416.61659371, 4580.61341997,\n",
       "       4416.61659371, 4416.61659371, 4416.61659371, 4416.61659371,\n",
       "       4580.61341997, 4580.61341997, 4580.61341997, 4580.61341997,\n",
       "       4416.61659371, 4059.50024624, 4580.61341997, 4416.61659371,\n",
       "       4580.61341997, 4580.61341997, 4416.61659371, 4416.61659371,\n",
       "       4416.61659371, 4580.61341997, 4416.61659371, 4416.61659371,\n",
       "       4580.61341997, 4580.61341997, 4580.61341997, 4416.61659371,\n",
       "       4580.61341997, 4580.61341997, 4580.61341997, 4580.61341997,\n",
       "       4580.61341997, 4580.61341997, 4580.61341997, 4580.61341997,\n",
       "       4580.61341997, 4580.61341997, 4580.61341997, 4416.61659371,\n",
       "       4580.61341997, 4580.61341997, 4416.61659371, 4416.61659371,\n",
       "       4580.61341997, 4580.61341997, 4416.61659371, 4580.61341997,\n",
       "       4580.61341997, 4580.61341997, 4416.61659371, 4416.61659371,\n",
       "       4416.61659371, 4580.61341997, 4580.61341997, 4416.61659371,\n",
       "       4059.50024624, 4416.61659371, 4580.61341997, 4580.61341997,\n",
       "       4580.61341997, 4416.61659371, 4416.61659371, 4580.61341997,\n",
       "       4580.61341997, 4580.61341997, 4580.61341997, 4416.61659371,\n",
       "       4580.61341997, 4416.61659371, 4416.61659371, 4580.61341997,\n",
       "       4580.61341997, 4416.61659371, 4580.61341997, 4580.61341997,\n",
       "       4416.61659371, 4059.50024624, 4416.61659371, 4416.61659371,\n",
       "       4580.61341997, 4580.61341997, 4416.61659371, 4580.61341997,\n",
       "       4580.61341997, 4416.61659371, 4416.61659371, 4416.61659371,\n",
       "       4416.61659371, 4416.61659371, 4416.61659371, 4580.61341997,\n",
       "       4580.61341997, 4059.50024624, 4580.61341997, 4580.61341997,\n",
       "       4416.61659371, 4580.61341997, 4580.61341997, 4416.61659371,\n",
       "       4416.61659371, 4416.61659371, 4580.61341997, 4580.61341997,\n",
       "       4416.61659371, 4416.61659371, 4580.61341997, 4580.61341997,\n",
       "       4416.61659371, 4416.61659371, 4416.61659371, 4416.61659371,\n",
       "       4580.61341997, 4580.61341997, 4580.61341997, 4580.61341997,\n",
       "       4580.61341997, 4580.61341997, 4580.61341997, 4580.61341997,\n",
       "       4416.61659371, 4416.61659371, 4416.61659371, 4580.61341997,\n",
       "       4416.61659371, 4416.61659371, 4416.61659371, 4580.61341997,\n",
       "       4580.61341997, 4580.61341997, 4416.61659371, 4416.61659371,\n",
       "       4580.61341997, 4580.61341997, 4580.61341997, 4580.61341997,\n",
       "       4580.61341997, 4580.61341997, 4580.61341997, 4416.61659371,\n",
       "       4580.61341997, 4580.61341997, 4580.61341997, 4416.61659371,\n",
       "       4580.61341997, 4580.61341997, 4580.61341997, 4416.61659371,\n",
       "       4580.61341997, 4580.61341997, 4580.61341997, 4580.61341997,\n",
       "       4580.61341997, 4580.61341997, 4416.61659371, 4580.61341997,\n",
       "       4580.61341997, 4416.61659371, 4416.61659371, 4416.61659371,\n",
       "       4580.61341997, 4416.61659371, 4580.61341997, 4580.61341997,\n",
       "       4580.61341997, 4416.61659371, 4580.61341997, 4580.61341997,\n",
       "       4580.61341997, 4580.61341997, 4580.61341997, 4416.61659371,\n",
       "       4416.61659371, 4580.61341997, 4580.61341997, 4580.61341997,\n",
       "       4416.61659371, 4580.61341997, 4580.61341997, 4580.61341997,\n",
       "       4580.61341997, 4580.61341997, 4580.61341997, 4580.61341997,\n",
       "       4580.61341997, 4580.61341997, 4580.61341997, 4580.61341997,\n",
       "       4580.61341997, 4416.61659371, 4580.61341997, 4580.61341997,\n",
       "       4580.61341997, 4580.61341997, 4580.61341997, 4580.61341997,\n",
       "       4580.61341997, 4580.61341997, 4580.61341997, 4580.61341997,\n",
       "       4580.61341997, 4580.61341997, 4416.61659371, 4416.61659371,\n",
       "       4580.61341997, 4416.61659371, 4580.61341997, 4580.61341997,\n",
       "       4580.61341997, 4580.61341997, 4580.61341997, 4580.61341997,\n",
       "       4416.61659371, 4416.61659371, 4580.61341997, 4580.61341997,\n",
       "       4580.61341997, 4580.61341997, 4416.61659371, 4580.61341997,\n",
       "       4580.61341997, 4580.61341997, 4580.61341997, 4580.61341997,\n",
       "       4416.61659371, 4580.61341997, 4416.61659371, 4580.61341997,\n",
       "       4580.61341997, 4580.61341997, 4580.61341997, 4580.61341997,\n",
       "       4416.61659371, 4580.61341997, 4580.61341997, 4416.61659371,\n",
       "       4059.50024624, 4059.50024624, 4059.50024624, 4416.61659371,\n",
       "       4580.61341997, 4580.61341997, 4580.61341997, 4580.61341997,\n",
       "       4580.61341997, 4416.61659371, 4416.61659371, 4416.61659371,\n",
       "       4580.61341997, 4416.61659371, 4416.61659371, 4416.61659371,\n",
       "       4416.61659371, 4416.61659371, 4416.61659371, 4416.61659371,\n",
       "       4416.61659371, 4416.61659371, 4416.61659371, 4580.61341997,\n",
       "       4580.61341997, 4416.61659371, 4416.61659371, 4416.61659371,\n",
       "       4580.61341997, 4580.61341997, 4580.61341997, 4580.61341997,\n",
       "       4580.61341997, 4580.61341997, 4580.61341997, 4416.61659371,\n",
       "       4059.50024624, 4416.61659371, 4416.61659371, 4580.61341997,\n",
       "       4580.61341997, 4580.61341997, 4416.61659371, 4059.50024624,\n",
       "       4580.61341997, 4580.61341997, 4580.61341997, 4580.61341997,\n",
       "       4580.61341997, 4580.61341997, 4416.61659371, 4416.61659371,\n",
       "       4416.61659371, 4059.50024624, 4580.61341997, 4580.61341997,\n",
       "       4580.61341997, 4580.61341997, 4580.61341997, 4416.61659371,\n",
       "       4580.61341997, 4580.61341997, 4580.61341997, 4580.61341997,\n",
       "       4580.61341997, 4416.61659371, 4580.61341997, 4580.61341997,\n",
       "       4580.61341997, 4580.61341997, 4416.61659371, 4059.50024624,\n",
       "       4416.61659371, 4580.61341997, 4580.61341997, 4416.61659371,\n",
       "       4059.50024624, 4059.50024624, 4416.61659371, 4580.61341997,\n",
       "       4580.61341997, 4580.61341997, 4580.61341997, 4580.61341997,\n",
       "       4416.61659371, 4580.61341997, 4580.61341997, 4580.61341997,\n",
       "       4580.61341997, 4580.61341997, 4416.61659371, 4059.50024624,\n",
       "       4059.50024624, 4580.61341997, 4580.61341997, 4580.61341997,\n",
       "       4580.61341997, 4580.61341997, 4580.61341997, 4416.61659371,\n",
       "       4416.61659371, 4416.61659371, 4416.61659371, 4580.61341997,\n",
       "       4580.61341997, 4416.61659371, 4416.61659371, 4416.61659371,\n",
       "       4580.61341997, 4580.61341997, 4580.61341997, 4580.61341997,\n",
       "       4416.61659371, 4580.61341997, 4580.61341997, 4580.61341997,\n",
       "       4580.61341997, 4580.61341997, 4580.61341997, 4580.61341997,\n",
       "       4416.61659371, 4580.61341997, 4580.61341997, 4580.61341997,\n",
       "       4580.61341997, 4416.61659371, 4580.61341997, 4416.61659371,\n",
       "       4416.61659371, 4580.61341997, 4580.61341997, 4580.61341997,\n",
       "       4580.61341997, 4416.61659371, 4580.61341997, 4580.61341997,\n",
       "       4416.61659371, 4416.61659371, 4416.61659371, 4416.61659371,\n",
       "       4580.61341997, 4580.61341997, 4416.61659371, 4416.61659371,\n",
       "       4580.61341997, 4580.61341997, 4580.61341997, 4580.61341997,\n",
       "       4580.61341997, 4416.61659371, 4580.61341997, 4416.61659371,\n",
       "       4416.61659371, 4580.61341997, 4580.61341997, 4416.61659371,\n",
       "       4580.61341997, 4416.61659371, 4059.50024624, 4580.61341997,\n",
       "       4580.61341997, 4416.61659371, 4580.61341997, 4416.61659371,\n",
       "       4580.61341997, 4580.61341997, 4416.61659371, 4580.61341997,\n",
       "       4580.61341997, 4580.61341997, 4580.61341997, 4416.61659371,\n",
       "       4580.61341997, 4580.61341997, 4580.61341997, 4580.61341997,\n",
       "       4416.61659371, 4580.61341997, 4416.61659371, 4416.61659371,\n",
       "       4580.61341997, 4580.61341997, 4580.61341997, 4580.61341997,\n",
       "       4580.61341997, 4416.61659371, 4580.61341997, 4580.61341997,\n",
       "       4580.61341997, 4580.61341997, 4580.61341997, 4580.61341997,\n",
       "       4416.61659371, 4416.61659371, 4416.61659371, 4580.61341997,\n",
       "       4580.61341997, 4416.61659371, 4580.61341997, 4416.61659371,\n",
       "       4416.61659371, 4416.61659371, 4580.61341997, 4580.61341997,\n",
       "       4580.61341997, 4580.61341997, 4416.61659371, 4416.61659371,\n",
       "       4416.61659371, 4580.61341997, 4580.61341997, 4580.61341997,\n",
       "       4580.61341997, 4580.61341997, 4580.61341997, 4580.61341997,\n",
       "       4580.61341997, 4580.61341997, 4580.61341997, 4580.61341997,\n",
       "       4580.61341997, 4580.61341997, 4580.61341997, 4580.61341997,\n",
       "       4580.61341997, 4416.61659371, 4580.61341997, 4580.61341997,\n",
       "       4580.61341997, 4059.50024624, 4416.61659371, 4580.61341997,\n",
       "       4580.61341997, 4416.61659371, 4580.61341997, 4416.61659371,\n",
       "       4580.61341997, 4416.61659371, 4416.61659371, 4580.61341997,\n",
       "       4416.61659371, 4580.61341997, 4416.61659371, 4416.61659371,\n",
       "       4416.61659371, 4416.61659371, 4416.61659371, 4580.61341997,\n",
       "       4580.61341997, 4580.61341997, 4580.61341997, 4416.61659371,\n",
       "       4416.61659371, 4580.61341997, 4580.61341997, 4580.61341997,\n",
       "       4580.61341997, 4580.61341997, 4416.61659371, 4416.61659371,\n",
       "       4416.61659371, 4580.61341997, 4580.61341997, 4580.61341997,\n",
       "       4580.61341997, 4580.61341997, 4580.61341997, 4416.61659371,\n",
       "       4580.61341997, 4416.61659371, 4580.61341997, 4580.61341997,\n",
       "       4580.61341997, 4416.61659371, 4580.61341997, 4580.61341997,\n",
       "       4580.61341997, 4580.61341997, 4580.61341997, 4416.61659371,\n",
       "       4416.61659371, 4580.61341997, 4580.61341997, 4580.61341997,\n",
       "       4580.61341997, 4580.61341997, 4416.61659371, 4580.61341997,\n",
       "       4580.61341997, 4580.61341997, 4580.61341997, 4580.61341997,\n",
       "       4580.61341997, 4580.61341997, 4580.61341997, 4580.61341997,\n",
       "       4580.61341997, 4580.61341997, 4580.61341997, 4580.61341997,\n",
       "       4580.61341997, 4580.61341997, 4580.61341997, 4580.61341997,\n",
       "       4580.61341997, 4580.61341997, 4580.61341997, 4416.61659371,\n",
       "       4416.61659371, 4580.61341997, 4580.61341997, 4416.61659371,\n",
       "       4416.61659371, 4580.61341997, 4580.61341997, 4580.61341997,\n",
       "       4580.61341997, 4580.61341997, 4416.61659371, 4059.50024624,\n",
       "       4416.61659371, 4580.61341997, 4580.61341997, 4580.61341997,\n",
       "       4580.61341997, 4580.61341997, 4580.61341997, 4580.61341997,\n",
       "       4580.61341997, 4580.61341997, 4580.61341997, 4580.61341997,\n",
       "       4416.61659371, 4580.61341997, 4580.61341997, 4416.61659371,\n",
       "       4416.61659371, 4416.61659371, 4580.61341997, 4416.61659371,\n",
       "       4416.61659371, 4580.61341997, 4580.61341997, 4580.61341997,\n",
       "       4580.61341997, 4580.61341997, 4580.61341997, 4580.61341997,\n",
       "       4416.61659371, 4416.61659371, 4580.61341997, 4580.61341997,\n",
       "       4580.61341997, 4416.61659371, 4416.61659371, 4416.61659371,\n",
       "       4580.61341997, 4580.61341997, 4580.61341997, 4580.61341997,\n",
       "       4580.61341997, 4416.61659371, 4416.61659371, 4580.61341997,\n",
       "       4580.61341997, 4580.61341997, 4416.61659371, 4580.61341997,\n",
       "       4416.61659371, 4580.61341997, 4580.61341997, 4580.61341997,\n",
       "       4580.61341997, 4580.61341997, 4580.61341997, 4580.61341997,\n",
       "       4580.61341997, 4416.61659371, 4416.61659371, 4580.61341997,\n",
       "       4580.61341997, 4580.61341997, 4580.61341997, 4580.61341997,\n",
       "       4580.61341997, 4580.61341997, 4580.61341997, 4416.61659371,\n",
       "       4416.61659371, 4580.61341997, 4580.61341997, 4416.61659371,\n",
       "       4059.50024624, 4416.61659371, 4416.61659371, 4580.61341997,\n",
       "       4580.61341997, 4416.61659371, 4416.61659371, 4416.61659371,\n",
       "       4580.61341997, 4580.61341997, 4580.61341997, 4580.61341997,\n",
       "       4580.61341997, 4416.61659371, 4580.61341997, 4580.61341997,\n",
       "       4416.61659371, 4416.61659371, 4580.61341997, 4580.61341997,\n",
       "       4580.61341997, 4580.61341997, 4580.61341997, 4416.61659371,\n",
       "       4416.61659371, 4416.61659371, 4416.61659371, 4059.50024624,\n",
       "       4416.61659371, 4416.61659371, 4416.61659371, 4580.61341997,\n",
       "       4416.61659371, 4580.61341997, 4580.61341997, 4580.61341997,\n",
       "       4416.61659371, 4580.61341997, 4580.61341997, 4580.61341997,\n",
       "       4580.61341997, 4580.61341997, 4416.61659371, 4580.61341997,\n",
       "       4416.61659371, 4580.61341997, 4580.61341997, 4580.61341997,\n",
       "       4416.61659371, 4416.61659371, 4580.61341997, 4580.61341997,\n",
       "       4580.61341997, 4580.61341997, 4580.61341997, 4580.61341997,\n",
       "       4416.61659371, 4580.61341997, 4580.61341997, 4580.61341997,\n",
       "       4416.61659371, 4416.61659371, 4580.61341997, 4580.61341997,\n",
       "       4580.61341997, 4580.61341997, 4416.61659371, 4416.61659371,\n",
       "       4416.61659371, 4416.61659371, 4416.61659371, 4416.61659371,\n",
       "       4580.61341997, 4580.61341997, 4580.61341997, 4416.61659371,\n",
       "       4416.61659371, 4580.61341997, 4580.61341997, 4416.61659371,\n",
       "       4416.61659371, 4580.61341997, 4580.61341997, 4416.61659371,\n",
       "       4416.61659371, 4059.50024624, 4416.61659371, 4416.61659371,\n",
       "       4416.61659371, 4580.61341997, 4416.61659371])"
      ]
     },
     "execution_count": 248,
     "metadata": {},
     "output_type": "execute_result"
    }
   ],
   "source": [
    "PDjk"
   ]
  },
  {
   "cell_type": "code",
   "execution_count": 238,
   "metadata": {},
   "outputs": [
    {
     "data": {
      "text/plain": [
       "(731,)"
      ]
     },
     "execution_count": 238,
     "metadata": {},
     "output_type": "execute_result"
    }
   ],
   "source": [
    "PDjki.shape"
   ]
  },
  {
   "cell_type": "code",
   "execution_count": null,
   "metadata": {},
   "outputs": [],
   "source": []
  },
  {
   "cell_type": "code",
   "execution_count": null,
   "metadata": {},
   "outputs": [],
   "source": []
  },
  {
   "cell_type": "code",
   "execution_count": null,
   "metadata": {},
   "outputs": [],
   "source": [
    "def pdp_fun(X_s, remaining_feature_idxes, rf):\n",
    "    X_s = X_grid\n",
    "x_vals = np.vstack([X]*X_s.shape[0])\n",
    "X_s_repeat = np.repeat(X_s, X.shape[0], axis=0)\n",
    "X_s_repeat.shape\n",
    "x_vals[:, remaining_features] = X_s_repeat"
   ]
  },
  {
   "cell_type": "code",
   "execution_count": 224,
   "metadata": {},
   "outputs": [],
   "source": [
    "def pdp_fun(X_s, X, remaining_features, rf):\n",
    "    x_vals = np.vstack([X]*X_s.shape[0])\n",
    "    X_s_repeat = np.repeat(X_s, X.shape[0], axis=0)\n",
    "    X_s_repeat.shape\n",
    "    x_vals[:, remaining_features] = X_s_repeat\n",
    "    y_vals = rf.predict(x_vals)\n",
    "    y_out = np.mean(y_vals.reshape(-1, X.shape[0]), axis=1)\n",
    "    #x_vals = x_vals[:, remaining_features].reshape(X.shape[0], X_s.shape[0])\n",
    "    return X_grid, y_out"
   ]
  },
  {
   "cell_type": "code",
   "execution_count": 228,
   "metadata": {},
   "outputs": [
    {
     "data": {
      "text/plain": [
       "array([1916.91534884, 1914.79333789, 1786.06905609, 2521.70425445,\n",
       "       2438.58641587, 2273.03221614, 4002.66694938, 3762.86139535,\n",
       "       3166.64216142, 3995.45422709, 3742.42790698, 3147.93463748,\n",
       "       3902.23831737, 3634.2452394 , 3134.35506156, 3981.41058824,\n",
       "       3706.86934337, 3202.91264022, 5463.01841313, 5372.82161423,\n",
       "       5123.30140903, 5723.07333789, 5557.61824897, 5310.83232558,\n",
       "       5869.88889193, 5720.18300958, 5486.86164159, 5114.4546238 ,\n",
       "       5042.43493844, 4937.71651163])"
      ]
     },
     "execution_count": 228,
     "metadata": {},
     "output_type": "execute_result"
    }
   ],
   "source": [
    "y_out"
   ]
  },
  {
   "cell_type": "code",
   "execution_count": 226,
   "metadata": {},
   "outputs": [
    {
     "data": {
      "text/plain": [
       "(30, 2)"
      ]
     },
     "execution_count": 226,
     "metadata": {},
     "output_type": "execute_result"
    }
   ],
   "source": [
    "x_out.shape"
   ]
  },
  {
   "cell_type": "code",
   "execution_count": 219,
   "metadata": {},
   "outputs": [
    {
     "data": {
      "text/plain": [
       "array([0., 1., 2., 0., 1., 2., 0., 1., 2., 0., 1., 2., 0., 1., 2., 0., 1.,\n",
       "       2., 0., 1., 2., 0., 1., 2., 0., 1., 2., 0., 1., 2.])"
      ]
     },
     "execution_count": 219,
     "metadata": {},
     "output_type": "execute_result"
    }
   ],
   "source": [
    "x_vals[:, remaining_features[0]].reshape(-1, X.shape[0])[:, 0]"
   ]
  },
  {
   "cell_type": "code",
   "execution_count": 223,
   "metadata": {},
   "outputs": [
    {
     "data": {
      "text/plain": [
       "array([0., 1., 2., 0., 1., 2., 0., 1., 2., 0., 1., 2., 0., 1., 2., 0., 1.,\n",
       "       2., 0., 1., 2., 0., 1., 2., 0., 1., 2., 0., 1., 2.])"
      ]
     },
     "execution_count": 223,
     "metadata": {},
     "output_type": "execute_result"
    }
   ],
   "source": [
    "X_s[:, 0]"
   ]
  },
  {
   "cell_type": "code",
   "execution_count": 217,
   "metadata": {},
   "outputs": [
    {
     "data": {
      "text/plain": [
       "array([0., 0., 0., 0., 0., 0., 0., 0., 0., 0., 0., 0., 0., 0., 0., 0., 0.,\n",
       "       0., 0., 0., 0., 0., 0., 0., 0., 0., 0., 0., 0., 0.])"
      ]
     },
     "execution_count": 217,
     "metadata": {},
     "output_type": "execute_result"
    }
   ],
   "source": [
    "x_vals[:, remaining_features[0]].reshape(X.shape[0], -1)[1, :]"
   ]
  },
  {
   "cell_type": "code",
   "execution_count": 212,
   "metadata": {},
   "outputs": [
    {
     "data": {
      "text/plain": [
       "array([1103.09, 1033.93, 1456.99, ..., 1291.66, 1924.13, 2211.1 ])"
      ]
     },
     "execution_count": 212,
     "metadata": {},
     "output_type": "execute_result"
    }
   ],
   "source": [
    "y_vals"
   ]
  },
  {
   "cell_type": "code",
   "execution_count": 204,
   "metadata": {},
   "outputs": [
    {
     "data": {
      "text/plain": [
       "(21930,)"
      ]
     },
     "execution_count": 204,
     "metadata": {},
     "output_type": "execute_result"
    }
   ],
   "source": [
    "y_vals.shape"
   ]
  },
  {
   "cell_type": "code",
   "execution_count": 197,
   "metadata": {},
   "outputs": [
    {
     "data": {
      "text/plain": [
       "(731, 30, 2)"
      ]
     },
     "execution_count": 197,
     "metadata": {},
     "output_type": "execute_result"
    }
   ],
   "source": [
    "X_s_repeat.reshape((X.shape[0], X_s.shape[0], -1)).shape"
   ]
  },
  {
   "cell_type": "code",
   "execution_count": 203,
   "metadata": {},
   "outputs": [
    {
     "data": {
      "text/plain": [
       "array([[  0.        ,   0.        ],\n",
       "       [  1.        ,   0.        ],\n",
       "       [  2.        ,   0.        ],\n",
       "       [  0.        ,  81.11111111],\n",
       "       [  1.        ,  81.11111111],\n",
       "       [  2.        ,  81.11111111],\n",
       "       [  0.        , 162.22222222],\n",
       "       [  1.        , 162.22222222],\n",
       "       [  2.        , 162.22222222],\n",
       "       [  0.        , 243.33333333],\n",
       "       [  1.        , 243.33333333],\n",
       "       [  2.        , 243.33333333],\n",
       "       [  0.        , 324.44444444],\n",
       "       [  1.        , 324.44444444],\n",
       "       [  2.        , 324.44444444],\n",
       "       [  0.        , 405.55555556],\n",
       "       [  1.        , 405.55555556],\n",
       "       [  2.        , 405.55555556],\n",
       "       [  0.        , 486.66666667],\n",
       "       [  1.        , 486.66666667],\n",
       "       [  2.        , 486.66666667],\n",
       "       [  0.        , 567.77777778],\n",
       "       [  1.        , 567.77777778],\n",
       "       [  2.        , 567.77777778],\n",
       "       [  0.        , 648.88888889],\n",
       "       [  1.        , 648.88888889],\n",
       "       [  2.        , 648.88888889],\n",
       "       [  0.        , 730.        ],\n",
       "       [  1.        , 730.        ],\n",
       "       [  2.        , 730.        ]])"
      ]
     },
     "execution_count": 203,
     "metadata": {},
     "output_type": "execute_result"
    }
   ],
   "source": [
    "X_s_repeat.reshape((X_s.shape[0], -1,  X.shape[0]))[:, :, 0]"
   ]
  },
  {
   "cell_type": "code",
   "execution_count": 191,
   "metadata": {},
   "outputs": [
    {
     "data": {
      "text/plain": [
       "array([4038.19974008, 4017.16473324, 4029.07376197, 4049.51187415,\n",
       "       4024.86571819, 4031.46005472, 4039.64153215, 4040.14206566,\n",
       "       4054.57502052, 4043.9229275 , 4036.87744186, 4043.03343365,\n",
       "       4019.78073871, 4027.04616963, 4046.83497948, 4031.53633379,\n",
       "       4021.87053352, 4024.11811218, 4018.27493844, 4033.14980848,\n",
       "       4019.54336525, 4029.39083447, 4038.62519836, 4013.87875513,\n",
       "       4027.19228454, 4036.66671683, 4028.4972093 , 4031.17876881,\n",
       "       4030.26651163, 4027.00450068])"
      ]
     },
     "execution_count": 191,
     "metadata": {},
     "output_type": "execute_result"
    }
   ],
   "source": [
    "X_"
   ]
  },
  {
   "cell_type": "code",
   "execution_count": 187,
   "metadata": {},
   "outputs": [
    {
     "data": {
      "text/plain": [
       "array([4038.19974008, 4017.16473324, 4029.07376197, 4049.51187415,\n",
       "       4024.86571819, 4031.46005472, 4039.64153215, 4040.14206566,\n",
       "       4054.57502052, 4043.9229275 , 4036.87744186, 4043.03343365,\n",
       "       4019.78073871, 4027.04616963, 4046.83497948, 4031.53633379,\n",
       "       4021.87053352, 4024.11811218, 4018.27493844, 4033.14980848,\n",
       "       4019.54336525, 4029.39083447, 4038.62519836, 4013.87875513,\n",
       "       4027.19228454, 4036.66671683, 4028.4972093 , 4031.17876881,\n",
       "       4030.26651163, 4027.00450068])"
      ]
     },
     "execution_count": 187,
     "metadata": {},
     "output_type": "execute_result"
    }
   ],
   "source": [
    "y_vals"
   ]
  },
  {
   "cell_type": "code",
   "execution_count": 189,
   "metadata": {},
   "outputs": [
    {
     "data": {
      "text/plain": [
       "(30, 2)"
      ]
     },
     "execution_count": 189,
     "metadata": {},
     "output_type": "execute_result"
    }
   ],
   "source": [
    "X_s.shape"
   ]
  },
  {
   "cell_type": "code",
   "execution_count": null,
   "metadata": {},
   "outputs": [],
   "source": []
  },
  {
   "cell_type": "code",
   "execution_count": null,
   "metadata": {},
   "outputs": [],
   "source": []
  },
  {
   "cell_type": "code",
   "execution_count": 183,
   "metadata": {},
   "outputs": [
    {
     "data": {
      "text/plain": [
       "(731,)"
      ]
     },
     "execution_count": 183,
     "metadata": {},
     "output_type": "execute_result"
    }
   ],
   "source": [
    "y_vals.shape\n"
   ]
  },
  {
   "cell_type": "code",
   "execution_count": null,
   "metadata": {},
   "outputs": [],
   "source": []
  },
  {
   "cell_type": "code",
   "execution_count": 179,
   "metadata": {},
   "outputs": [
    {
     "data": {
      "text/plain": [
       "array([[  0.,   0.],\n",
       "       [  0.,   0.],\n",
       "       [  0.,   0.],\n",
       "       ...,\n",
       "       [  2., 730.],\n",
       "       [  2., 730.],\n",
       "       [  2., 730.]])"
      ]
     },
     "execution_count": 179,
     "metadata": {},
     "output_type": "execute_result"
    }
   ],
   "source": [
    "tst = x_vals[:, remaining_features].reshape((X.shape[0], X_s.shape[0], -1))\n",
    "tst[:, 0, :]"
   ]
  },
  {
   "cell_type": "code",
   "execution_count": 178,
   "metadata": {},
   "outputs": [
    {
     "data": {
      "text/plain": [
       "array([[  0.,   0.],\n",
       "       [  0.,   0.],\n",
       "       [  0.,   0.],\n",
       "       ...,\n",
       "       [  2., 730.],\n",
       "       [  2., 730.],\n",
       "       [  2., 730.]])"
      ]
     },
     "execution_count": 178,
     "metadata": {},
     "output_type": "execute_result"
    }
   ],
   "source": [
    "tst[:, 1, :]"
   ]
  },
  {
   "cell_type": "code",
   "execution_count": 174,
   "metadata": {},
   "outputs": [
    {
     "ename": "SyntaxError",
     "evalue": "invalid syntax (<ipython-input-174-b93cbd757567>, line 1)",
     "output_type": "error",
     "traceback": [
      "\u001b[0;36m  File \u001b[0;32m\"<ipython-input-174-b93cbd757567>\"\u001b[0;36m, line \u001b[0;32m1\u001b[0m\n\u001b[0;31m    tst = x_vals[:, remaining_features].reshape((X.shape[0],:, :))\u001b[0m\n\u001b[0m                                                            ^\u001b[0m\n\u001b[0;31mSyntaxError\u001b[0m\u001b[0;31m:\u001b[0m invalid syntax\n"
     ]
    }
   ],
   "source": [
    "tst = x_vals[:, remaining_features].reshape((X.shape[0],:, -1))\n",
    "tst.shape"
   ]
  },
  {
   "cell_type": "code",
   "execution_count": 173,
   "metadata": {},
   "outputs": [
    {
     "data": {
      "text/plain": [
       "array([[  0.,   0.],\n",
       "       [  1.,   0.],\n",
       "       [  1.,   0.],\n",
       "       ...,\n",
       "       [  2., 730.],\n",
       "       [  2., 730.],\n",
       "       [  2., 730.]])"
      ]
     },
     "execution_count": 173,
     "metadata": {},
     "output_type": "execute_result"
    }
   ],
   "source": [
    "x_vals[:, remaining_features][X.shape[0]-1:,]"
   ]
  },
  {
   "cell_type": "code",
   "execution_count": 159,
   "metadata": {},
   "outputs": [
    {
     "data": {
      "text/plain": [
       "21930"
      ]
     },
     "execution_count": 159,
     "metadata": {},
     "output_type": "execute_result"
    }
   ],
   "source": [
    "731*30"
   ]
  },
  {
   "cell_type": "code",
   "execution_count": 152,
   "metadata": {},
   "outputs": [
    {
     "data": {
      "text/plain": [
       "(21930, 12)"
      ]
     },
     "execution_count": 152,
     "metadata": {},
     "output_type": "execute_result"
    }
   ],
   "source": [
    "x_vals.shape"
   ]
  },
  {
   "cell_type": "code",
   "execution_count": 150,
   "metadata": {},
   "outputs": [
    {
     "data": {
      "text/plain": [
       "(731, 30)"
      ]
     },
     "execution_count": 150,
     "metadata": {},
     "output_type": "execute_result"
    }
   ],
   "source": [
    "y_vals.shape"
   ]
  },
  {
   "cell_type": "code",
   "execution_count": 147,
   "metadata": {},
   "outputs": [
    {
     "data": {
      "text/plain": [
       "(21930,)"
      ]
     },
     "execution_count": 147,
     "metadata": {},
     "output_type": "execute_result"
    }
   ],
   "source": [
    "\n"
   ]
  },
  {
   "cell_type": "code",
   "execution_count": null,
   "metadata": {},
   "outputs": [],
   "source": [
    "y_"
   ]
  },
  {
   "cell_type": "code",
   "execution_count": null,
   "metadata": {},
   "outputs": [],
   "source": [
    "np.mean(y_vals.)"
   ]
  },
  {
   "cell_type": "code",
   "execution_count": null,
   "metadata": {},
   "outputs": [],
   "source": [
    "def pdp_plot(X, rf, feature_no, feature_name, y_name, multiplier=100):\n",
    "    feat_sort_idx = X[:, feature_no].argsort()\n",
    "    X = X[feat_sort_idx, :]\n",
    "    n = X.shape[0]\n",
    "    x_vals = np.vstack([X]*n)\n",
    "    x_vals[:, feature_no] = np.repeat(X[:, feature_no], n)\n",
    "    y_vals = rf.predict(x_vals)\n",
    "    x_vals = np.mean(x_vals[:, feature_no].reshape((n, n)), axis=-1)\n",
    "    y_vals = np.mean(y_vals.reshape(n, n), axis=-1)\n",
    "    plt.xlabel(feature_name)\n",
    "    plt.ylabel(y_name)\n",
    "    return plt.scatter(x_vals, y_vals)"
   ]
  },
  {
   "cell_type": "code",
   "execution_count": null,
   "metadata": {},
   "outputs": [],
   "source": [
    "    feat_sort_idx = X[:, feature_no].argsort()\n",
    "    X = X[feat_sort_idx, :]\n",
    "    n = X.shape[0]\n",
    "    x_vals = np.vstack([X]*n)\n",
    "    x_vals[:, feature_no] = np.repeat(X[:, feature_no], n)\n",
    "    y_vals = rf.predict(x_vals)\n",
    "    x_vals = np.mean(x_vals[:, feature_no].reshape((n, n)), axis=-1)\n",
    "    y_vals = np.mean(y_vals.reshape(n, n), axis=-1)\n",
    "    plt.xlabel(feature_name)\n",
    "    plt.ylabel(y_name)\n",
    "    return plt.scatter(x_vals, y_vals)"
   ]
  },
  {
   "cell_type": "code",
   "execution_count": null,
   "metadata": {},
   "outputs": [],
   "source": [
    "remaining_feature_idxes = [0, 1]\n"
   ]
  },
  {
   "cell_type": "code",
   "execution_count": null,
   "metadata": {},
   "outputs": [],
   "source": [
    "X_s = "
   ]
  },
  {
   "cell_type": "code",
   "execution_count": 86,
   "metadata": {},
   "outputs": [
    {
     "data": {
      "text/html": [
       "<div>\n",
       "<style scoped>\n",
       "    .dataframe tbody tr th:only-of-type {\n",
       "        vertical-align: middle;\n",
       "    }\n",
       "\n",
       "    .dataframe tbody tr th {\n",
       "        vertical-align: top;\n",
       "    }\n",
       "\n",
       "    .dataframe thead th {\n",
       "        text-align: right;\n",
       "    }\n",
       "</style>\n",
       "<table border=\"1\" class=\"dataframe\">\n",
       "  <thead>\n",
       "    <tr style=\"text-align: right;\">\n",
       "      <th></th>\n",
       "      <th>season</th>\n",
       "      <th>yr</th>\n",
       "      <th>mnth</th>\n",
       "      <th>holiday</th>\n",
       "      <th>weekday</th>\n",
       "      <th>workingday</th>\n",
       "      <th>weathersit</th>\n",
       "      <th>temp</th>\n",
       "      <th>hum</th>\n",
       "      <th>windspeed</th>\n",
       "      <th>cnt</th>\n",
       "      <th>days_since_2011</th>\n",
       "      <th>randvec</th>\n",
       "    </tr>\n",
       "  </thead>\n",
       "  <tbody>\n",
       "    <tr>\n",
       "      <th>0</th>\n",
       "      <td>1.0</td>\n",
       "      <td>2011</td>\n",
       "      <td>4.0</td>\n",
       "      <td>1.0</td>\n",
       "      <td>2.0</td>\n",
       "      <td>0.0</td>\n",
       "      <td>1.0</td>\n",
       "      <td>8.175849</td>\n",
       "      <td>80.5833</td>\n",
       "      <td>10.749882</td>\n",
       "      <td>985</td>\n",
       "      <td>0</td>\n",
       "      <td>0.923669</td>\n",
       "    </tr>\n",
       "    <tr>\n",
       "      <th>1</th>\n",
       "      <td>1.0</td>\n",
       "      <td>2011</td>\n",
       "      <td>4.0</td>\n",
       "      <td>1.0</td>\n",
       "      <td>3.0</td>\n",
       "      <td>0.0</td>\n",
       "      <td>1.0</td>\n",
       "      <td>9.083466</td>\n",
       "      <td>69.6087</td>\n",
       "      <td>16.652113</td>\n",
       "      <td>801</td>\n",
       "      <td>1</td>\n",
       "      <td>0.176058</td>\n",
       "    </tr>\n",
       "    <tr>\n",
       "      <th>2</th>\n",
       "      <td>1.0</td>\n",
       "      <td>2011</td>\n",
       "      <td>4.0</td>\n",
       "      <td>1.0</td>\n",
       "      <td>1.0</td>\n",
       "      <td>1.0</td>\n",
       "      <td>0.0</td>\n",
       "      <td>1.229108</td>\n",
       "      <td>43.7273</td>\n",
       "      <td>16.636703</td>\n",
       "      <td>1349</td>\n",
       "      <td>2</td>\n",
       "      <td>0.973536</td>\n",
       "    </tr>\n",
       "    <tr>\n",
       "      <th>3</th>\n",
       "      <td>1.0</td>\n",
       "      <td>2011</td>\n",
       "      <td>4.0</td>\n",
       "      <td>1.0</td>\n",
       "      <td>5.0</td>\n",
       "      <td>1.0</td>\n",
       "      <td>0.0</td>\n",
       "      <td>1.400000</td>\n",
       "      <td>59.0435</td>\n",
       "      <td>10.739832</td>\n",
       "      <td>1562</td>\n",
       "      <td>3</td>\n",
       "      <td>0.565118</td>\n",
       "    </tr>\n",
       "    <tr>\n",
       "      <th>4</th>\n",
       "      <td>1.0</td>\n",
       "      <td>2011</td>\n",
       "      <td>4.0</td>\n",
       "      <td>1.0</td>\n",
       "      <td>6.0</td>\n",
       "      <td>1.0</td>\n",
       "      <td>0.0</td>\n",
       "      <td>2.666979</td>\n",
       "      <td>43.6957</td>\n",
       "      <td>12.522300</td>\n",
       "      <td>1600</td>\n",
       "      <td>4</td>\n",
       "      <td>0.096779</td>\n",
       "    </tr>\n",
       "    <tr>\n",
       "      <th>5</th>\n",
       "      <td>1.0</td>\n",
       "      <td>2011</td>\n",
       "      <td>4.0</td>\n",
       "      <td>1.0</td>\n",
       "      <td>4.0</td>\n",
       "      <td>1.0</td>\n",
       "      <td>0.0</td>\n",
       "      <td>1.604356</td>\n",
       "      <td>51.8261</td>\n",
       "      <td>6.000868</td>\n",
       "      <td>1606</td>\n",
       "      <td>5</td>\n",
       "      <td>0.740248</td>\n",
       "    </tr>\n",
       "    <tr>\n",
       "      <th>6</th>\n",
       "      <td>1.0</td>\n",
       "      <td>2011</td>\n",
       "      <td>4.0</td>\n",
       "      <td>1.0</td>\n",
       "      <td>0.0</td>\n",
       "      <td>1.0</td>\n",
       "      <td>1.0</td>\n",
       "      <td>1.236534</td>\n",
       "      <td>49.8696</td>\n",
       "      <td>11.304642</td>\n",
       "      <td>1510</td>\n",
       "      <td>6</td>\n",
       "      <td>0.153401</td>\n",
       "    </tr>\n",
       "    <tr>\n",
       "      <th>7</th>\n",
       "      <td>1.0</td>\n",
       "      <td>2011</td>\n",
       "      <td>4.0</td>\n",
       "      <td>1.0</td>\n",
       "      <td>2.0</td>\n",
       "      <td>0.0</td>\n",
       "      <td>1.0</td>\n",
       "      <td>-0.245000</td>\n",
       "      <td>53.5833</td>\n",
       "      <td>17.875868</td>\n",
       "      <td>959</td>\n",
       "      <td>7</td>\n",
       "      <td>0.215108</td>\n",
       "    </tr>\n",
       "    <tr>\n",
       "      <th>8</th>\n",
       "      <td>1.0</td>\n",
       "      <td>2011</td>\n",
       "      <td>4.0</td>\n",
       "      <td>1.0</td>\n",
       "      <td>3.0</td>\n",
       "      <td>0.0</td>\n",
       "      <td>0.0</td>\n",
       "      <td>-1.498349</td>\n",
       "      <td>43.4167</td>\n",
       "      <td>24.250650</td>\n",
       "      <td>822</td>\n",
       "      <td>8</td>\n",
       "      <td>0.744442</td>\n",
       "    </tr>\n",
       "    <tr>\n",
       "      <th>9</th>\n",
       "      <td>1.0</td>\n",
       "      <td>2011</td>\n",
       "      <td>4.0</td>\n",
       "      <td>1.0</td>\n",
       "      <td>1.0</td>\n",
       "      <td>1.0</td>\n",
       "      <td>0.0</td>\n",
       "      <td>-0.910849</td>\n",
       "      <td>48.2917</td>\n",
       "      <td>14.958889</td>\n",
       "      <td>1321</td>\n",
       "      <td>9</td>\n",
       "      <td>0.538851</td>\n",
       "    </tr>\n",
       "    <tr>\n",
       "      <th>10</th>\n",
       "      <td>1.0</td>\n",
       "      <td>2011</td>\n",
       "      <td>4.0</td>\n",
       "      <td>1.0</td>\n",
       "      <td>5.0</td>\n",
       "      <td>1.0</td>\n",
       "      <td>1.0</td>\n",
       "      <td>-0.052723</td>\n",
       "      <td>68.6364</td>\n",
       "      <td>8.182844</td>\n",
       "      <td>1263</td>\n",
       "      <td>10</td>\n",
       "      <td>0.270049</td>\n",
       "    </tr>\n",
       "    <tr>\n",
       "      <th>11</th>\n",
       "      <td>1.0</td>\n",
       "      <td>2011</td>\n",
       "      <td>4.0</td>\n",
       "      <td>1.0</td>\n",
       "      <td>6.0</td>\n",
       "      <td>1.0</td>\n",
       "      <td>0.0</td>\n",
       "      <td>0.118169</td>\n",
       "      <td>59.9545</td>\n",
       "      <td>20.410009</td>\n",
       "      <td>1162</td>\n",
       "      <td>11</td>\n",
       "      <td>0.783489</td>\n",
       "    </tr>\n",
       "    <tr>\n",
       "      <th>12</th>\n",
       "      <td>1.0</td>\n",
       "      <td>2011</td>\n",
       "      <td>4.0</td>\n",
       "      <td>1.0</td>\n",
       "      <td>4.0</td>\n",
       "      <td>1.0</td>\n",
       "      <td>0.0</td>\n",
       "      <td>-0.245000</td>\n",
       "      <td>47.0417</td>\n",
       "      <td>20.167000</td>\n",
       "      <td>1406</td>\n",
       "      <td>12</td>\n",
       "      <td>0.958637</td>\n",
       "    </tr>\n",
       "    <tr>\n",
       "      <th>13</th>\n",
       "      <td>1.0</td>\n",
       "      <td>2011</td>\n",
       "      <td>4.0</td>\n",
       "      <td>1.0</td>\n",
       "      <td>0.0</td>\n",
       "      <td>1.0</td>\n",
       "      <td>0.0</td>\n",
       "      <td>-0.439110</td>\n",
       "      <td>53.7826</td>\n",
       "      <td>8.478716</td>\n",
       "      <td>1421</td>\n",
       "      <td>13</td>\n",
       "      <td>0.210367</td>\n",
       "    </tr>\n",
       "    <tr>\n",
       "      <th>14</th>\n",
       "      <td>1.0</td>\n",
       "      <td>2011</td>\n",
       "      <td>4.0</td>\n",
       "      <td>1.0</td>\n",
       "      <td>2.0</td>\n",
       "      <td>0.0</td>\n",
       "      <td>1.0</td>\n",
       "      <td>2.966651</td>\n",
       "      <td>49.8750</td>\n",
       "      <td>10.583521</td>\n",
       "      <td>1248</td>\n",
       "      <td>14</td>\n",
       "      <td>0.443830</td>\n",
       "    </tr>\n",
       "    <tr>\n",
       "      <th>15</th>\n",
       "      <td>1.0</td>\n",
       "      <td>2011</td>\n",
       "      <td>4.0</td>\n",
       "      <td>1.0</td>\n",
       "      <td>3.0</td>\n",
       "      <td>0.0</td>\n",
       "      <td>0.0</td>\n",
       "      <td>2.888349</td>\n",
       "      <td>48.3750</td>\n",
       "      <td>12.625011</td>\n",
       "      <td>1204</td>\n",
       "      <td>15</td>\n",
       "      <td>0.312133</td>\n",
       "    </tr>\n",
       "    <tr>\n",
       "      <th>16</th>\n",
       "      <td>1.0</td>\n",
       "      <td>2011</td>\n",
       "      <td>4.0</td>\n",
       "      <td>0.0</td>\n",
       "      <td>1.0</td>\n",
       "      <td>0.0</td>\n",
       "      <td>1.0</td>\n",
       "      <td>0.264151</td>\n",
       "      <td>53.7500</td>\n",
       "      <td>12.999139</td>\n",
       "      <td>1000</td>\n",
       "      <td>16</td>\n",
       "      <td>0.872597</td>\n",
       "    </tr>\n",
       "    <tr>\n",
       "      <th>17</th>\n",
       "      <td>1.0</td>\n",
       "      <td>2011</td>\n",
       "      <td>4.0</td>\n",
       "      <td>1.0</td>\n",
       "      <td>5.0</td>\n",
       "      <td>1.0</td>\n",
       "      <td>1.0</td>\n",
       "      <td>2.183349</td>\n",
       "      <td>86.1667</td>\n",
       "      <td>9.833925</td>\n",
       "      <td>683</td>\n",
       "      <td>17</td>\n",
       "      <td>0.691618</td>\n",
       "    </tr>\n",
       "    <tr>\n",
       "      <th>18</th>\n",
       "      <td>1.0</td>\n",
       "      <td>2011</td>\n",
       "      <td>4.0</td>\n",
       "      <td>1.0</td>\n",
       "      <td>6.0</td>\n",
       "      <td>1.0</td>\n",
       "      <td>1.0</td>\n",
       "      <td>5.732178</td>\n",
       "      <td>74.1739</td>\n",
       "      <td>13.957239</td>\n",
       "      <td>1650</td>\n",
       "      <td>18</td>\n",
       "      <td>0.123414</td>\n",
       "    </tr>\n",
       "    <tr>\n",
       "      <th>19</th>\n",
       "      <td>1.0</td>\n",
       "      <td>2011</td>\n",
       "      <td>4.0</td>\n",
       "      <td>1.0</td>\n",
       "      <td>4.0</td>\n",
       "      <td>1.0</td>\n",
       "      <td>1.0</td>\n",
       "      <td>4.298349</td>\n",
       "      <td>53.8333</td>\n",
       "      <td>13.125568</td>\n",
       "      <td>1927</td>\n",
       "      <td>19</td>\n",
       "      <td>0.163285</td>\n",
       "    </tr>\n",
       "    <tr>\n",
       "      <th>20</th>\n",
       "      <td>1.0</td>\n",
       "      <td>2011</td>\n",
       "      <td>4.0</td>\n",
       "      <td>1.0</td>\n",
       "      <td>0.0</td>\n",
       "      <td>1.0</td>\n",
       "      <td>0.0</td>\n",
       "      <td>0.342500</td>\n",
       "      <td>45.7083</td>\n",
       "      <td>23.667214</td>\n",
       "      <td>1543</td>\n",
       "      <td>20</td>\n",
       "      <td>0.290112</td>\n",
       "    </tr>\n",
       "    <tr>\n",
       "      <th>21</th>\n",
       "      <td>1.0</td>\n",
       "      <td>2011</td>\n",
       "      <td>4.0</td>\n",
       "      <td>1.0</td>\n",
       "      <td>2.0</td>\n",
       "      <td>0.0</td>\n",
       "      <td>0.0</td>\n",
       "      <td>-5.220871</td>\n",
       "      <td>40.0000</td>\n",
       "      <td>11.521990</td>\n",
       "      <td>981</td>\n",
       "      <td>21</td>\n",
       "      <td>0.316621</td>\n",
       "    </tr>\n",
       "    <tr>\n",
       "      <th>22</th>\n",
       "      <td>1.0</td>\n",
       "      <td>2011</td>\n",
       "      <td>4.0</td>\n",
       "      <td>1.0</td>\n",
       "      <td>3.0</td>\n",
       "      <td>0.0</td>\n",
       "      <td>0.0</td>\n",
       "      <td>-3.463480</td>\n",
       "      <td>43.6522</td>\n",
       "      <td>16.522200</td>\n",
       "      <td>986</td>\n",
       "      <td>22</td>\n",
       "      <td>0.009520</td>\n",
       "    </tr>\n",
       "    <tr>\n",
       "      <th>23</th>\n",
       "      <td>1.0</td>\n",
       "      <td>2011</td>\n",
       "      <td>4.0</td>\n",
       "      <td>1.0</td>\n",
       "      <td>1.0</td>\n",
       "      <td>1.0</td>\n",
       "      <td>0.0</td>\n",
       "      <td>-3.422609</td>\n",
       "      <td>49.1739</td>\n",
       "      <td>10.608110</td>\n",
       "      <td>1416</td>\n",
       "      <td>23</td>\n",
       "      <td>0.274160</td>\n",
       "    </tr>\n",
       "    <tr>\n",
       "      <th>24</th>\n",
       "      <td>1.0</td>\n",
       "      <td>2011</td>\n",
       "      <td>4.0</td>\n",
       "      <td>1.0</td>\n",
       "      <td>5.0</td>\n",
       "      <td>1.0</td>\n",
       "      <td>1.0</td>\n",
       "      <td>2.503466</td>\n",
       "      <td>61.6957</td>\n",
       "      <td>8.696332</td>\n",
       "      <td>1985</td>\n",
       "      <td>24</td>\n",
       "      <td>0.631385</td>\n",
       "    </tr>\n",
       "    <tr>\n",
       "      <th>25</th>\n",
       "      <td>1.0</td>\n",
       "      <td>2011</td>\n",
       "      <td>4.0</td>\n",
       "      <td>1.0</td>\n",
       "      <td>6.0</td>\n",
       "      <td>1.0</td>\n",
       "      <td>2.0</td>\n",
       "      <td>2.222500</td>\n",
       "      <td>86.2500</td>\n",
       "      <td>19.687950</td>\n",
       "      <td>506</td>\n",
       "      <td>25</td>\n",
       "      <td>0.314897</td>\n",
       "    </tr>\n",
       "    <tr>\n",
       "      <th>26</th>\n",
       "      <td>1.0</td>\n",
       "      <td>2011</td>\n",
       "      <td>4.0</td>\n",
       "      <td>1.0</td>\n",
       "      <td>4.0</td>\n",
       "      <td>1.0</td>\n",
       "      <td>0.0</td>\n",
       "      <td>1.165000</td>\n",
       "      <td>68.7500</td>\n",
       "      <td>7.627079</td>\n",
       "      <td>431</td>\n",
       "      <td>26</td>\n",
       "      <td>0.386018</td>\n",
       "    </tr>\n",
       "    <tr>\n",
       "      <th>27</th>\n",
       "      <td>1.0</td>\n",
       "      <td>2011</td>\n",
       "      <td>4.0</td>\n",
       "      <td>1.0</td>\n",
       "      <td>0.0</td>\n",
       "      <td>1.0</td>\n",
       "      <td>1.0</td>\n",
       "      <td>1.563466</td>\n",
       "      <td>79.3043</td>\n",
       "      <td>8.261100</td>\n",
       "      <td>1167</td>\n",
       "      <td>27</td>\n",
       "      <td>0.094866</td>\n",
       "    </tr>\n",
       "    <tr>\n",
       "      <th>28</th>\n",
       "      <td>1.0</td>\n",
       "      <td>2011</td>\n",
       "      <td>4.0</td>\n",
       "      <td>1.0</td>\n",
       "      <td>2.0</td>\n",
       "      <td>0.0</td>\n",
       "      <td>0.0</td>\n",
       "      <td>1.236534</td>\n",
       "      <td>65.1739</td>\n",
       "      <td>9.739455</td>\n",
       "      <td>1098</td>\n",
       "      <td>28</td>\n",
       "      <td>0.177110</td>\n",
       "    </tr>\n",
       "    <tr>\n",
       "      <th>29</th>\n",
       "      <td>1.0</td>\n",
       "      <td>2011</td>\n",
       "      <td>4.0</td>\n",
       "      <td>1.0</td>\n",
       "      <td>3.0</td>\n",
       "      <td>0.0</td>\n",
       "      <td>0.0</td>\n",
       "      <td>2.176534</td>\n",
       "      <td>72.2174</td>\n",
       "      <td>4.956834</td>\n",
       "      <td>1096</td>\n",
       "      <td>29</td>\n",
       "      <td>0.574912</td>\n",
       "    </tr>\n",
       "    <tr>\n",
       "      <th>...</th>\n",
       "      <td>...</td>\n",
       "      <td>...</td>\n",
       "      <td>...</td>\n",
       "      <td>...</td>\n",
       "      <td>...</td>\n",
       "      <td>...</td>\n",
       "      <td>...</td>\n",
       "      <td>...</td>\n",
       "      <td>...</td>\n",
       "      <td>...</td>\n",
       "      <td>...</td>\n",
       "      <td>...</td>\n",
       "      <td>...</td>\n",
       "    </tr>\n",
       "    <tr>\n",
       "      <th>701</th>\n",
       "      <td>3.0</td>\n",
       "      <td>2012</td>\n",
       "      <td>2.0</td>\n",
       "      <td>1.0</td>\n",
       "      <td>3.0</td>\n",
       "      <td>0.0</td>\n",
       "      <td>1.0</td>\n",
       "      <td>8.332500</td>\n",
       "      <td>82.3333</td>\n",
       "      <td>8.333393</td>\n",
       "      <td>4649</td>\n",
       "      <td>701</td>\n",
       "      <td>0.682787</td>\n",
       "    </tr>\n",
       "    <tr>\n",
       "      <th>702</th>\n",
       "      <td>3.0</td>\n",
       "      <td>2012</td>\n",
       "      <td>2.0</td>\n",
       "      <td>1.0</td>\n",
       "      <td>1.0</td>\n",
       "      <td>1.0</td>\n",
       "      <td>0.0</td>\n",
       "      <td>13.267500</td>\n",
       "      <td>76.7500</td>\n",
       "      <td>5.542294</td>\n",
       "      <td>6234</td>\n",
       "      <td>702</td>\n",
       "      <td>0.386575</td>\n",
       "    </tr>\n",
       "    <tr>\n",
       "      <th>703</th>\n",
       "      <td>3.0</td>\n",
       "      <td>2012</td>\n",
       "      <td>2.0</td>\n",
       "      <td>1.0</td>\n",
       "      <td>5.0</td>\n",
       "      <td>1.0</td>\n",
       "      <td>0.0</td>\n",
       "      <td>14.364151</td>\n",
       "      <td>73.3750</td>\n",
       "      <td>11.666643</td>\n",
       "      <td>6606</td>\n",
       "      <td>703</td>\n",
       "      <td>0.133915</td>\n",
       "    </tr>\n",
       "    <tr>\n",
       "      <th>704</th>\n",
       "      <td>3.0</td>\n",
       "      <td>2012</td>\n",
       "      <td>2.0</td>\n",
       "      <td>1.0</td>\n",
       "      <td>6.0</td>\n",
       "      <td>1.0</td>\n",
       "      <td>0.0</td>\n",
       "      <td>12.601651</td>\n",
       "      <td>48.5000</td>\n",
       "      <td>21.709407</td>\n",
       "      <td>5729</td>\n",
       "      <td>704</td>\n",
       "      <td>0.756224</td>\n",
       "    </tr>\n",
       "    <tr>\n",
       "      <th>705</th>\n",
       "      <td>3.0</td>\n",
       "      <td>2012</td>\n",
       "      <td>2.0</td>\n",
       "      <td>1.0</td>\n",
       "      <td>4.0</td>\n",
       "      <td>1.0</td>\n",
       "      <td>0.0</td>\n",
       "      <td>4.024151</td>\n",
       "      <td>50.8750</td>\n",
       "      <td>11.708518</td>\n",
       "      <td>5375</td>\n",
       "      <td>705</td>\n",
       "      <td>0.481511</td>\n",
       "    </tr>\n",
       "    <tr>\n",
       "      <th>706</th>\n",
       "      <td>3.0</td>\n",
       "      <td>2012</td>\n",
       "      <td>2.0</td>\n",
       "      <td>1.0</td>\n",
       "      <td>0.0</td>\n",
       "      <td>1.0</td>\n",
       "      <td>1.0</td>\n",
       "      <td>7.079151</td>\n",
       "      <td>76.4167</td>\n",
       "      <td>8.750200</td>\n",
       "      <td>5008</td>\n",
       "      <td>706</td>\n",
       "      <td>0.401596</td>\n",
       "    </tr>\n",
       "    <tr>\n",
       "      <th>707</th>\n",
       "      <td>3.0</td>\n",
       "      <td>2012</td>\n",
       "      <td>2.0</td>\n",
       "      <td>1.0</td>\n",
       "      <td>2.0</td>\n",
       "      <td>0.0</td>\n",
       "      <td>1.0</td>\n",
       "      <td>9.938349</td>\n",
       "      <td>91.1250</td>\n",
       "      <td>6.792393</td>\n",
       "      <td>5582</td>\n",
       "      <td>707</td>\n",
       "      <td>0.038953</td>\n",
       "    </tr>\n",
       "    <tr>\n",
       "      <th>708</th>\n",
       "      <td>3.0</td>\n",
       "      <td>2012</td>\n",
       "      <td>2.0</td>\n",
       "      <td>1.0</td>\n",
       "      <td>3.0</td>\n",
       "      <td>0.0</td>\n",
       "      <td>1.0</td>\n",
       "      <td>10.055849</td>\n",
       "      <td>90.5417</td>\n",
       "      <td>10.584325</td>\n",
       "      <td>3228</td>\n",
       "      <td>708</td>\n",
       "      <td>0.485930</td>\n",
       "    </tr>\n",
       "    <tr>\n",
       "      <th>709</th>\n",
       "      <td>3.0</td>\n",
       "      <td>2012</td>\n",
       "      <td>2.0</td>\n",
       "      <td>1.0</td>\n",
       "      <td>1.0</td>\n",
       "      <td>1.0</td>\n",
       "      <td>1.0</td>\n",
       "      <td>12.484151</td>\n",
       "      <td>92.5000</td>\n",
       "      <td>12.750636</td>\n",
       "      <td>5170</td>\n",
       "      <td>709</td>\n",
       "      <td>0.121002</td>\n",
       "    </tr>\n",
       "    <tr>\n",
       "      <th>710</th>\n",
       "      <td>3.0</td>\n",
       "      <td>2012</td>\n",
       "      <td>2.0</td>\n",
       "      <td>1.0</td>\n",
       "      <td>5.0</td>\n",
       "      <td>1.0</td>\n",
       "      <td>1.0</td>\n",
       "      <td>8.606651</td>\n",
       "      <td>59.6667</td>\n",
       "      <td>19.834479</td>\n",
       "      <td>5501</td>\n",
       "      <td>710</td>\n",
       "      <td>0.203764</td>\n",
       "    </tr>\n",
       "    <tr>\n",
       "      <th>711</th>\n",
       "      <td>3.0</td>\n",
       "      <td>2012</td>\n",
       "      <td>2.0</td>\n",
       "      <td>1.0</td>\n",
       "      <td>6.0</td>\n",
       "      <td>1.0</td>\n",
       "      <td>1.0</td>\n",
       "      <td>5.982500</td>\n",
       "      <td>53.8333</td>\n",
       "      <td>10.916779</td>\n",
       "      <td>5319</td>\n",
       "      <td>711</td>\n",
       "      <td>0.746969</td>\n",
       "    </tr>\n",
       "    <tr>\n",
       "      <th>712</th>\n",
       "      <td>3.0</td>\n",
       "      <td>2012</td>\n",
       "      <td>2.0</td>\n",
       "      <td>1.0</td>\n",
       "      <td>4.0</td>\n",
       "      <td>1.0</td>\n",
       "      <td>0.0</td>\n",
       "      <td>5.904151</td>\n",
       "      <td>48.5833</td>\n",
       "      <td>11.666643</td>\n",
       "      <td>5532</td>\n",
       "      <td>712</td>\n",
       "      <td>0.020225</td>\n",
       "    </tr>\n",
       "    <tr>\n",
       "      <th>713</th>\n",
       "      <td>3.0</td>\n",
       "      <td>2012</td>\n",
       "      <td>2.0</td>\n",
       "      <td>1.0</td>\n",
       "      <td>0.0</td>\n",
       "      <td>1.0</td>\n",
       "      <td>0.0</td>\n",
       "      <td>5.238349</td>\n",
       "      <td>64.2917</td>\n",
       "      <td>8.792343</td>\n",
       "      <td>5611</td>\n",
       "      <td>713</td>\n",
       "      <td>0.296834</td>\n",
       "    </tr>\n",
       "    <tr>\n",
       "      <th>714</th>\n",
       "      <td>3.0</td>\n",
       "      <td>2012</td>\n",
       "      <td>2.0</td>\n",
       "      <td>1.0</td>\n",
       "      <td>2.0</td>\n",
       "      <td>0.0</td>\n",
       "      <td>0.0</td>\n",
       "      <td>7.235849</td>\n",
       "      <td>65.0417</td>\n",
       "      <td>7.125450</td>\n",
       "      <td>5047</td>\n",
       "      <td>714</td>\n",
       "      <td>0.221477</td>\n",
       "    </tr>\n",
       "    <tr>\n",
       "      <th>715</th>\n",
       "      <td>3.0</td>\n",
       "      <td>2012</td>\n",
       "      <td>2.0</td>\n",
       "      <td>1.0</td>\n",
       "      <td>3.0</td>\n",
       "      <td>0.0</td>\n",
       "      <td>1.0</td>\n",
       "      <td>9.037500</td>\n",
       "      <td>83.8750</td>\n",
       "      <td>6.749714</td>\n",
       "      <td>3786</td>\n",
       "      <td>715</td>\n",
       "      <td>0.094023</td>\n",
       "    </tr>\n",
       "    <tr>\n",
       "      <th>716</th>\n",
       "      <td>3.0</td>\n",
       "      <td>2012</td>\n",
       "      <td>2.0</td>\n",
       "      <td>1.0</td>\n",
       "      <td>1.0</td>\n",
       "      <td>1.0</td>\n",
       "      <td>1.0</td>\n",
       "      <td>10.486651</td>\n",
       "      <td>90.7083</td>\n",
       "      <td>6.583306</td>\n",
       "      <td>4585</td>\n",
       "      <td>716</td>\n",
       "      <td>0.399788</td>\n",
       "    </tr>\n",
       "    <tr>\n",
       "      <th>717</th>\n",
       "      <td>3.0</td>\n",
       "      <td>2012</td>\n",
       "      <td>2.0</td>\n",
       "      <td>1.0</td>\n",
       "      <td>5.0</td>\n",
       "      <td>1.0</td>\n",
       "      <td>0.0</td>\n",
       "      <td>11.309151</td>\n",
       "      <td>66.6250</td>\n",
       "      <td>14.834068</td>\n",
       "      <td>5557</td>\n",
       "      <td>717</td>\n",
       "      <td>0.551232</td>\n",
       "    </tr>\n",
       "    <tr>\n",
       "      <th>718</th>\n",
       "      <td>3.0</td>\n",
       "      <td>2012</td>\n",
       "      <td>2.0</td>\n",
       "      <td>1.0</td>\n",
       "      <td>6.0</td>\n",
       "      <td>1.0</td>\n",
       "      <td>0.0</td>\n",
       "      <td>7.627500</td>\n",
       "      <td>62.5417</td>\n",
       "      <td>12.334164</td>\n",
       "      <td>5267</td>\n",
       "      <td>718</td>\n",
       "      <td>0.038079</td>\n",
       "    </tr>\n",
       "    <tr>\n",
       "      <th>719</th>\n",
       "      <td>3.0</td>\n",
       "      <td>2012</td>\n",
       "      <td>2.0</td>\n",
       "      <td>1.0</td>\n",
       "      <td>4.0</td>\n",
       "      <td>1.0</td>\n",
       "      <td>1.0</td>\n",
       "      <td>7.510000</td>\n",
       "      <td>66.7917</td>\n",
       "      <td>8.875021</td>\n",
       "      <td>4128</td>\n",
       "      <td>719</td>\n",
       "      <td>0.412022</td>\n",
       "    </tr>\n",
       "    <tr>\n",
       "      <th>720</th>\n",
       "      <td>1.0</td>\n",
       "      <td>2012</td>\n",
       "      <td>2.0</td>\n",
       "      <td>1.0</td>\n",
       "      <td>0.0</td>\n",
       "      <td>1.0</td>\n",
       "      <td>1.0</td>\n",
       "      <td>7.353349</td>\n",
       "      <td>55.6667</td>\n",
       "      <td>25.083661</td>\n",
       "      <td>3623</td>\n",
       "      <td>720</td>\n",
       "      <td>0.896913</td>\n",
       "    </tr>\n",
       "    <tr>\n",
       "      <th>721</th>\n",
       "      <td>1.0</td>\n",
       "      <td>2012</td>\n",
       "      <td>2.0</td>\n",
       "      <td>1.0</td>\n",
       "      <td>2.0</td>\n",
       "      <td>0.0</td>\n",
       "      <td>0.0</td>\n",
       "      <td>4.494151</td>\n",
       "      <td>44.1250</td>\n",
       "      <td>27.292182</td>\n",
       "      <td>1749</td>\n",
       "      <td>721</td>\n",
       "      <td>0.507854</td>\n",
       "    </tr>\n",
       "    <tr>\n",
       "      <th>722</th>\n",
       "      <td>1.0</td>\n",
       "      <td>2012</td>\n",
       "      <td>2.0</td>\n",
       "      <td>1.0</td>\n",
       "      <td>3.0</td>\n",
       "      <td>0.0</td>\n",
       "      <td>0.0</td>\n",
       "      <td>3.554151</td>\n",
       "      <td>51.5417</td>\n",
       "      <td>8.916561</td>\n",
       "      <td>1787</td>\n",
       "      <td>722</td>\n",
       "      <td>0.804120</td>\n",
       "    </tr>\n",
       "    <tr>\n",
       "      <th>723</th>\n",
       "      <td>1.0</td>\n",
       "      <td>2012</td>\n",
       "      <td>2.0</td>\n",
       "      <td>1.0</td>\n",
       "      <td>1.0</td>\n",
       "      <td>1.0</td>\n",
       "      <td>1.0</td>\n",
       "      <td>2.871288</td>\n",
       "      <td>79.1304</td>\n",
       "      <td>5.174437</td>\n",
       "      <td>920</td>\n",
       "      <td>723</td>\n",
       "      <td>0.674705</td>\n",
       "    </tr>\n",
       "    <tr>\n",
       "      <th>724</th>\n",
       "      <td>1.0</td>\n",
       "      <td>2012</td>\n",
       "      <td>2.0</td>\n",
       "      <td>0.0</td>\n",
       "      <td>5.0</td>\n",
       "      <td>0.0</td>\n",
       "      <td>1.0</td>\n",
       "      <td>5.691288</td>\n",
       "      <td>73.4783</td>\n",
       "      <td>11.304642</td>\n",
       "      <td>1013</td>\n",
       "      <td>724</td>\n",
       "      <td>0.038787</td>\n",
       "    </tr>\n",
       "    <tr>\n",
       "      <th>725</th>\n",
       "      <td>1.0</td>\n",
       "      <td>2012</td>\n",
       "      <td>2.0</td>\n",
       "      <td>1.0</td>\n",
       "      <td>6.0</td>\n",
       "      <td>1.0</td>\n",
       "      <td>2.0</td>\n",
       "      <td>3.436651</td>\n",
       "      <td>82.3333</td>\n",
       "      <td>21.208582</td>\n",
       "      <td>441</td>\n",
       "      <td>725</td>\n",
       "      <td>0.583935</td>\n",
       "    </tr>\n",
       "    <tr>\n",
       "      <th>726</th>\n",
       "      <td>1.0</td>\n",
       "      <td>2012</td>\n",
       "      <td>2.0</td>\n",
       "      <td>1.0</td>\n",
       "      <td>4.0</td>\n",
       "      <td>1.0</td>\n",
       "      <td>1.0</td>\n",
       "      <td>3.945849</td>\n",
       "      <td>65.2917</td>\n",
       "      <td>23.458911</td>\n",
       "      <td>2114</td>\n",
       "      <td>726</td>\n",
       "      <td>0.298654</td>\n",
       "    </tr>\n",
       "    <tr>\n",
       "      <th>727</th>\n",
       "      <td>1.0</td>\n",
       "      <td>2012</td>\n",
       "      <td>2.0</td>\n",
       "      <td>1.0</td>\n",
       "      <td>0.0</td>\n",
       "      <td>1.0</td>\n",
       "      <td>1.0</td>\n",
       "      <td>3.906651</td>\n",
       "      <td>59.0000</td>\n",
       "      <td>10.416557</td>\n",
       "      <td>3095</td>\n",
       "      <td>727</td>\n",
       "      <td>0.863744</td>\n",
       "    </tr>\n",
       "    <tr>\n",
       "      <th>728</th>\n",
       "      <td>1.0</td>\n",
       "      <td>2012</td>\n",
       "      <td>2.0</td>\n",
       "      <td>1.0</td>\n",
       "      <td>2.0</td>\n",
       "      <td>0.0</td>\n",
       "      <td>1.0</td>\n",
       "      <td>3.906651</td>\n",
       "      <td>75.2917</td>\n",
       "      <td>8.333661</td>\n",
       "      <td>1341</td>\n",
       "      <td>728</td>\n",
       "      <td>0.703040</td>\n",
       "    </tr>\n",
       "    <tr>\n",
       "      <th>729</th>\n",
       "      <td>1.0</td>\n",
       "      <td>2012</td>\n",
       "      <td>2.0</td>\n",
       "      <td>1.0</td>\n",
       "      <td>3.0</td>\n",
       "      <td>0.0</td>\n",
       "      <td>0.0</td>\n",
       "      <td>4.024151</td>\n",
       "      <td>48.3333</td>\n",
       "      <td>23.500518</td>\n",
       "      <td>1796</td>\n",
       "      <td>729</td>\n",
       "      <td>0.559124</td>\n",
       "    </tr>\n",
       "    <tr>\n",
       "      <th>730</th>\n",
       "      <td>1.0</td>\n",
       "      <td>2012</td>\n",
       "      <td>2.0</td>\n",
       "      <td>1.0</td>\n",
       "      <td>1.0</td>\n",
       "      <td>1.0</td>\n",
       "      <td>1.0</td>\n",
       "      <td>2.144151</td>\n",
       "      <td>57.7500</td>\n",
       "      <td>10.374682</td>\n",
       "      <td>2729</td>\n",
       "      <td>730</td>\n",
       "      <td>0.994958</td>\n",
       "    </tr>\n",
       "  </tbody>\n",
       "</table>\n",
       "<p>731 rows × 13 columns</p>\n",
       "</div>"
      ],
      "text/plain": [
       "     season    yr  mnth  holiday  weekday  workingday  weathersit       temp  \\\n",
       "0       1.0  2011   4.0      1.0      2.0         0.0         1.0   8.175849   \n",
       "1       1.0  2011   4.0      1.0      3.0         0.0         1.0   9.083466   \n",
       "2       1.0  2011   4.0      1.0      1.0         1.0         0.0   1.229108   \n",
       "3       1.0  2011   4.0      1.0      5.0         1.0         0.0   1.400000   \n",
       "4       1.0  2011   4.0      1.0      6.0         1.0         0.0   2.666979   \n",
       "5       1.0  2011   4.0      1.0      4.0         1.0         0.0   1.604356   \n",
       "6       1.0  2011   4.0      1.0      0.0         1.0         1.0   1.236534   \n",
       "7       1.0  2011   4.0      1.0      2.0         0.0         1.0  -0.245000   \n",
       "8       1.0  2011   4.0      1.0      3.0         0.0         0.0  -1.498349   \n",
       "9       1.0  2011   4.0      1.0      1.0         1.0         0.0  -0.910849   \n",
       "10      1.0  2011   4.0      1.0      5.0         1.0         1.0  -0.052723   \n",
       "11      1.0  2011   4.0      1.0      6.0         1.0         0.0   0.118169   \n",
       "12      1.0  2011   4.0      1.0      4.0         1.0         0.0  -0.245000   \n",
       "13      1.0  2011   4.0      1.0      0.0         1.0         0.0  -0.439110   \n",
       "14      1.0  2011   4.0      1.0      2.0         0.0         1.0   2.966651   \n",
       "15      1.0  2011   4.0      1.0      3.0         0.0         0.0   2.888349   \n",
       "16      1.0  2011   4.0      0.0      1.0         0.0         1.0   0.264151   \n",
       "17      1.0  2011   4.0      1.0      5.0         1.0         1.0   2.183349   \n",
       "18      1.0  2011   4.0      1.0      6.0         1.0         1.0   5.732178   \n",
       "19      1.0  2011   4.0      1.0      4.0         1.0         1.0   4.298349   \n",
       "20      1.0  2011   4.0      1.0      0.0         1.0         0.0   0.342500   \n",
       "21      1.0  2011   4.0      1.0      2.0         0.0         0.0  -5.220871   \n",
       "22      1.0  2011   4.0      1.0      3.0         0.0         0.0  -3.463480   \n",
       "23      1.0  2011   4.0      1.0      1.0         1.0         0.0  -3.422609   \n",
       "24      1.0  2011   4.0      1.0      5.0         1.0         1.0   2.503466   \n",
       "25      1.0  2011   4.0      1.0      6.0         1.0         2.0   2.222500   \n",
       "26      1.0  2011   4.0      1.0      4.0         1.0         0.0   1.165000   \n",
       "27      1.0  2011   4.0      1.0      0.0         1.0         1.0   1.563466   \n",
       "28      1.0  2011   4.0      1.0      2.0         0.0         0.0   1.236534   \n",
       "29      1.0  2011   4.0      1.0      3.0         0.0         0.0   2.176534   \n",
       "..      ...   ...   ...      ...      ...         ...         ...        ...   \n",
       "701     3.0  2012   2.0      1.0      3.0         0.0         1.0   8.332500   \n",
       "702     3.0  2012   2.0      1.0      1.0         1.0         0.0  13.267500   \n",
       "703     3.0  2012   2.0      1.0      5.0         1.0         0.0  14.364151   \n",
       "704     3.0  2012   2.0      1.0      6.0         1.0         0.0  12.601651   \n",
       "705     3.0  2012   2.0      1.0      4.0         1.0         0.0   4.024151   \n",
       "706     3.0  2012   2.0      1.0      0.0         1.0         1.0   7.079151   \n",
       "707     3.0  2012   2.0      1.0      2.0         0.0         1.0   9.938349   \n",
       "708     3.0  2012   2.0      1.0      3.0         0.0         1.0  10.055849   \n",
       "709     3.0  2012   2.0      1.0      1.0         1.0         1.0  12.484151   \n",
       "710     3.0  2012   2.0      1.0      5.0         1.0         1.0   8.606651   \n",
       "711     3.0  2012   2.0      1.0      6.0         1.0         1.0   5.982500   \n",
       "712     3.0  2012   2.0      1.0      4.0         1.0         0.0   5.904151   \n",
       "713     3.0  2012   2.0      1.0      0.0         1.0         0.0   5.238349   \n",
       "714     3.0  2012   2.0      1.0      2.0         0.0         0.0   7.235849   \n",
       "715     3.0  2012   2.0      1.0      3.0         0.0         1.0   9.037500   \n",
       "716     3.0  2012   2.0      1.0      1.0         1.0         1.0  10.486651   \n",
       "717     3.0  2012   2.0      1.0      5.0         1.0         0.0  11.309151   \n",
       "718     3.0  2012   2.0      1.0      6.0         1.0         0.0   7.627500   \n",
       "719     3.0  2012   2.0      1.0      4.0         1.0         1.0   7.510000   \n",
       "720     1.0  2012   2.0      1.0      0.0         1.0         1.0   7.353349   \n",
       "721     1.0  2012   2.0      1.0      2.0         0.0         0.0   4.494151   \n",
       "722     1.0  2012   2.0      1.0      3.0         0.0         0.0   3.554151   \n",
       "723     1.0  2012   2.0      1.0      1.0         1.0         1.0   2.871288   \n",
       "724     1.0  2012   2.0      0.0      5.0         0.0         1.0   5.691288   \n",
       "725     1.0  2012   2.0      1.0      6.0         1.0         2.0   3.436651   \n",
       "726     1.0  2012   2.0      1.0      4.0         1.0         1.0   3.945849   \n",
       "727     1.0  2012   2.0      1.0      0.0         1.0         1.0   3.906651   \n",
       "728     1.0  2012   2.0      1.0      2.0         0.0         1.0   3.906651   \n",
       "729     1.0  2012   2.0      1.0      3.0         0.0         0.0   4.024151   \n",
       "730     1.0  2012   2.0      1.0      1.0         1.0         1.0   2.144151   \n",
       "\n",
       "         hum  windspeed   cnt  days_since_2011   randvec  \n",
       "0    80.5833  10.749882   985                0  0.923669  \n",
       "1    69.6087  16.652113   801                1  0.176058  \n",
       "2    43.7273  16.636703  1349                2  0.973536  \n",
       "3    59.0435  10.739832  1562                3  0.565118  \n",
       "4    43.6957  12.522300  1600                4  0.096779  \n",
       "5    51.8261   6.000868  1606                5  0.740248  \n",
       "6    49.8696  11.304642  1510                6  0.153401  \n",
       "7    53.5833  17.875868   959                7  0.215108  \n",
       "8    43.4167  24.250650   822                8  0.744442  \n",
       "9    48.2917  14.958889  1321                9  0.538851  \n",
       "10   68.6364   8.182844  1263               10  0.270049  \n",
       "11   59.9545  20.410009  1162               11  0.783489  \n",
       "12   47.0417  20.167000  1406               12  0.958637  \n",
       "13   53.7826   8.478716  1421               13  0.210367  \n",
       "14   49.8750  10.583521  1248               14  0.443830  \n",
       "15   48.3750  12.625011  1204               15  0.312133  \n",
       "16   53.7500  12.999139  1000               16  0.872597  \n",
       "17   86.1667   9.833925   683               17  0.691618  \n",
       "18   74.1739  13.957239  1650               18  0.123414  \n",
       "19   53.8333  13.125568  1927               19  0.163285  \n",
       "20   45.7083  23.667214  1543               20  0.290112  \n",
       "21   40.0000  11.521990   981               21  0.316621  \n",
       "22   43.6522  16.522200   986               22  0.009520  \n",
       "23   49.1739  10.608110  1416               23  0.274160  \n",
       "24   61.6957   8.696332  1985               24  0.631385  \n",
       "25   86.2500  19.687950   506               25  0.314897  \n",
       "26   68.7500   7.627079   431               26  0.386018  \n",
       "27   79.3043   8.261100  1167               27  0.094866  \n",
       "28   65.1739   9.739455  1098               28  0.177110  \n",
       "29   72.2174   4.956834  1096               29  0.574912  \n",
       "..       ...        ...   ...              ...       ...  \n",
       "701  82.3333   8.333393  4649              701  0.682787  \n",
       "702  76.7500   5.542294  6234              702  0.386575  \n",
       "703  73.3750  11.666643  6606              703  0.133915  \n",
       "704  48.5000  21.709407  5729              704  0.756224  \n",
       "705  50.8750  11.708518  5375              705  0.481511  \n",
       "706  76.4167   8.750200  5008              706  0.401596  \n",
       "707  91.1250   6.792393  5582              707  0.038953  \n",
       "708  90.5417  10.584325  3228              708  0.485930  \n",
       "709  92.5000  12.750636  5170              709  0.121002  \n",
       "710  59.6667  19.834479  5501              710  0.203764  \n",
       "711  53.8333  10.916779  5319              711  0.746969  \n",
       "712  48.5833  11.666643  5532              712  0.020225  \n",
       "713  64.2917   8.792343  5611              713  0.296834  \n",
       "714  65.0417   7.125450  5047              714  0.221477  \n",
       "715  83.8750   6.749714  3786              715  0.094023  \n",
       "716  90.7083   6.583306  4585              716  0.399788  \n",
       "717  66.6250  14.834068  5557              717  0.551232  \n",
       "718  62.5417  12.334164  5267              718  0.038079  \n",
       "719  66.7917   8.875021  4128              719  0.412022  \n",
       "720  55.6667  25.083661  3623              720  0.896913  \n",
       "721  44.1250  27.292182  1749              721  0.507854  \n",
       "722  51.5417   8.916561  1787              722  0.804120  \n",
       "723  79.1304   5.174437   920              723  0.674705  \n",
       "724  73.4783  11.304642  1013              724  0.038787  \n",
       "725  82.3333  21.208582   441              725  0.583935  \n",
       "726  65.2917  23.458911  2114              726  0.298654  \n",
       "727  59.0000  10.416557  3095              727  0.863744  \n",
       "728  75.2917   8.333661  1341              728  0.703040  \n",
       "729  48.3333  23.500518  1796              729  0.559124  \n",
       "730  57.7500  10.374682  2729              730  0.994958  \n",
       "\n",
       "[731 rows x 13 columns]"
      ]
     },
     "execution_count": 86,
     "metadata": {},
     "output_type": "execute_result"
    }
   ],
   "source": [
    "bike"
   ]
  },
  {
   "cell_type": "code",
   "execution_count": 79,
   "metadata": {},
   "outputs": [
    {
     "data": {
      "text/plain": [
       "(584,)"
      ]
     },
     "execution_count": 79,
     "metadata": {},
     "output_type": "execute_result"
    }
   ],
   "source": [
    "y_vals.shape"
   ]
  },
  {
   "cell_type": "code",
   "execution_count": 68,
   "metadata": {},
   "outputs": [
    {
     "data": {
      "text/plain": [
       "(341056, 12)"
      ]
     },
     "execution_count": 68,
     "metadata": {},
     "output_type": "execute_result"
    }
   ],
   "source": [
    "x_vals.shape"
   ]
  },
  {
   "cell_type": "code",
   "execution_count": 69,
   "metadata": {},
   "outputs": [
    {
     "data": {
      "text/plain": [
       "(341056,)"
      ]
     },
     "execution_count": 69,
     "metadata": {},
     "output_type": "execute_result"
    }
   ],
   "source": [
    "y_vals.shape"
   ]
  },
  {
   "cell_type": "code",
   "execution_count": 75,
   "metadata": {},
   "outputs": [
    {
     "data": {
      "text/plain": [
       "(584, 12)"
      ]
     },
     "execution_count": 75,
     "metadata": {},
     "output_type": "execute_result"
    }
   ],
   "source": [
    "np.mean(x_vals.reshape((X.shape[0], X.shape[1], X.shape[0])), axis=-1).shape"
   ]
  },
  {
   "cell_type": "code",
   "execution_count": 44,
   "metadata": {},
   "outputs": [
    {
     "data": {
      "text/plain": [
       "(584, 12, 1)"
      ]
     },
     "execution_count": 44,
     "metadata": {},
     "output_type": "execute_result"
    }
   ],
   "source": [
    "np.expand_dims(X, axis=-1).shape"
   ]
  },
  {
   "cell_type": "code",
   "execution_count": 41,
   "metadata": {},
   "outputs": [
    {
     "data": {
      "text/plain": [
       "(584, 12)"
      ]
     },
     "execution_count": 41,
     "metadata": {},
     "output_type": "execute_result"
    }
   ],
   "source": [
    "X.shape"
   ]
  },
  {
   "cell_type": "code",
   "execution_count": 45,
   "metadata": {},
   "outputs": [
    {
     "data": {
      "text/plain": [
       "(584, 12, 584)"
      ]
     },
     "execution_count": 45,
     "metadata": {},
     "output_type": "execute_result"
    }
   ],
   "source": [
    "np.dstack([X]*X.shape[0])"
   ]
  },
  {
   "cell_type": "code",
   "execution_count": 61,
   "metadata": {},
   "outputs": [
    {
     "data": {
      "text/plain": [
       "array([3, 3, 3, 6, 6, 6])"
      ]
     },
     "execution_count": 61,
     "metadata": {},
     "output_type": "execute_result"
    }
   ],
   "source": [
    "X_t = np.array([[1, 2, 3], [4, 5, 6]])\n",
    "X_test = np.vstack([X_t]*3)\n",
    "np.repeat(X_t[:, 2], 3)\n"
   ]
  },
  {
   "cell_type": "code",
   "execution_count": null,
   "metadata": {},
   "outputs": [],
   "source": [
    "    n = X.shape[0]\n",
    "    sim_num = n*multiplier\n",
    "    sims = [np.expand_dims(np.random.choice(X[:, i], sim_num), axis=1)\n",
    "            for i in range(X.shape[1])]\n",
    "    sims = np.concatenate(sims, axis=1)\n",
    "    sims[:, feature_no] = np.repeat(X[:, feature_no], multiplier)\n",
    "    y_sims = rf.predict(sims)\n",
    "    x_val = np.mean(sims[:, feature_no].reshape((n, multiplier)), axis=1)\n",
    "    y_val = np.mean(y_sims.reshape((n, multiplier)), axis=1)\n",
    "    plt.xlabel(feature_name)\n",
    "    plt.ylabel(y_name)\n",
    "    return plt.scatter(x_val, y_val)"
   ]
  },
  {
   "cell_type": "code",
   "execution_count": 258,
   "metadata": {},
   "outputs": [
    {
     "data": {
      "image/png": "[encoded data removed]",
      "text/plain": [
       "<Figure size 360x576 with 1 Axes>"
      ]
     },
     "metadata": {
      "needs_background": "light"
     },
     "output_type": "display_data"
    },
    {
     "data": {
      "image/png": "[encoded data removed]",
      "text/plain": [
       "<Figure size 360x576 with 1 Axes>"
      ]
     },
     "metadata": {
      "needs_background": "light"
     },
     "output_type": "display_data"
    },
    {
     "data": {
      "image/png": "[encoded data removed]",
      "text/plain": [
       "<Figure size 360x576 with 1 Axes>"
      ]
     },
     "metadata": {
      "needs_background": "light"
     },
     "output_type": "display_data"
    },
    {
     "data": {
      "image/png": "[encoded data removed]",
      "text/plain": [
       "<Figure size 360x576 with 1 Axes>"
      ]
     },
     "metadata": {
      "needs_background": "light"
     },
     "output_type": "display_data"
    },
    {
     "data": {
      "image/png": "[encoded data removed]",
      "text/plain": [
       "<Figure size 360x576 with 1 Axes>"
      ]
     },
     "metadata": {
      "needs_background": "light"
     },
     "output_type": "display_data"
    }
   ],
   "source": [
    "def pdp_plot(X, rf, feature_no, feature_name, y_name, multiplier=100):\n",
    "    n = X.shape[0]\n",
    "    sim_num = n*multiplier\n",
    "    sims = [np.expand_dims(np.random.choice(X[:, i], sim_num), axis=1)\n",
    "            for i in range(X.shape[1])]\n",
    "    sims = np.concatenate(sims, axis=1)\n",
    "    sims[:, feature_no] = np.repeat(X[:, feature_no], multiplier)\n",
    "    y_sims = rf.predict(sims)\n",
    "    x_val = np.mean(sims[:, feature_no].reshape((n, multiplier)), axis=1)\n",
    "    y_val = np.mean(y_sims.reshape((n, multiplier)), axis=1)\n",
    "    plt.xlabel(feature_name)\n",
    "    plt.ylabel(y_name)\n",
    "    return plt.scatter(x_val, y_val)\n",
    "\n",
    "for i, _ in enumerate(feature_names):\n",
    "    plt.figure(figsize=(5,8))\n",
    "    plt.subplot(len(feature_names), 1, i+1)\n",
    "    plt.tight_layout()\n",
    "    pdp_plot(X, rf, features[i], feature_names[i], \n",
    "          y_name = 'Bike Count')"
   ]
  },
  {
   "cell_type": "code",
   "execution_count": 259,
   "metadata": {},
   "outputs": [
    {
     "data": {
      "image/png": "[encoded data removed]",
      "text/plain": [
       "<Figure size 432x288 with 1 Axes>"
      ]
     },
     "metadata": {
      "needs_background": "light"
     },
     "output_type": "display_data"
    }
   ],
   "source": [
    "plot_dicts = {feature_names[i]: pdp_plot(X, rf, f, feature_names[i], \n",
    "          'Bike Count') for i, f in enumerate(features)}"
   ]
  }
 ],
 "metadata": {
  "kernelspec": {
   "display_name": "Python 3",
   "language": "python",
   "name": "python3"
  },
  "language_info": {
   "codemirror_mode": {
    "name": "ipython",
    "version": 3
   },
   "file_extension": ".py",
   "mimetype": "text/x-python",
   "name": "python",
   "nbconvert_exporter": "python",
   "pygments_lexer": "ipython3",
   "version": "3.5.2"
  }
 },
 "nbformat": 4,
 "nbformat_minor": 2
}
